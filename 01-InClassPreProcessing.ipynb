{
 "cells": [
  {
   "cell_type": "code",
   "id": "35659905-641f-467b-816e-4c591f089483",
   "metadata": {
    "tags": [],
    "ExecuteTime": {
     "end_time": "2024-05-15T20:20:51.421552Z",
     "start_time": "2024-05-15T20:20:49.974304Z"
    }
   },
   "source": [
    "import pandas as pd\n",
    "import numpy as np\n",
    "import matplotlib.pyplot as plt\n",
    "from html.parser import HTMLParser #https://docs.python.org/3/library/html.parser.html\n",
    "from bs4 import BeautifulSoup\n",
    "import time"
   ],
   "outputs": [],
   "execution_count": 1
  },
  {
   "cell_type": "code",
   "id": "49221c13-58b9-48bf-889e-cb67585cedfd",
   "metadata": {
    "tags": [],
    "ExecuteTime": {
     "end_time": "2024-05-15T20:22:00.762935Z",
     "start_time": "2024-05-15T20:22:00.753759Z"
    }
   },
   "source": [
    "time.time()"
   ],
   "outputs": [
    {
     "data": {
      "text/plain": [
       "1715804520.7558348"
      ]
     },
     "execution_count": 2,
     "metadata": {},
     "output_type": "execute_result"
    }
   ],
   "execution_count": 2
  },
  {
   "cell_type": "code",
   "id": "ee543a3d-1156-4c95-a98b-698fc357e1c6",
   "metadata": {
    "tags": [],
    "ExecuteTime": {
     "end_time": "2024-05-15T20:22:06.207612Z",
     "start_time": "2024-05-15T20:22:01.870924Z"
    }
   },
   "source": [
    "df = pd.read_pickle('webdata_27.pkl') # put in the path for your labels - file here\n",
    "df_eye = pd.read_csv(\"test.csv\") # Enter your eye tracking csv here\n",
    "df_time = pd.read_csv(\"test_time.csv\")  # Enter you eye tracking time csv here\n",
    "\n",
    "# TODO: convert all timestamps to UNIX\n",
    "# Bring first timestamp to 0"
   ],
   "outputs": [],
   "execution_count": 3
  },
  {
   "metadata": {
    "jupyter": {
     "is_executing": true
    }
   },
   "cell_type": "code",
   "source": "df.head()",
   "id": "e68c9a8e0e6d369c",
   "outputs": [],
   "execution_count": null
  },
  {
   "metadata": {},
   "cell_type": "code",
   "outputs": [],
   "execution_count": null,
   "source": "",
   "id": "e41ff1fa2d23b82c"
  },
  {
   "cell_type": "code",
   "execution_count": 6,
   "id": "c1c6b985-9f41-4fa0-bbb3-a0b87f5a39b8",
   "metadata": {},
   "outputs": [
    {
     "data": {
      "text/plain": [
       "0      1713773645549\n",
       "1      1713773654449\n",
       "2      1713773656081\n",
       "3      1713773658491\n",
       "4      1713773662019\n",
       "           ...      \n",
       "794    1713776499934\n",
       "795    1713776501064\n",
       "796    1713776504945\n",
       "797    1713776506166\n",
       "798    1713776508580\n",
       "Name: CurrentTimstamp, Length: 799, dtype: int64"
      ]
     },
     "execution_count": 6,
     "metadata": {},
     "output_type": "execute_result"
    }
   ],
   "source": [
    "df.CurrentTimstamp"
   ]
  },
  {
   "cell_type": "code",
   "execution_count": 7,
   "id": "f6f49aa1-5cfe-46d4-afee-be0b6ce0df7b",
   "metadata": {},
   "outputs": [
    {
     "data": {
      "text/html": [
       "<div>\n",
       "<style scoped>\n",
       "    .dataframe tbody tr th:only-of-type {\n",
       "        vertical-align: middle;\n",
       "    }\n",
       "\n",
       "    .dataframe tbody tr th {\n",
       "        vertical-align: top;\n",
       "    }\n",
       "\n",
       "    .dataframe thead th {\n",
       "        text-align: right;\n",
       "    }\n",
       "</style>\n",
       "<table border=\"1\" class=\"dataframe\">\n",
       "  <thead>\n",
       "    <tr style=\"text-align: right;\">\n",
       "      <th></th>\n",
       "      <th>CurrentTimstamp</th>\n",
       "      <th>CurrentEvent</th>\n",
       "      <th>CurrentTarget</th>\n",
       "      <th>CurrentClickX</th>\n",
       "      <th>CurrentClickY</th>\n",
       "      <th>CurrentURL</th>\n",
       "      <th>outerWidth</th>\n",
       "      <th>outerHeight</th>\n",
       "      <th>innerWidth</th>\n",
       "      <th>innerHeight</th>\n",
       "      <th>created</th>\n",
       "      <th>CurrentHtml</th>\n",
       "    </tr>\n",
       "  </thead>\n",
       "  <tbody>\n",
       "    <tr>\n",
       "      <th>0</th>\n",
       "      <td>1713773645549</td>\n",
       "      <td>load</td>\n",
       "      <td></td>\n",
       "      <td>0.0</td>\n",
       "      <td>0.0</td>\n",
       "      <td>https://www.amazon.com/s?k=drone&amp;crid=2QM4GH5R...</td>\n",
       "      <td>1920.0</td>\n",
       "      <td>1040.0</td>\n",
       "      <td>1920.0</td>\n",
       "      <td>953.0</td>\n",
       "      <td>2024-04-22 08:14:06</td>\n",
       "      <td>&lt;body&gt; &lt;a href=\"/ref=cs_503_logo\"&gt;&lt;img alt=\"Am...</td>\n",
       "    </tr>\n",
       "    <tr>\n",
       "      <th>1</th>\n",
       "      <td>1713773654449</td>\n",
       "      <td>click</td>\n",
       "      <td>6141ef5a-1f2b-4688-a450-38d17a93b4a4</td>\n",
       "      <td>284.0</td>\n",
       "      <td>110.0</td>\n",
       "      <td>https://www.amazon.com/s?k=drone&amp;crid=2QM4GH5R...</td>\n",
       "      <td>1920.0</td>\n",
       "      <td>1040.0</td>\n",
       "      <td>1920.0</td>\n",
       "      <td>953.0</td>\n",
       "      <td>2024-04-22 08:14:15</td>\n",
       "      <td>&lt;body customuuid=\"bf117a7f-3b78-4114-8f91-046c...</td>\n",
       "    </tr>\n",
       "    <tr>\n",
       "      <th>2</th>\n",
       "      <td>1713773656081</td>\n",
       "      <td>click</td>\n",
       "      <td>e03107e8-7e85-4408-b59b-d21d2b4cf375</td>\n",
       "      <td>0.0</td>\n",
       "      <td>0.0</td>\n",
       "      <td>https://www.amazon.com/s?k=drone&amp;crid=2QM4GH5R...</td>\n",
       "      <td>1920.0</td>\n",
       "      <td>1040.0</td>\n",
       "      <td>1920.0</td>\n",
       "      <td>953.0</td>\n",
       "      <td>2024-04-22 08:14:16</td>\n",
       "      <td>&lt;body customuuid=\"bf117a7f-3b78-4114-8f91-046c...</td>\n",
       "    </tr>\n",
       "    <tr>\n",
       "      <th>3</th>\n",
       "      <td>1713773658491</td>\n",
       "      <td>load</td>\n",
       "      <td></td>\n",
       "      <td>0.0</td>\n",
       "      <td>0.0</td>\n",
       "      <td>https://www.amazon.com/s?k=drone&amp;ref=cs_503_se...</td>\n",
       "      <td>1920.0</td>\n",
       "      <td>1040.0</td>\n",
       "      <td>1920.0</td>\n",
       "      <td>953.0</td>\n",
       "      <td>2024-04-22 08:14:19</td>\n",
       "      <td>&lt;body class=\"a-m-us a-aui_72554-c a-aui_a11y_2...</td>\n",
       "    </tr>\n",
       "    <tr>\n",
       "      <th>4</th>\n",
       "      <td>1713773662019</td>\n",
       "      <td>scroll</td>\n",
       "      <td>scrolldown</td>\n",
       "      <td>0.0</td>\n",
       "      <td>0.0</td>\n",
       "      <td>https://www.amazon.com/s?k=drone&amp;ref=cs_503_se...</td>\n",
       "      <td>1920.0</td>\n",
       "      <td>1040.0</td>\n",
       "      <td>1920.0</td>\n",
       "      <td>953.0</td>\n",
       "      <td>2024-04-22 08:14:23</td>\n",
       "      <td>&lt;body class=\"a-m-us a-aui_72554-c a-aui_a11y_2...</td>\n",
       "    </tr>\n",
       "    <tr>\n",
       "      <th>...</th>\n",
       "      <td>...</td>\n",
       "      <td>...</td>\n",
       "      <td>...</td>\n",
       "      <td>...</td>\n",
       "      <td>...</td>\n",
       "      <td>...</td>\n",
       "      <td>...</td>\n",
       "      <td>...</td>\n",
       "      <td>...</td>\n",
       "      <td>...</td>\n",
       "      <td>...</td>\n",
       "      <td>...</td>\n",
       "    </tr>\n",
       "    <tr>\n",
       "      <th>794</th>\n",
       "      <td>1713776499934</td>\n",
       "      <td>scroll</td>\n",
       "      <td>scrollup</td>\n",
       "      <td>0.0</td>\n",
       "      <td>0.0</td>\n",
       "      <td>https://www.amazon.com/s?k=dumbbell+weights&amp;pa...</td>\n",
       "      <td>1920.0</td>\n",
       "      <td>1040.0</td>\n",
       "      <td>1920.0</td>\n",
       "      <td>953.0</td>\n",
       "      <td>2024-04-22 09:01:41</td>\n",
       "      <td>&lt;body class=\"a-m-us a-aui_72554-c a-aui_a11y_2...</td>\n",
       "    </tr>\n",
       "    <tr>\n",
       "      <th>795</th>\n",
       "      <td>1713776501064</td>\n",
       "      <td>click</td>\n",
       "      <td>bcab9afb-ede3-4cf4-9b42-229dcc8e04d3</td>\n",
       "      <td>444.0</td>\n",
       "      <td>577.0</td>\n",
       "      <td>https://www.amazon.com/s?k=dumbbell+weights&amp;pa...</td>\n",
       "      <td>1920.0</td>\n",
       "      <td>1040.0</td>\n",
       "      <td>1920.0</td>\n",
       "      <td>953.0</td>\n",
       "      <td>2024-04-22 09:01:42</td>\n",
       "      <td>&lt;body class=\"a-m-us a-aui_72554-c a-aui_a11y_2...</td>\n",
       "    </tr>\n",
       "    <tr>\n",
       "      <th>796</th>\n",
       "      <td>1713776504945</td>\n",
       "      <td>load</td>\n",
       "      <td></td>\n",
       "      <td>0.0</td>\n",
       "      <td>0.0</td>\n",
       "      <td>https://www.amazon.com/Finer-Form-Adjustable-D...</td>\n",
       "      <td>1920.0</td>\n",
       "      <td>1040.0</td>\n",
       "      <td>1920.0</td>\n",
       "      <td>953.0</td>\n",
       "      <td>2024-04-22 09:01:45</td>\n",
       "      <td>&lt;body class=\"a-m-us a-aui_72554-c a-aui_a11y_2...</td>\n",
       "    </tr>\n",
       "    <tr>\n",
       "      <th>797</th>\n",
       "      <td>1713776506166</td>\n",
       "      <td>click</td>\n",
       "      <td>62e93f99-f598-48b5-906b-6111b02530fb</td>\n",
       "      <td>1554.0</td>\n",
       "      <td>481.0</td>\n",
       "      <td>https://www.amazon.com/Finer-Form-Adjustable-D...</td>\n",
       "      <td>1920.0</td>\n",
       "      <td>1040.0</td>\n",
       "      <td>1920.0</td>\n",
       "      <td>953.0</td>\n",
       "      <td>2024-04-22 09:01:47</td>\n",
       "      <td>&lt;body class=\"a-m-us a-aui_72554-c a-aui_a11y_2...</td>\n",
       "    </tr>\n",
       "    <tr>\n",
       "      <th>798</th>\n",
       "      <td>1713776508580</td>\n",
       "      <td>load</td>\n",
       "      <td></td>\n",
       "      <td>0.0</td>\n",
       "      <td>0.0</td>\n",
       "      <td>https://www.amazon.com/cart/smart-wagon?newIte...</td>\n",
       "      <td>1920.0</td>\n",
       "      <td>1040.0</td>\n",
       "      <td>1920.0</td>\n",
       "      <td>953.0</td>\n",
       "      <td>2024-04-22 09:01:49</td>\n",
       "      <td>&lt;body class=\"a-m-us a-aui_72554-c a-aui_a11y_2...</td>\n",
       "    </tr>\n",
       "  </tbody>\n",
       "</table>\n",
       "<p>799 rows × 12 columns</p>\n",
       "</div>"
      ],
      "text/plain": [
       "     CurrentTimstamp CurrentEvent                         CurrentTarget  \\\n",
       "0      1713773645549         load                                         \n",
       "1      1713773654449        click  6141ef5a-1f2b-4688-a450-38d17a93b4a4   \n",
       "2      1713773656081        click  e03107e8-7e85-4408-b59b-d21d2b4cf375   \n",
       "3      1713773658491         load                                         \n",
       "4      1713773662019       scroll                            scrolldown   \n",
       "..               ...          ...                                   ...   \n",
       "794    1713776499934       scroll                              scrollup   \n",
       "795    1713776501064        click  bcab9afb-ede3-4cf4-9b42-229dcc8e04d3   \n",
       "796    1713776504945         load                                         \n",
       "797    1713776506166        click  62e93f99-f598-48b5-906b-6111b02530fb   \n",
       "798    1713776508580         load                                         \n",
       "\n",
       "     CurrentClickX  CurrentClickY  \\\n",
       "0              0.0            0.0   \n",
       "1            284.0          110.0   \n",
       "2              0.0            0.0   \n",
       "3              0.0            0.0   \n",
       "4              0.0            0.0   \n",
       "..             ...            ...   \n",
       "794            0.0            0.0   \n",
       "795          444.0          577.0   \n",
       "796            0.0            0.0   \n",
       "797         1554.0          481.0   \n",
       "798            0.0            0.0   \n",
       "\n",
       "                                            CurrentURL  outerWidth  \\\n",
       "0    https://www.amazon.com/s?k=drone&crid=2QM4GH5R...      1920.0   \n",
       "1    https://www.amazon.com/s?k=drone&crid=2QM4GH5R...      1920.0   \n",
       "2    https://www.amazon.com/s?k=drone&crid=2QM4GH5R...      1920.0   \n",
       "3    https://www.amazon.com/s?k=drone&ref=cs_503_se...      1920.0   \n",
       "4    https://www.amazon.com/s?k=drone&ref=cs_503_se...      1920.0   \n",
       "..                                                 ...         ...   \n",
       "794  https://www.amazon.com/s?k=dumbbell+weights&pa...      1920.0   \n",
       "795  https://www.amazon.com/s?k=dumbbell+weights&pa...      1920.0   \n",
       "796  https://www.amazon.com/Finer-Form-Adjustable-D...      1920.0   \n",
       "797  https://www.amazon.com/Finer-Form-Adjustable-D...      1920.0   \n",
       "798  https://www.amazon.com/cart/smart-wagon?newIte...      1920.0   \n",
       "\n",
       "     outerHeight  innerWidth  innerHeight              created  \\\n",
       "0         1040.0      1920.0        953.0  2024-04-22 08:14:06   \n",
       "1         1040.0      1920.0        953.0  2024-04-22 08:14:15   \n",
       "2         1040.0      1920.0        953.0  2024-04-22 08:14:16   \n",
       "3         1040.0      1920.0        953.0  2024-04-22 08:14:19   \n",
       "4         1040.0      1920.0        953.0  2024-04-22 08:14:23   \n",
       "..           ...         ...          ...                  ...   \n",
       "794       1040.0      1920.0        953.0  2024-04-22 09:01:41   \n",
       "795       1040.0      1920.0        953.0  2024-04-22 09:01:42   \n",
       "796       1040.0      1920.0        953.0  2024-04-22 09:01:45   \n",
       "797       1040.0      1920.0        953.0  2024-04-22 09:01:47   \n",
       "798       1040.0      1920.0        953.0  2024-04-22 09:01:49   \n",
       "\n",
       "                                           CurrentHtml  \n",
       "0    <body> <a href=\"/ref=cs_503_logo\"><img alt=\"Am...  \n",
       "1    <body customuuid=\"bf117a7f-3b78-4114-8f91-046c...  \n",
       "2    <body customuuid=\"bf117a7f-3b78-4114-8f91-046c...  \n",
       "3    <body class=\"a-m-us a-aui_72554-c a-aui_a11y_2...  \n",
       "4    <body class=\"a-m-us a-aui_72554-c a-aui_a11y_2...  \n",
       "..                                                 ...  \n",
       "794  <body class=\"a-m-us a-aui_72554-c a-aui_a11y_2...  \n",
       "795  <body class=\"a-m-us a-aui_72554-c a-aui_a11y_2...  \n",
       "796  <body class=\"a-m-us a-aui_72554-c a-aui_a11y_2...  \n",
       "797  <body class=\"a-m-us a-aui_72554-c a-aui_a11y_2...  \n",
       "798  <body class=\"a-m-us a-aui_72554-c a-aui_a11y_2...  \n",
       "\n",
       "[799 rows x 12 columns]"
      ]
     },
     "execution_count": 7,
     "metadata": {},
     "output_type": "execute_result"
    }
   ],
   "source": [
    "df"
   ]
  },
  {
   "cell_type": "code",
   "execution_count": 8,
   "id": "b81f86dc-6dc1-43d9-8ad5-54c421663b56",
   "metadata": {},
   "outputs": [
    {
     "data": {
      "text/html": [
       "<div>\n",
       "<style scoped>\n",
       "    .dataframe tbody tr th:only-of-type {\n",
       "        vertical-align: middle;\n",
       "    }\n",
       "\n",
       "    .dataframe tbody tr th {\n",
       "        vertical-align: top;\n",
       "    }\n",
       "\n",
       "    .dataframe thead th {\n",
       "        text-align: right;\n",
       "    }\n",
       "</style>\n",
       "<table border=\"1\" class=\"dataframe\">\n",
       "  <thead>\n",
       "    <tr style=\"text-align: right;\">\n",
       "      <th></th>\n",
       "      <th>Time</th>\n",
       "      <th>X_L</th>\n",
       "      <th>Y_L</th>\n",
       "      <th>PupilSize_L</th>\n",
       "      <th>X_R</th>\n",
       "      <th>Y_R</th>\n",
       "      <th>PupilSize_R</th>\n",
       "      <th>ParticipantNr</th>\n",
       "    </tr>\n",
       "  </thead>\n",
       "  <tbody>\n",
       "    <tr>\n",
       "      <th>0</th>\n",
       "      <td>316865616</td>\n",
       "      <td>932.8</td>\n",
       "      <td>550.6</td>\n",
       "      <td>1954.0</td>\n",
       "      <td>940.0</td>\n",
       "      <td>543.2</td>\n",
       "      <td>1899.0</td>\n",
       "      <td>32768.0</td>\n",
       "    </tr>\n",
       "    <tr>\n",
       "      <th>1</th>\n",
       "      <td>316865618</td>\n",
       "      <td>932.2</td>\n",
       "      <td>549.3</td>\n",
       "      <td>1954.0</td>\n",
       "      <td>940.7</td>\n",
       "      <td>542.9</td>\n",
       "      <td>1903.0</td>\n",
       "      <td>32768.0</td>\n",
       "    </tr>\n",
       "    <tr>\n",
       "      <th>2</th>\n",
       "      <td>316865620</td>\n",
       "      <td>931.0</td>\n",
       "      <td>547.5</td>\n",
       "      <td>1957.0</td>\n",
       "      <td>941.0</td>\n",
       "      <td>544.1</td>\n",
       "      <td>1907.0</td>\n",
       "      <td>32768.0</td>\n",
       "    </tr>\n",
       "    <tr>\n",
       "      <th>3</th>\n",
       "      <td>316865622</td>\n",
       "      <td>929.9</td>\n",
       "      <td>546.4</td>\n",
       "      <td>1951.0</td>\n",
       "      <td>940.3</td>\n",
       "      <td>544.3</td>\n",
       "      <td>1902.0</td>\n",
       "      <td>32768.0</td>\n",
       "    </tr>\n",
       "    <tr>\n",
       "      <th>4</th>\n",
       "      <td>316865624</td>\n",
       "      <td>930.5</td>\n",
       "      <td>546.9</td>\n",
       "      <td>1949.0</td>\n",
       "      <td>937.9</td>\n",
       "      <td>543.3</td>\n",
       "      <td>1896.0</td>\n",
       "      <td>32768.0</td>\n",
       "    </tr>\n",
       "  </tbody>\n",
       "</table>\n",
       "</div>"
      ],
      "text/plain": [
       "        Time    X_L    Y_L  PupilSize_L    X_R    Y_R  PupilSize_R  \\\n",
       "0  316865616  932.8  550.6       1954.0  940.0  543.2       1899.0   \n",
       "1  316865618  932.2  549.3       1954.0  940.7  542.9       1903.0   \n",
       "2  316865620  931.0  547.5       1957.0  941.0  544.1       1907.0   \n",
       "3  316865622  929.9  546.4       1951.0  940.3  544.3       1902.0   \n",
       "4  316865624  930.5  546.9       1949.0  937.9  543.3       1896.0   \n",
       "\n",
       "   ParticipantNr  \n",
       "0        32768.0  \n",
       "1        32768.0  \n",
       "2        32768.0  \n",
       "3        32768.0  \n",
       "4        32768.0  "
      ]
     },
     "execution_count": 8,
     "metadata": {},
     "output_type": "execute_result"
    }
   ],
   "source": [
    "df_eye.head()"
   ]
  },
  {
   "cell_type": "code",
   "execution_count": 9,
   "id": "12d336fb-5747-44a1-b2e9-b512e6d72fed",
   "metadata": {},
   "outputs": [],
   "source": [
    "del df_time['Unnamed: 0']"
   ]
  },
  {
   "cell_type": "code",
   "execution_count": 10,
   "id": "ee6979c4-7309-41ec-ba68-9769d84508e4",
   "metadata": {},
   "outputs": [
    {
     "data": {
      "text/html": [
       "<div>\n",
       "<style scoped>\n",
       "    .dataframe tbody tr th:only-of-type {\n",
       "        vertical-align: middle;\n",
       "    }\n",
       "\n",
       "    .dataframe tbody tr th {\n",
       "        vertical-align: top;\n",
       "    }\n",
       "\n",
       "    .dataframe thead th {\n",
       "        text-align: right;\n",
       "    }\n",
       "</style>\n",
       "<table border=\"1\" class=\"dataframe\">\n",
       "  <thead>\n",
       "    <tr style=\"text-align: right;\">\n",
       "      <th></th>\n",
       "      <th>Message</th>\n",
       "      <th>ETT</th>\n",
       "      <th>MSG2</th>\n",
       "      <th>UnixTimeStamp</th>\n",
       "    </tr>\n",
       "  </thead>\n",
       "  <tbody>\n",
       "    <tr>\n",
       "      <th>0</th>\n",
       "      <td>MSG</td>\n",
       "      <td>316933209</td>\n",
       "      <td>UNIX:</td>\n",
       "      <td>1713773644</td>\n",
       "    </tr>\n",
       "    <tr>\n",
       "      <th>1</th>\n",
       "      <td>MSG</td>\n",
       "      <td>317085570</td>\n",
       "      <td>UNIX:</td>\n",
       "      <td>1713773797</td>\n",
       "    </tr>\n",
       "    <tr>\n",
       "      <th>2</th>\n",
       "      <td>MSG</td>\n",
       "      <td>317231577</td>\n",
       "      <td>UNIX:</td>\n",
       "      <td>1713773943</td>\n",
       "    </tr>\n",
       "    <tr>\n",
       "      <th>3</th>\n",
       "      <td>MSG</td>\n",
       "      <td>317384122</td>\n",
       "      <td>UNIX:</td>\n",
       "      <td>1713774095</td>\n",
       "    </tr>\n",
       "    <tr>\n",
       "      <th>4</th>\n",
       "      <td>MSG</td>\n",
       "      <td>317523519</td>\n",
       "      <td>UNIX:</td>\n",
       "      <td>1713774235</td>\n",
       "    </tr>\n",
       "  </tbody>\n",
       "</table>\n",
       "</div>"
      ],
      "text/plain": [
       "  Message        ETT   MSG2  UnixTimeStamp\n",
       "0     MSG  316933209  UNIX:     1713773644\n",
       "1     MSG  317085570  UNIX:     1713773797\n",
       "2     MSG  317231577  UNIX:     1713773943\n",
       "3     MSG  317384122  UNIX:     1713774095\n",
       "4     MSG  317523519  UNIX:     1713774235"
      ]
     },
     "execution_count": 10,
     "metadata": {},
     "output_type": "execute_result"
    }
   ],
   "source": [
    "df_time['UnixTimeStamp'] = df_time.UnixTimeStamp.astype(int)\n",
    "df_time.head()"
   ]
  },
  {
   "cell_type": "code",
   "execution_count": 11,
   "id": "ef2d9f74-2075-437d-81e5-1b5b886b34db",
   "metadata": {},
   "outputs": [
    {
     "data": {
      "text/plain": [
       "1713773644"
      ]
     },
     "execution_count": 11,
     "metadata": {},
     "output_type": "execute_result"
    }
   ],
   "source": [
    "df_time.UnixTimeStamp[0]"
   ]
  },
  {
   "cell_type": "code",
   "execution_count": 12,
   "id": "6e421ce9-5596-4ed0-b3a8-cb0c3d7197ad",
   "metadata": {
    "tags": []
   },
   "outputs": [
    {
     "data": {
      "text/plain": [
       "array(['load', 'click', 'scroll'], dtype=object)"
      ]
     },
     "execution_count": 12,
     "metadata": {},
     "output_type": "execute_result"
    }
   ],
   "source": [
    "df.CurrentEvent.unique()"
   ]
  },
  {
   "cell_type": "code",
   "execution_count": 13,
   "id": "dc5c7b60-dcad-4756-ad6c-82e0a4af8608",
   "metadata": {
    "tags": []
   },
   "outputs": [
    {
     "data": {
      "text/html": [
       "<div>\n",
       "<style scoped>\n",
       "    .dataframe tbody tr th:only-of-type {\n",
       "        vertical-align: middle;\n",
       "    }\n",
       "\n",
       "    .dataframe tbody tr th {\n",
       "        vertical-align: top;\n",
       "    }\n",
       "\n",
       "    .dataframe thead th {\n",
       "        text-align: right;\n",
       "    }\n",
       "</style>\n",
       "<table border=\"1\" class=\"dataframe\">\n",
       "  <thead>\n",
       "    <tr style=\"text-align: right;\">\n",
       "      <th></th>\n",
       "      <th>CurrentTimstamp</th>\n",
       "      <th>CurrentEvent</th>\n",
       "      <th>CurrentTarget</th>\n",
       "      <th>CurrentClickX</th>\n",
       "      <th>CurrentClickY</th>\n",
       "      <th>CurrentURL</th>\n",
       "      <th>outerWidth</th>\n",
       "      <th>outerHeight</th>\n",
       "      <th>innerWidth</th>\n",
       "      <th>innerHeight</th>\n",
       "      <th>created</th>\n",
       "      <th>CurrentHtml</th>\n",
       "    </tr>\n",
       "  </thead>\n",
       "  <tbody>\n",
       "    <tr>\n",
       "      <th>0</th>\n",
       "      <td>1713773645549</td>\n",
       "      <td>load</td>\n",
       "      <td></td>\n",
       "      <td>0.0</td>\n",
       "      <td>0.0</td>\n",
       "      <td>https://www.amazon.com/s?k=drone&amp;crid=2QM4GH5R...</td>\n",
       "      <td>1920.0</td>\n",
       "      <td>1040.0</td>\n",
       "      <td>1920.0</td>\n",
       "      <td>953.0</td>\n",
       "      <td>2024-04-22 08:14:06</td>\n",
       "      <td>&lt;body&gt; &lt;a href=\"/ref=cs_503_logo\"&gt;&lt;img alt=\"Am...</td>\n",
       "    </tr>\n",
       "    <tr>\n",
       "      <th>1</th>\n",
       "      <td>1713773654449</td>\n",
       "      <td>click</td>\n",
       "      <td>6141ef5a-1f2b-4688-a450-38d17a93b4a4</td>\n",
       "      <td>284.0</td>\n",
       "      <td>110.0</td>\n",
       "      <td>https://www.amazon.com/s?k=drone&amp;crid=2QM4GH5R...</td>\n",
       "      <td>1920.0</td>\n",
       "      <td>1040.0</td>\n",
       "      <td>1920.0</td>\n",
       "      <td>953.0</td>\n",
       "      <td>2024-04-22 08:14:15</td>\n",
       "      <td>&lt;body customuuid=\"bf117a7f-3b78-4114-8f91-046c...</td>\n",
       "    </tr>\n",
       "    <tr>\n",
       "      <th>2</th>\n",
       "      <td>1713773656081</td>\n",
       "      <td>click</td>\n",
       "      <td>e03107e8-7e85-4408-b59b-d21d2b4cf375</td>\n",
       "      <td>0.0</td>\n",
       "      <td>0.0</td>\n",
       "      <td>https://www.amazon.com/s?k=drone&amp;crid=2QM4GH5R...</td>\n",
       "      <td>1920.0</td>\n",
       "      <td>1040.0</td>\n",
       "      <td>1920.0</td>\n",
       "      <td>953.0</td>\n",
       "      <td>2024-04-22 08:14:16</td>\n",
       "      <td>&lt;body customuuid=\"bf117a7f-3b78-4114-8f91-046c...</td>\n",
       "    </tr>\n",
       "    <tr>\n",
       "      <th>3</th>\n",
       "      <td>1713773658491</td>\n",
       "      <td>load</td>\n",
       "      <td></td>\n",
       "      <td>0.0</td>\n",
       "      <td>0.0</td>\n",
       "      <td>https://www.amazon.com/s?k=drone&amp;ref=cs_503_se...</td>\n",
       "      <td>1920.0</td>\n",
       "      <td>1040.0</td>\n",
       "      <td>1920.0</td>\n",
       "      <td>953.0</td>\n",
       "      <td>2024-04-22 08:14:19</td>\n",
       "      <td>&lt;body class=\"a-m-us a-aui_72554-c a-aui_a11y_2...</td>\n",
       "    </tr>\n",
       "    <tr>\n",
       "      <th>4</th>\n",
       "      <td>1713773662019</td>\n",
       "      <td>scroll</td>\n",
       "      <td>scrolldown</td>\n",
       "      <td>0.0</td>\n",
       "      <td>0.0</td>\n",
       "      <td>https://www.amazon.com/s?k=drone&amp;ref=cs_503_se...</td>\n",
       "      <td>1920.0</td>\n",
       "      <td>1040.0</td>\n",
       "      <td>1920.0</td>\n",
       "      <td>953.0</td>\n",
       "      <td>2024-04-22 08:14:23</td>\n",
       "      <td>&lt;body class=\"a-m-us a-aui_72554-c a-aui_a11y_2...</td>\n",
       "    </tr>\n",
       "  </tbody>\n",
       "</table>\n",
       "</div>"
      ],
      "text/plain": [
       "   CurrentTimstamp CurrentEvent                         CurrentTarget  \\\n",
       "0    1713773645549         load                                         \n",
       "1    1713773654449        click  6141ef5a-1f2b-4688-a450-38d17a93b4a4   \n",
       "2    1713773656081        click  e03107e8-7e85-4408-b59b-d21d2b4cf375   \n",
       "3    1713773658491         load                                         \n",
       "4    1713773662019       scroll                            scrolldown   \n",
       "\n",
       "   CurrentClickX  CurrentClickY  \\\n",
       "0            0.0            0.0   \n",
       "1          284.0          110.0   \n",
       "2            0.0            0.0   \n",
       "3            0.0            0.0   \n",
       "4            0.0            0.0   \n",
       "\n",
       "                                          CurrentURL  outerWidth  outerHeight  \\\n",
       "0  https://www.amazon.com/s?k=drone&crid=2QM4GH5R...      1920.0       1040.0   \n",
       "1  https://www.amazon.com/s?k=drone&crid=2QM4GH5R...      1920.0       1040.0   \n",
       "2  https://www.amazon.com/s?k=drone&crid=2QM4GH5R...      1920.0       1040.0   \n",
       "3  https://www.amazon.com/s?k=drone&ref=cs_503_se...      1920.0       1040.0   \n",
       "4  https://www.amazon.com/s?k=drone&ref=cs_503_se...      1920.0       1040.0   \n",
       "\n",
       "   innerWidth  innerHeight              created  \\\n",
       "0      1920.0        953.0  2024-04-22 08:14:06   \n",
       "1      1920.0        953.0  2024-04-22 08:14:15   \n",
       "2      1920.0        953.0  2024-04-22 08:14:16   \n",
       "3      1920.0        953.0  2024-04-22 08:14:19   \n",
       "4      1920.0        953.0  2024-04-22 08:14:23   \n",
       "\n",
       "                                         CurrentHtml  \n",
       "0  <body> <a href=\"/ref=cs_503_logo\"><img alt=\"Am...  \n",
       "1  <body customuuid=\"bf117a7f-3b78-4114-8f91-046c...  \n",
       "2  <body customuuid=\"bf117a7f-3b78-4114-8f91-046c...  \n",
       "3  <body class=\"a-m-us a-aui_72554-c a-aui_a11y_2...  \n",
       "4  <body class=\"a-m-us a-aui_72554-c a-aui_a11y_2...  "
      ]
     },
     "execution_count": 13,
     "metadata": {},
     "output_type": "execute_result"
    }
   ],
   "source": [
    "df.head()"
   ]
  },
  {
   "cell_type": "code",
   "execution_count": 14,
   "id": "58bbd694-d216-4bc1-b47e-f282a969ff74",
   "metadata": {
    "tags": []
   },
   "outputs": [
    {
     "data": {
      "text/plain": [
       "799"
      ]
     },
     "execution_count": 14,
     "metadata": {},
     "output_type": "execute_result"
    }
   ],
   "source": [
    "len(df)"
   ]
  },
  {
   "cell_type": "markdown",
   "id": "0fb48d02-60f1-4dd2-92ca-eb87985cd7ff",
   "metadata": {
    "tags": []
   },
   "source": [
    "- CurrentTimstamp: Unix timestamp in milliseconds\n",
    "- CurrentEvent: Event happened (click, scroll, page loaded)\n",
    "- CurrentTarget: For clicks: UUID of clicked target, for scrolls: down / up\n",
    "- CurrentClickX: only clicks: x-coord\n",
    "- CurrentClickY: only clicks: y-coord\n",
    "- CurrentURL: current URL of webpage\n",
    "- outerWidth: Window.outerWidth\n",
    "- outerHeight: Window.outerHeight\n",
    "- innerWidth: Window.innerWidth\n",
    "- innerHeight: Window.innerHeight\n",
    "- created: Another timestamp - can be ignored\n",
    "- CurrentHtml: The HTML of the current webpage. each element has been injected with thei x,y corrds, width and height. and \"customuuid\""
   ]
  },
  {
   "cell_type": "markdown",
   "id": "192fe150-23fd-40d7-a97d-cdaa8cfe973d",
   "metadata": {},
   "source": [
    "<img src=\"coords.png\">"
   ]
  },
  {
   "cell_type": "code",
   "execution_count": 15,
   "id": "883b097c-3c67-4e98-9d87-f3147d9a2f87",
   "metadata": {
    "tags": []
   },
   "outputs": [
    {
     "data": {
      "text/plain": [
       "array(['load', 'click', 'scroll'], dtype=object)"
      ]
     },
     "execution_count": 15,
     "metadata": {},
     "output_type": "execute_result"
    }
   ],
   "source": [
    "df.CurrentEvent.unique()"
   ]
  },
  {
   "cell_type": "code",
   "execution_count": 16,
   "id": "9c905a52-8c0c-4ab2-936d-cf3ddc21728f",
   "metadata": {
    "tags": []
   },
   "outputs": [
    {
     "data": {
      "text/plain": [
       "'<body customuuid=\"bf117a7f-3b78-4114-8f91-046c2a2c0082\" height=\"843\" width=\"1920\" x=\"0\" y=\"0\"> <a customuuid=\"4ed85c4e-5c0d-4a2c-8766-c287738c9016\" height=\"0\" href=\"/ref=cs_503_logo\" width=\"0\" x=\"0\" y=\"0\"><img alt=\"Amazon.com\" customuuid=\"2b33cdf8-9f89-41b4-89b4-e0dfed89df67\" height=\"35\" id=\"b\" src=\"https://images-na.ssl-images-amazon.com/images/G/01/error/logo._TTD_.png\" width=\"110\" x=\"22\" y=\"12\"/></a> <form accept-charset=\"utf-8\" action=\"/s\" customuuid=\"a3394d7b-fdd8-4312-bd05-2da6f77c1c7e\" height=\"57\" id=\"a\" method=\"GET\" role=\"search\" width=\"1920\" x=\"0\" y=\"0\"> <div customuuid=\"0228a90c-135d-43c2-a6f1-050961c12571\" height=\"35\" id=\"c\" width=\"840\" x=\"192\" y=\"11\"> <input customuuid=\"6141ef5a-1f2b-4688-a450-38d17a93b4a4\" height=\"35\" id=\"e\" name=\"field-keywords\" placeholder=\"Search\" width=\"820\" x=\"192\" y=\"11\"/> <input customuuid=\"42a2114c-0ac1-4253-803a-2914faa0f2c6\" height=\"0\" name=\"ref\" type=\"hidden\" value=\"cs_503_search\" width=\"0\" x=\"0\" y=\"0\"/> <input customuuid=\"e03107e8-7e85-4408-b59'"
      ]
     },
     "execution_count": 16,
     "metadata": {},
     "output_type": "execute_result"
    }
   ],
   "source": [
    "str(df.CurrentHtml.iloc[1])[:1000]"
   ]
  },
  {
   "cell_type": "code",
   "execution_count": 17,
   "id": "bd1d7bbc-3f54-4eae-a57c-65d02499d1ec",
   "metadata": {},
   "outputs": [
    {
     "data": {
      "text/plain": [
       "4999"
      ]
     },
     "execution_count": 17,
     "metadata": {},
     "output_type": "execute_result"
    }
   ],
   "source": [
    "class MyHTMLParser(HTMLParser):\n",
    "    els = []\n",
    "    def handle_starttag(self, tag, attrs):\n",
    "        d = dict(attrs)\n",
    "        if len(attrs) > 0:\n",
    "            if 'customuuid' in d.keys():\n",
    "                if not (d['x'] == d['y'] == d['width'] == d['height'] == '0'):\n",
    "                    # print(\"Encountered a start tag:\", tag)\n",
    "                    # print(attrs)\n",
    "                    c = d['class'] if 'class' in d.keys() else None\n",
    "                    i = d['id'] if 'id' in d.keys() else None\n",
    "                    tmp = {'HtmlX': float(d['x']), 'HtmlY': float(d['y']), 'HtmlWidth': float(d['width']),'HtmlHeight': float(d['height']), 'HtmlUUID': d['customuuid'],'HtmlTag': tag, 'HtmlClass': c, 'HtmlId': i}\n",
    "                    self.els.append(tmp)\n",
    "    def handle_startendtag(self, tag, attrs):\n",
    "        d = dict(attrs)\n",
    "        if len(attrs) > 0:\n",
    "            if 'customuuid' in d.keys():\n",
    "                if not (d['x'] == d['y'] == d['width'] == d['height'] == '0'):\n",
    "                    # print(\"Encountered a startend tag:\", tag)\n",
    "                    c = d['class'] if 'class' in d.keys() else None\n",
    "                    i = d['id'] if 'id' in d.keys() else None\n",
    "                    tmp = {'HtmlX': float(d['x']), 'HtmlY': float(d['y']), 'HtmlWidth': float(d['width']),'HtmlHeight': float(d['height']), 'HtmlUUID': d['customuuid'],'HtmlTag': tag, 'HtmlClass': c, 'HtmlId': i}\n",
    "                    self.els.append(tmp)\n",
    "\n",
    "#     def handle_endtag(self, tag):\n",
    "#         print(\"Encountered an end tag :\", tag)\n",
    "\n",
    "#     def handle_data(self, data):\n",
    "#         print(\"Encountered some data  :\", data)\n",
    "tmp = df.CurrentHtml.iloc[100]\n",
    "parser = MyHTMLParser()\n",
    "parser.feed(tmp)\n",
    "d = parser.els\n",
    "len(parser.els)"
   ]
  },
  {
   "cell_type": "code",
   "execution_count": 18,
   "id": "0d8aed6f-19a4-4b33-81ce-d24f2a4c8045",
   "metadata": {},
   "outputs": [
    {
     "data": {
      "text/plain": [
       "{'HtmlX': 1904.0,\n",
       " 'HtmlY': 0.0,\n",
       " 'HtmlWidth': 219.0,\n",
       " 'HtmlHeight': 953.0,\n",
       " 'HtmlUUID': 'c625b134-541f-4e78-8900-fc11638a9a10',\n",
       " 'HtmlTag': 'div',\n",
       " 'HtmlClass': 'nav-flyout-body ewc-beacon',\n",
       " 'HtmlId': None}"
      ]
     },
     "execution_count": 18,
     "metadata": {},
     "output_type": "execute_result"
    }
   ],
   "source": [
    "d[100]"
   ]
  },
  {
   "cell_type": "markdown",
   "id": "ed972298-8a5d-4a0b-82a2-2c4e2e5bc395",
   "metadata": {},
   "source": [
    "# Investigating Clicks"
   ]
  },
  {
   "cell_type": "code",
   "execution_count": 19,
   "id": "b17f45a4-a25f-466e-a5c6-149f97137002",
   "metadata": {
    "tags": []
   },
   "outputs": [
    {
     "data": {
      "text/html": [
       "<div>\n",
       "<style scoped>\n",
       "    .dataframe tbody tr th:only-of-type {\n",
       "        vertical-align: middle;\n",
       "    }\n",
       "\n",
       "    .dataframe tbody tr th {\n",
       "        vertical-align: top;\n",
       "    }\n",
       "\n",
       "    .dataframe thead th {\n",
       "        text-align: right;\n",
       "    }\n",
       "</style>\n",
       "<table border=\"1\" class=\"dataframe\">\n",
       "  <thead>\n",
       "    <tr style=\"text-align: right;\">\n",
       "      <th></th>\n",
       "      <th>CurrentTimstamp</th>\n",
       "      <th>CurrentEvent</th>\n",
       "      <th>CurrentTarget</th>\n",
       "      <th>CurrentClickX</th>\n",
       "      <th>CurrentClickY</th>\n",
       "      <th>CurrentURL</th>\n",
       "      <th>outerWidth</th>\n",
       "      <th>outerHeight</th>\n",
       "      <th>innerWidth</th>\n",
       "      <th>innerHeight</th>\n",
       "      <th>created</th>\n",
       "      <th>CurrentHtml</th>\n",
       "    </tr>\n",
       "  </thead>\n",
       "  <tbody>\n",
       "    <tr>\n",
       "      <th>1</th>\n",
       "      <td>1713773654449</td>\n",
       "      <td>click</td>\n",
       "      <td>6141ef5a-1f2b-4688-a450-38d17a93b4a4</td>\n",
       "      <td>284.0</td>\n",
       "      <td>110.0</td>\n",
       "      <td>https://www.amazon.com/s?k=drone&amp;crid=2QM4GH5R...</td>\n",
       "      <td>1920.0</td>\n",
       "      <td>1040.0</td>\n",
       "      <td>1920.0</td>\n",
       "      <td>953.0</td>\n",
       "      <td>2024-04-22 08:14:15</td>\n",
       "      <td>&lt;body customuuid=\"bf117a7f-3b78-4114-8f91-046c...</td>\n",
       "    </tr>\n",
       "    <tr>\n",
       "      <th>2</th>\n",
       "      <td>1713773656081</td>\n",
       "      <td>click</td>\n",
       "      <td>e03107e8-7e85-4408-b59b-d21d2b4cf375</td>\n",
       "      <td>0.0</td>\n",
       "      <td>0.0</td>\n",
       "      <td>https://www.amazon.com/s?k=drone&amp;crid=2QM4GH5R...</td>\n",
       "      <td>1920.0</td>\n",
       "      <td>1040.0</td>\n",
       "      <td>1920.0</td>\n",
       "      <td>953.0</td>\n",
       "      <td>2024-04-22 08:14:16</td>\n",
       "      <td>&lt;body customuuid=\"bf117a7f-3b78-4114-8f91-046c...</td>\n",
       "    </tr>\n",
       "    <tr>\n",
       "      <th>20</th>\n",
       "      <td>1713773697358</td>\n",
       "      <td>click</td>\n",
       "      <td>d0bc5e01-c602-42f3-a224-fe0e1048bc2b</td>\n",
       "      <td>1294.0</td>\n",
       "      <td>665.0</td>\n",
       "      <td>https://www.amazon.com/s?k=drone&amp;ref=cs_503_se...</td>\n",
       "      <td>1920.0</td>\n",
       "      <td>1040.0</td>\n",
       "      <td>1920.0</td>\n",
       "      <td>953.0</td>\n",
       "      <td>2024-04-22 08:14:58</td>\n",
       "      <td>&lt;body class=\"a-m-us a-aui_72554-c a-aui_a11y_2...</td>\n",
       "    </tr>\n",
       "    <tr>\n",
       "      <th>22</th>\n",
       "      <td>1713773700504</td>\n",
       "      <td>click</td>\n",
       "      <td>37c3c951-2697-40ba-90b6-8dd3db15b147</td>\n",
       "      <td>1277.0</td>\n",
       "      <td>674.0</td>\n",
       "      <td>https://www.amazon.com/s?k=drone&amp;ref=cs_503_se...</td>\n",
       "      <td>1920.0</td>\n",
       "      <td>1040.0</td>\n",
       "      <td>1920.0</td>\n",
       "      <td>953.0</td>\n",
       "      <td>2024-04-22 08:15:01</td>\n",
       "      <td>&lt;body class=\"a-m-us a-aui_72554-c a-aui_a11y_2...</td>\n",
       "    </tr>\n",
       "    <tr>\n",
       "      <th>36</th>\n",
       "      <td>1713773730554</td>\n",
       "      <td>click</td>\n",
       "      <td>21170479-add0-41ae-a685-f8d4b8bada6b</td>\n",
       "      <td>1261.0</td>\n",
       "      <td>517.0</td>\n",
       "      <td>https://www.amazon.com/s?k=drone&amp;page=2&amp;qid=17...</td>\n",
       "      <td>1920.0</td>\n",
       "      <td>1040.0</td>\n",
       "      <td>1920.0</td>\n",
       "      <td>953.0</td>\n",
       "      <td>2024-04-22 08:15:32</td>\n",
       "      <td>&lt;body class=\"a-m-us a-aui_72554-c a-aui_a11y_2...</td>\n",
       "    </tr>\n",
       "  </tbody>\n",
       "</table>\n",
       "</div>"
      ],
      "text/plain": [
       "    CurrentTimstamp CurrentEvent                         CurrentTarget  \\\n",
       "1     1713773654449        click  6141ef5a-1f2b-4688-a450-38d17a93b4a4   \n",
       "2     1713773656081        click  e03107e8-7e85-4408-b59b-d21d2b4cf375   \n",
       "20    1713773697358        click  d0bc5e01-c602-42f3-a224-fe0e1048bc2b   \n",
       "22    1713773700504        click  37c3c951-2697-40ba-90b6-8dd3db15b147   \n",
       "36    1713773730554        click  21170479-add0-41ae-a685-f8d4b8bada6b   \n",
       "\n",
       "    CurrentClickX  CurrentClickY  \\\n",
       "1           284.0          110.0   \n",
       "2             0.0            0.0   \n",
       "20         1294.0          665.0   \n",
       "22         1277.0          674.0   \n",
       "36         1261.0          517.0   \n",
       "\n",
       "                                           CurrentURL  outerWidth  \\\n",
       "1   https://www.amazon.com/s?k=drone&crid=2QM4GH5R...      1920.0   \n",
       "2   https://www.amazon.com/s?k=drone&crid=2QM4GH5R...      1920.0   \n",
       "20  https://www.amazon.com/s?k=drone&ref=cs_503_se...      1920.0   \n",
       "22  https://www.amazon.com/s?k=drone&ref=cs_503_se...      1920.0   \n",
       "36  https://www.amazon.com/s?k=drone&page=2&qid=17...      1920.0   \n",
       "\n",
       "    outerHeight  innerWidth  innerHeight              created  \\\n",
       "1        1040.0      1920.0        953.0  2024-04-22 08:14:15   \n",
       "2        1040.0      1920.0        953.0  2024-04-22 08:14:16   \n",
       "20       1040.0      1920.0        953.0  2024-04-22 08:14:58   \n",
       "22       1040.0      1920.0        953.0  2024-04-22 08:15:01   \n",
       "36       1040.0      1920.0        953.0  2024-04-22 08:15:32   \n",
       "\n",
       "                                          CurrentHtml  \n",
       "1   <body customuuid=\"bf117a7f-3b78-4114-8f91-046c...  \n",
       "2   <body customuuid=\"bf117a7f-3b78-4114-8f91-046c...  \n",
       "20  <body class=\"a-m-us a-aui_72554-c a-aui_a11y_2...  \n",
       "22  <body class=\"a-m-us a-aui_72554-c a-aui_a11y_2...  \n",
       "36  <body class=\"a-m-us a-aui_72554-c a-aui_a11y_2...  "
      ]
     },
     "execution_count": 19,
     "metadata": {},
     "output_type": "execute_result"
    }
   ],
   "source": [
    "df_click = df[df.CurrentEvent == \"click\"]\n",
    "df_click.head()"
   ]
  },
  {
   "cell_type": "code",
   "execution_count": 20,
   "id": "afca9f6d-2a73-4d48-a88f-bdfba389a983",
   "metadata": {
    "tags": []
   },
   "outputs": [],
   "source": [
    "# import matplotlib.pyplot as plt\n",
    "# import matplotlib.patches as patches\n",
    "\n",
    "# def draw_rectangles(rectangles, safe=False, s=(4, 20)):\n",
    "#     fig, ax = plt.subplots(figsize=s)\n",
    "    \n",
    "#     for rect in rectangles:\n",
    "#         x = rect['HtmlX']\n",
    "#         y = rect['HtmlY']\n",
    "#         width = rect['HtmlWidth']\n",
    "#         height = rect['HtmlHeight']\n",
    "#         if (y < -10):\n",
    "#             continue\n",
    "#         if (x < -10):\n",
    "#             continue\n",
    "#         if (x==y==0.0):\n",
    "#             continue\n",
    "\n",
    "        \n",
    "#         # Create a rectangle patch\n",
    "#         rect_patch = patches.Rectangle((x, y), width, height, linewidth=1, edgecolor='r', facecolor='r', alpha=0.3)\n",
    "        \n",
    "#         # Add the patch to the plot\n",
    "#         ax.add_patch(rect_patch)\n",
    "    \n",
    "#     # Set axis limits based on the rectangles\n",
    "#     ax.set_xlim([0-100, max(rect['HtmlX'] + rect['HtmlWidth'] for rect in rectangles)+100])\n",
    "#     ax.set_ylim([0-100, max(rect['HtmlY'] + rect['HtmlHeight'] for rect in rectangles)+100])\n",
    "    \n",
    "#     # Set aspect ratio to 'equal' to avoid stretching the plot\n",
    "#     ax.set_aspect('equal')\n",
    "    \n",
    "#     # Show the plot\n",
    "#     plt.gca().invert_yaxis()\n",
    "#     plt.show()\n",
    "#     if safe:\n",
    "#         fig.savefig(\"./shapes.png\", bbox_inches='tight')\n",
    "# draw_rectangles(d[1000:2000])"
   ]
  },
  {
   "cell_type": "code",
   "execution_count": 21,
   "id": "b92dc0a0-a7b3-43cf-9543-209726d642bd",
   "metadata": {
    "tags": []
   },
   "outputs": [
    {
     "data": {
      "text/plain": [
       "count       114.000000\n",
       "mean      25015.061404\n",
       "std       48526.424898\n",
       "min        1538.000000\n",
       "25%       10004.000000\n",
       "50%       14882.500000\n",
       "75%       22189.250000\n",
       "max      399797.000000\n",
       "Name: Timestampdiff, dtype: float64"
      ]
     },
     "execution_count": 21,
     "metadata": {},
     "output_type": "execute_result"
    }
   ],
   "source": [
    "# Find clicks which happened to fast after each other\n",
    "df_click = df_click.sort_values(by=['CurrentTimstamp'])\n",
    "df_click[\"Timestampdiff\"] = df_click.CurrentTimstamp.diff()\n",
    "df_click.Timestampdiff.describe()"
   ]
  },
  {
   "cell_type": "code",
   "execution_count": 23,
   "id": "df18abd2-1258-43ea-8a51-10425a860f04",
   "metadata": {
    "tags": []
   },
   "outputs": [
    {
     "data": {
      "text/html": [
       "<div>\n",
       "<style scoped>\n",
       "    .dataframe tbody tr th:only-of-type {\n",
       "        vertical-align: middle;\n",
       "    }\n",
       "\n",
       "    .dataframe tbody tr th {\n",
       "        vertical-align: top;\n",
       "    }\n",
       "\n",
       "    .dataframe thead th {\n",
       "        text-align: right;\n",
       "    }\n",
       "</style>\n",
       "<table border=\"1\" class=\"dataframe\">\n",
       "  <thead>\n",
       "    <tr style=\"text-align: right;\">\n",
       "      <th></th>\n",
       "      <th>CurrentTimstamp</th>\n",
       "      <th>CurrentEvent</th>\n",
       "      <th>CurrentTarget</th>\n",
       "      <th>CurrentClickX</th>\n",
       "      <th>CurrentClickY</th>\n",
       "      <th>CurrentURL</th>\n",
       "      <th>outerWidth</th>\n",
       "      <th>outerHeight</th>\n",
       "      <th>innerWidth</th>\n",
       "      <th>innerHeight</th>\n",
       "      <th>created</th>\n",
       "      <th>CurrentHtml</th>\n",
       "      <th>Timestampdiff</th>\n",
       "    </tr>\n",
       "  </thead>\n",
       "  <tbody>\n",
       "    <tr>\n",
       "      <th>2</th>\n",
       "      <td>1713773656081</td>\n",
       "      <td>click</td>\n",
       "      <td>e03107e8-7e85-4408-b59b-d21d2b4cf375</td>\n",
       "      <td>0.0</td>\n",
       "      <td>0.0</td>\n",
       "      <td>https://www.amazon.com/s?k=drone&amp;crid=2QM4GH5R...</td>\n",
       "      <td>1920.0</td>\n",
       "      <td>1040.0</td>\n",
       "      <td>1920.0</td>\n",
       "      <td>953.0</td>\n",
       "      <td>2024-04-22 08:14:16</td>\n",
       "      <td>&lt;body customuuid=\"bf117a7f-3b78-4114-8f91-046c...</td>\n",
       "      <td>1632.0</td>\n",
       "    </tr>\n",
       "    <tr>\n",
       "      <th>164</th>\n",
       "      <td>1713774076330</td>\n",
       "      <td>click</td>\n",
       "      <td>704010e5-f5ed-43b8-ae74-554187137d20</td>\n",
       "      <td>1625.0</td>\n",
       "      <td>263.0</td>\n",
       "      <td>https://www.amazon.com/s?k=coffee+machine&amp;page...</td>\n",
       "      <td>1920.0</td>\n",
       "      <td>1040.0</td>\n",
       "      <td>1920.0</td>\n",
       "      <td>953.0</td>\n",
       "      <td>2024-04-22 08:21:18</td>\n",
       "      <td>&lt;body class=\"a-m-us a-aui_72554-c a-aui_a11y_2...</td>\n",
       "      <td>1538.0</td>\n",
       "    </tr>\n",
       "    <tr>\n",
       "      <th>416</th>\n",
       "      <td>1713775147979</td>\n",
       "      <td>click</td>\n",
       "      <td>2c020496-c910-40b1-b784-49ff03bd4c0a</td>\n",
       "      <td>900.0</td>\n",
       "      <td>438.0</td>\n",
       "      <td>https://www.amazon.com/SERNIAL-Womens-Leather-...</td>\n",
       "      <td>1920.0</td>\n",
       "      <td>1040.0</td>\n",
       "      <td>1920.0</td>\n",
       "      <td>953.0</td>\n",
       "      <td>2024-04-22 08:39:08</td>\n",
       "      <td>&lt;body class=\"a-m-us a-aui_72554-c a-aui_a11y_2...</td>\n",
       "      <td>1702.0</td>\n",
       "    </tr>\n",
       "  </tbody>\n",
       "</table>\n",
       "</div>"
      ],
      "text/plain": [
       "     CurrentTimstamp CurrentEvent                         CurrentTarget  \\\n",
       "2      1713773656081        click  e03107e8-7e85-4408-b59b-d21d2b4cf375   \n",
       "164    1713774076330        click  704010e5-f5ed-43b8-ae74-554187137d20   \n",
       "416    1713775147979        click  2c020496-c910-40b1-b784-49ff03bd4c0a   \n",
       "\n",
       "     CurrentClickX  CurrentClickY  \\\n",
       "2              0.0            0.0   \n",
       "164         1625.0          263.0   \n",
       "416          900.0          438.0   \n",
       "\n",
       "                                            CurrentURL  outerWidth  \\\n",
       "2    https://www.amazon.com/s?k=drone&crid=2QM4GH5R...      1920.0   \n",
       "164  https://www.amazon.com/s?k=coffee+machine&page...      1920.0   \n",
       "416  https://www.amazon.com/SERNIAL-Womens-Leather-...      1920.0   \n",
       "\n",
       "     outerHeight  innerWidth  innerHeight              created  \\\n",
       "2         1040.0      1920.0        953.0  2024-04-22 08:14:16   \n",
       "164       1040.0      1920.0        953.0  2024-04-22 08:21:18   \n",
       "416       1040.0      1920.0        953.0  2024-04-22 08:39:08   \n",
       "\n",
       "                                           CurrentHtml  Timestampdiff  \n",
       "2    <body customuuid=\"bf117a7f-3b78-4114-8f91-046c...         1632.0  \n",
       "164  <body class=\"a-m-us a-aui_72554-c a-aui_a11y_2...         1538.0  \n",
       "416  <body class=\"a-m-us a-aui_72554-c a-aui_a11y_2...         1702.0  "
      ]
     },
     "execution_count": 23,
     "metadata": {},
     "output_type": "execute_result"
    }
   ],
   "source": [
    "# Here you have to see for yourself what is reasonable, some of you might have clicked more than others :)\n",
    "df_click[df_click.Timestampdiff <= 2000].head()"
   ]
  },
  {
   "cell_type": "code",
   "execution_count": 25,
   "id": "f5bdbe5a-5c95-44c2-8c08-fb646af37abc",
   "metadata": {
    "tags": []
   },
   "outputs": [],
   "source": [
    "# Check if the CurrentURL stays the same, to identify multiple clicks on the same page due to lagg from recording\n",
    "df_click['SameURL'] = df_click['CurrentURL'] == df_click['CurrentURL'].shift()#\n",
    "df_click['SameTarget'] = df_click['CurrentTarget'] == df_click['CurrentTarget'].shift()"
   ]
  },
  {
   "cell_type": "code",
   "execution_count": 26,
   "id": "ea0a1703-f1f8-44f8-b31a-edf1fabbcb05",
   "metadata": {
    "tags": []
   },
   "outputs": [
    {
     "data": {
      "text/plain": [
       "(3, 3)"
      ]
     },
     "execution_count": 26,
     "metadata": {},
     "output_type": "execute_result"
    }
   ],
   "source": [
    "len(df_click[df_click.Timestampdiff <= 2000]), len(df_click[(df_click.Timestampdiff <= 2000) & (df_click['SameURL'])])"
   ]
  },
  {
   "cell_type": "code",
   "execution_count": 88,
   "id": "797c34ba-7bd9-4021-89ef-2732a25468bc",
   "metadata": {
    "tags": []
   },
   "outputs": [
    {
     "name": "stdout",
     "output_type": "stream",
     "text": [
      "152\n",
      "141\n"
     ]
    },
    {
     "data": {
      "text/html": [
       "<div>\n",
       "<style scoped>\n",
       "    .dataframe tbody tr th:only-of-type {\n",
       "        vertical-align: middle;\n",
       "    }\n",
       "\n",
       "    .dataframe tbody tr th {\n",
       "        vertical-align: top;\n",
       "    }\n",
       "\n",
       "    .dataframe thead th {\n",
       "        text-align: right;\n",
       "    }\n",
       "</style>\n",
       "<table border=\"1\" class=\"dataframe\">\n",
       "  <thead>\n",
       "    <tr style=\"text-align: right;\">\n",
       "      <th></th>\n",
       "      <th>CurrentTimstamp</th>\n",
       "      <th>CurrentEvent</th>\n",
       "      <th>CurrentTarget</th>\n",
       "      <th>CurrentClickX</th>\n",
       "      <th>CurrentClickY</th>\n",
       "      <th>CurrentURL</th>\n",
       "      <th>outerWidth</th>\n",
       "      <th>outerHeight</th>\n",
       "      <th>innerWidth</th>\n",
       "      <th>innerHeight</th>\n",
       "      <th>created</th>\n",
       "      <th>CurrentHtml</th>\n",
       "      <th>Timestampdiff</th>\n",
       "      <th>SameURL</th>\n",
       "      <th>SameTarget</th>\n",
       "    </tr>\n",
       "  </thead>\n",
       "  <tbody>\n",
       "    <tr>\n",
       "      <th>9</th>\n",
       "      <td>1684764738317</td>\n",
       "      <td>click</td>\n",
       "      <td>7dac1227-4da1-4a08-b81d-9c198305cbef</td>\n",
       "      <td>1067.0</td>\n",
       "      <td>881.0</td>\n",
       "      <td>https://www.amazon.com/s?k=dumbbell+weights&amp;sp...</td>\n",
       "      <td>1920.0</td>\n",
       "      <td>1040.0</td>\n",
       "      <td>1920.0</td>\n",
       "      <td>969.0</td>\n",
       "      <td>2023-05-22 14:12:19</td>\n",
       "      <td>&lt;body class=\"a-m-us a-aui_72554-c a-aui_accord...</td>\n",
       "      <td>NaN</td>\n",
       "      <td>False</td>\n",
       "      <td>False</td>\n",
       "    </tr>\n",
       "    <tr>\n",
       "      <th>21</th>\n",
       "      <td>1684764752618</td>\n",
       "      <td>click</td>\n",
       "      <td>0fa153b7-1ab8-4bdc-8cfa-23a2c6c5acdc</td>\n",
       "      <td>1114.0</td>\n",
       "      <td>435.0</td>\n",
       "      <td>https://www.amazon.com/s?k=dumbbell+weights&amp;pa...</td>\n",
       "      <td>1920.0</td>\n",
       "      <td>1040.0</td>\n",
       "      <td>1920.0</td>\n",
       "      <td>969.0</td>\n",
       "      <td>2023-05-22 14:12:33</td>\n",
       "      <td>&lt;body class=\"a-m-us a-aui_72554-c a-aui_accord...</td>\n",
       "      <td>14301.0</td>\n",
       "      <td>False</td>\n",
       "      <td>False</td>\n",
       "    </tr>\n",
       "    <tr>\n",
       "      <th>30</th>\n",
       "      <td>1684764765141</td>\n",
       "      <td>click</td>\n",
       "      <td>806a2f83-a598-407e-abdf-01db0e526f4f</td>\n",
       "      <td>1133.0</td>\n",
       "      <td>812.0</td>\n",
       "      <td>https://www.amazon.com/s?k=dumbbell+weights&amp;pa...</td>\n",
       "      <td>1920.0</td>\n",
       "      <td>1040.0</td>\n",
       "      <td>1920.0</td>\n",
       "      <td>969.0</td>\n",
       "      <td>2023-05-22 14:12:45</td>\n",
       "      <td>&lt;body class=\"a-m-us a-aui_72554-c a-aui_accord...</td>\n",
       "      <td>12523.0</td>\n",
       "      <td>False</td>\n",
       "      <td>False</td>\n",
       "    </tr>\n",
       "    <tr>\n",
       "      <th>39</th>\n",
       "      <td>1684764778222</td>\n",
       "      <td>click</td>\n",
       "      <td>a0ba9819-2822-4f2a-b48d-5cc277b512f3</td>\n",
       "      <td>972.0</td>\n",
       "      <td>947.0</td>\n",
       "      <td>https://www.amazon.com/s?k=dumbbell+weights&amp;pa...</td>\n",
       "      <td>1920.0</td>\n",
       "      <td>1040.0</td>\n",
       "      <td>1920.0</td>\n",
       "      <td>969.0</td>\n",
       "      <td>2023-05-22 14:12:59</td>\n",
       "      <td>&lt;body class=\"a-m-us a-aui_72554-c a-aui_accord...</td>\n",
       "      <td>13081.0</td>\n",
       "      <td>False</td>\n",
       "      <td>False</td>\n",
       "    </tr>\n",
       "    <tr>\n",
       "      <th>43</th>\n",
       "      <td>1684764784849</td>\n",
       "      <td>click</td>\n",
       "      <td>18628d22-5fca-42d2-b8d3-0fa545d56b33</td>\n",
       "      <td>968.0</td>\n",
       "      <td>962.0</td>\n",
       "      <td>https://www.amazon.com/s?k=dumbbell+weights&amp;pa...</td>\n",
       "      <td>1920.0</td>\n",
       "      <td>1040.0</td>\n",
       "      <td>1920.0</td>\n",
       "      <td>969.0</td>\n",
       "      <td>2023-05-22 14:13:05</td>\n",
       "      <td>&lt;body class=\"a-m-us a-aui_72554-c a-aui_accord...</td>\n",
       "      <td>6627.0</td>\n",
       "      <td>True</td>\n",
       "      <td>False</td>\n",
       "    </tr>\n",
       "  </tbody>\n",
       "</table>\n",
       "</div>"
      ],
      "text/plain": [
       "    CurrentTimstamp CurrentEvent                         CurrentTarget   \n",
       "9     1684764738317        click  7dac1227-4da1-4a08-b81d-9c198305cbef  \\\n",
       "21    1684764752618        click  0fa153b7-1ab8-4bdc-8cfa-23a2c6c5acdc   \n",
       "30    1684764765141        click  806a2f83-a598-407e-abdf-01db0e526f4f   \n",
       "39    1684764778222        click  a0ba9819-2822-4f2a-b48d-5cc277b512f3   \n",
       "43    1684764784849        click  18628d22-5fca-42d2-b8d3-0fa545d56b33   \n",
       "\n",
       "    CurrentClickX  CurrentClickY   \n",
       "9          1067.0          881.0  \\\n",
       "21         1114.0          435.0   \n",
       "30         1133.0          812.0   \n",
       "39          972.0          947.0   \n",
       "43          968.0          962.0   \n",
       "\n",
       "                                           CurrentURL  outerWidth   \n",
       "9   https://www.amazon.com/s?k=dumbbell+weights&sp...      1920.0  \\\n",
       "21  https://www.amazon.com/s?k=dumbbell+weights&pa...      1920.0   \n",
       "30  https://www.amazon.com/s?k=dumbbell+weights&pa...      1920.0   \n",
       "39  https://www.amazon.com/s?k=dumbbell+weights&pa...      1920.0   \n",
       "43  https://www.amazon.com/s?k=dumbbell+weights&pa...      1920.0   \n",
       "\n",
       "    outerHeight  innerWidth  innerHeight              created   \n",
       "9        1040.0      1920.0        969.0  2023-05-22 14:12:19  \\\n",
       "21       1040.0      1920.0        969.0  2023-05-22 14:12:33   \n",
       "30       1040.0      1920.0        969.0  2023-05-22 14:12:45   \n",
       "39       1040.0      1920.0        969.0  2023-05-22 14:12:59   \n",
       "43       1040.0      1920.0        969.0  2023-05-22 14:13:05   \n",
       "\n",
       "                                          CurrentHtml  Timestampdiff  SameURL   \n",
       "9   <body class=\"a-m-us a-aui_72554-c a-aui_accord...            NaN    False  \\\n",
       "21  <body class=\"a-m-us a-aui_72554-c a-aui_accord...        14301.0    False   \n",
       "30  <body class=\"a-m-us a-aui_72554-c a-aui_accord...        12523.0    False   \n",
       "39  <body class=\"a-m-us a-aui_72554-c a-aui_accord...        13081.0    False   \n",
       "43  <body class=\"a-m-us a-aui_72554-c a-aui_accord...         6627.0     True   \n",
       "\n",
       "    SameTarget  \n",
       "9        False  \n",
       "21       False  \n",
       "30       False  \n",
       "39       False  \n",
       "43       False  "
      ]
     },
     "execution_count": 88,
     "metadata": {},
     "output_type": "execute_result"
    }
   ],
   "source": [
    "# Filter out clicks on same page in 2 seconds on same target\n",
    "print(len(df_click))\n",
    "df_click_filtered = df_click[~((df_click.Timestampdiff <= 2000) & (df_click['SameURL']) & (df_click['SameTarget']))]\n",
    "print(len(df_click_filtered))\n",
    "df_click_filtered.head()"
   ]
  },
  {
   "cell_type": "markdown",
   "id": "b9443ee5-40cf-499d-85dd-c623c25b45ed",
   "metadata": {},
   "source": [
    "# Get Eye Tracking Data and convert Timestamps"
   ]
  },
  {
   "cell_type": "code",
   "execution_count": 27,
   "id": "e94b4d92-fa5a-45fc-84e9-3c6a7cab5f35",
   "metadata": {
    "tags": []
   },
   "outputs": [],
   "source": [
    "from datetime import datetime\n",
    "import time"
   ]
  },
  {
   "cell_type": "code",
   "execution_count": 30,
   "id": "5e78727d-3647-4c11-b6e3-c3b93f303b01",
   "metadata": {
    "tags": []
   },
   "outputs": [],
   "source": [
    "asc_fielpath = '/srv/share/intent_prediction2024/eyetracking/4.asc' # put the path to your asc (eyetracking) file here\n",
    "f = open(asc_fielpath, \"r\")\n",
    "for line in f:\n",
    "    if line.startswith(\"MSG\"):\n",
    "        firstTimeASC = int(line.split(\"PID\")[0].replace(\"MSG\", \"\"))\n",
    "        break\n",
    "def convertEyeTimeToUnix(x):\n",
    "    return (x - firstTimeASC) + TimeStartUnix "
   ]
  },
  {
   "cell_type": "code",
   "execution_count": 31,
   "id": "881bed52-f9ea-4bcf-9627-3b4e044f3bad",
   "metadata": {
    "tags": []
   },
   "outputs": [
    {
     "data": {
      "text/html": [
       "<div>\n",
       "<style scoped>\n",
       "    .dataframe tbody tr th:only-of-type {\n",
       "        vertical-align: middle;\n",
       "    }\n",
       "\n",
       "    .dataframe tbody tr th {\n",
       "        vertical-align: top;\n",
       "    }\n",
       "\n",
       "    .dataframe thead th {\n",
       "        text-align: right;\n",
       "    }\n",
       "</style>\n",
       "<table border=\"1\" class=\"dataframe\">\n",
       "  <thead>\n",
       "    <tr style=\"text-align: right;\">\n",
       "      <th></th>\n",
       "      <th>Message</th>\n",
       "      <th>ETT</th>\n",
       "      <th>MSG2</th>\n",
       "      <th>UnixTimeStamp</th>\n",
       "    </tr>\n",
       "  </thead>\n",
       "  <tbody>\n",
       "    <tr>\n",
       "      <th>0</th>\n",
       "      <td>MSG</td>\n",
       "      <td>316933209</td>\n",
       "      <td>UNIX:</td>\n",
       "      <td>1713773644</td>\n",
       "    </tr>\n",
       "    <tr>\n",
       "      <th>1</th>\n",
       "      <td>MSG</td>\n",
       "      <td>317085570</td>\n",
       "      <td>UNIX:</td>\n",
       "      <td>1713773797</td>\n",
       "    </tr>\n",
       "    <tr>\n",
       "      <th>2</th>\n",
       "      <td>MSG</td>\n",
       "      <td>317231577</td>\n",
       "      <td>UNIX:</td>\n",
       "      <td>1713773943</td>\n",
       "    </tr>\n",
       "    <tr>\n",
       "      <th>3</th>\n",
       "      <td>MSG</td>\n",
       "      <td>317384122</td>\n",
       "      <td>UNIX:</td>\n",
       "      <td>1713774095</td>\n",
       "    </tr>\n",
       "    <tr>\n",
       "      <th>4</th>\n",
       "      <td>MSG</td>\n",
       "      <td>317523519</td>\n",
       "      <td>UNIX:</td>\n",
       "      <td>1713774235</td>\n",
       "    </tr>\n",
       "  </tbody>\n",
       "</table>\n",
       "</div>"
      ],
      "text/plain": [
       "  Message        ETT   MSG2  UnixTimeStamp\n",
       "0     MSG  316933209  UNIX:     1713773644\n",
       "1     MSG  317085570  UNIX:     1713773797\n",
       "2     MSG  317231577  UNIX:     1713773943\n",
       "3     MSG  317384122  UNIX:     1713774095\n",
       "4     MSG  317523519  UNIX:     1713774235"
      ]
     },
     "execution_count": 31,
     "metadata": {},
     "output_type": "execute_result"
    }
   ],
   "source": [
    "df_time.head()"
   ]
  },
  {
   "cell_type": "code",
   "execution_count": 274,
   "id": "ef5a4221-9ed8-457b-bd8b-5de96e9548a7",
   "metadata": {
    "tags": []
   },
   "outputs": [
    {
     "data": {
      "text/plain": [
       "1684767985282"
      ]
     },
     "execution_count": 274,
     "metadata": {},
     "output_type": "execute_result"
    }
   ],
   "source": [
    "df_eye.Timestamp.max()"
   ]
  },
  {
   "cell_type": "code",
   "execution_count": 287,
   "id": "7f37fa93-78ab-4df3-8f8f-ebe7c45b6d8c",
   "metadata": {
    "tags": []
   },
   "outputs": [
    {
     "name": "stderr",
     "output_type": "stream",
     "text": [
      "/tmp/ipykernel_3419406/1102177156.py:1: FutureWarning: Calling int on a single element Series is deprecated and will raise a TypeError in the future. Use int(ser.iloc[0]) instead\n",
      "  df[\"Timestamp\"] = df.CurrentTimstamp - int(df_time[df_time.PID == PID].FirstHTMLTimestamp)\n"
     ]
    },
    {
     "data": {
      "text/html": [
       "<div>\n",
       "<style scoped>\n",
       "    .dataframe tbody tr th:only-of-type {\n",
       "        vertical-align: middle;\n",
       "    }\n",
       "\n",
       "    .dataframe tbody tr th {\n",
       "        vertical-align: top;\n",
       "    }\n",
       "\n",
       "    .dataframe thead th {\n",
       "        text-align: right;\n",
       "    }\n",
       "</style>\n",
       "<table border=\"1\" class=\"dataframe\">\n",
       "  <thead>\n",
       "    <tr style=\"text-align: right;\">\n",
       "      <th></th>\n",
       "      <th>CurrentTimstamp</th>\n",
       "      <th>CurrentEvent</th>\n",
       "      <th>CurrentTarget</th>\n",
       "      <th>CurrentClickX</th>\n",
       "      <th>CurrentClickY</th>\n",
       "      <th>CurrentURL</th>\n",
       "      <th>outerWidth</th>\n",
       "      <th>outerHeight</th>\n",
       "      <th>innerWidth</th>\n",
       "      <th>innerHeight</th>\n",
       "      <th>created</th>\n",
       "      <th>CurrentHtml</th>\n",
       "      <th>Timestamp</th>\n",
       "    </tr>\n",
       "  </thead>\n",
       "  <tbody>\n",
       "    <tr>\n",
       "      <th>0</th>\n",
       "      <td>1684764727464</td>\n",
       "      <td>load</td>\n",
       "      <td></td>\n",
       "      <td>0.0</td>\n",
       "      <td>0.0</td>\n",
       "      <td>https://www.amazon.com/s?k=dumbbell+weights&amp;sp...</td>\n",
       "      <td>1920.0</td>\n",
       "      <td>1040.0</td>\n",
       "      <td>1920.0</td>\n",
       "      <td>969.0</td>\n",
       "      <td>2023-05-22 14:12:08</td>\n",
       "      <td>&lt;body class=\"a-m-us a-aui_72554-c a-aui_accord...</td>\n",
       "      <td>0</td>\n",
       "    </tr>\n",
       "    <tr>\n",
       "      <th>1</th>\n",
       "      <td>1684764728472</td>\n",
       "      <td>scroll</td>\n",
       "      <td>scrolldown</td>\n",
       "      <td>0.0</td>\n",
       "      <td>0.0</td>\n",
       "      <td>https://www.amazon.com/s?k=dumbbell+weights&amp;sp...</td>\n",
       "      <td>1920.0</td>\n",
       "      <td>1040.0</td>\n",
       "      <td>1920.0</td>\n",
       "      <td>969.0</td>\n",
       "      <td>2023-05-22 14:12:09</td>\n",
       "      <td>&lt;body class=\"a-m-us a-aui_72554-c a-aui_accord...</td>\n",
       "      <td>1008</td>\n",
       "    </tr>\n",
       "    <tr>\n",
       "      <th>2</th>\n",
       "      <td>1684764729969</td>\n",
       "      <td>scroll</td>\n",
       "      <td>scrollup</td>\n",
       "      <td>0.0</td>\n",
       "      <td>0.0</td>\n",
       "      <td>https://www.amazon.com/s?k=dumbbell+weights&amp;sp...</td>\n",
       "      <td>1920.0</td>\n",
       "      <td>1040.0</td>\n",
       "      <td>1920.0</td>\n",
       "      <td>969.0</td>\n",
       "      <td>2023-05-22 14:12:11</td>\n",
       "      <td>&lt;body class=\"a-m-us a-aui_72554-c a-aui_accord...</td>\n",
       "      <td>2505</td>\n",
       "    </tr>\n",
       "    <tr>\n",
       "      <th>3</th>\n",
       "      <td>1684764731261</td>\n",
       "      <td>scroll</td>\n",
       "      <td>scrollup</td>\n",
       "      <td>0.0</td>\n",
       "      <td>0.0</td>\n",
       "      <td>https://www.amazon.com/s?k=dumbbell+weights&amp;sp...</td>\n",
       "      <td>1920.0</td>\n",
       "      <td>1040.0</td>\n",
       "      <td>1920.0</td>\n",
       "      <td>969.0</td>\n",
       "      <td>2023-05-22 14:12:11</td>\n",
       "      <td>&lt;body class=\"a-m-us a-aui_72554-c a-aui_accord...</td>\n",
       "      <td>3797</td>\n",
       "    </tr>\n",
       "    <tr>\n",
       "      <th>4</th>\n",
       "      <td>1684764732436</td>\n",
       "      <td>scroll</td>\n",
       "      <td>scrolldown</td>\n",
       "      <td>0.0</td>\n",
       "      <td>0.0</td>\n",
       "      <td>https://www.amazon.com/s?k=dumbbell+weights&amp;sp...</td>\n",
       "      <td>1920.0</td>\n",
       "      <td>1040.0</td>\n",
       "      <td>1920.0</td>\n",
       "      <td>969.0</td>\n",
       "      <td>2023-05-22 14:12:13</td>\n",
       "      <td>&lt;body class=\"a-m-us a-aui_72554-c a-aui_accord...</td>\n",
       "      <td>4972</td>\n",
       "    </tr>\n",
       "  </tbody>\n",
       "</table>\n",
       "</div>"
      ],
      "text/plain": [
       "   CurrentTimstamp CurrentEvent CurrentTarget  CurrentClickX  CurrentClickY   \n",
       "0    1684764727464         load                          0.0            0.0  \\\n",
       "1    1684764728472       scroll    scrolldown            0.0            0.0   \n",
       "2    1684764729969       scroll      scrollup            0.0            0.0   \n",
       "3    1684764731261       scroll      scrollup            0.0            0.0   \n",
       "4    1684764732436       scroll    scrolldown            0.0            0.0   \n",
       "\n",
       "                                          CurrentURL  outerWidth  outerHeight   \n",
       "0  https://www.amazon.com/s?k=dumbbell+weights&sp...      1920.0       1040.0  \\\n",
       "1  https://www.amazon.com/s?k=dumbbell+weights&sp...      1920.0       1040.0   \n",
       "2  https://www.amazon.com/s?k=dumbbell+weights&sp...      1920.0       1040.0   \n",
       "3  https://www.amazon.com/s?k=dumbbell+weights&sp...      1920.0       1040.0   \n",
       "4  https://www.amazon.com/s?k=dumbbell+weights&sp...      1920.0       1040.0   \n",
       "\n",
       "   innerWidth  innerHeight              created   \n",
       "0      1920.0        969.0  2023-05-22 14:12:08  \\\n",
       "1      1920.0        969.0  2023-05-22 14:12:09   \n",
       "2      1920.0        969.0  2023-05-22 14:12:11   \n",
       "3      1920.0        969.0  2023-05-22 14:12:11   \n",
       "4      1920.0        969.0  2023-05-22 14:12:13   \n",
       "\n",
       "                                         CurrentHtml  Timestamp  \n",
       "0  <body class=\"a-m-us a-aui_72554-c a-aui_accord...          0  \n",
       "1  <body class=\"a-m-us a-aui_72554-c a-aui_accord...       1008  \n",
       "2  <body class=\"a-m-us a-aui_72554-c a-aui_accord...       2505  \n",
       "3  <body class=\"a-m-us a-aui_72554-c a-aui_accord...       3797  \n",
       "4  <body class=\"a-m-us a-aui_72554-c a-aui_accord...       4972  "
      ]
     },
     "execution_count": 287,
     "metadata": {},
     "output_type": "execute_result"
    }
   ],
   "source": [
    "def convertEyeTimeToUnix(x):\n",
    "    #TODO: Implement this function"
   ]
  },
  {
   "cell_type": "code",
   "execution_count": 270,
   "id": "bbc1ad5d-ef58-4d24-86a8-101d91c794e4",
   "metadata": {
    "tags": []
   },
   "outputs": [
    {
     "data": {
      "text/plain": [
       "0          1684726344301\n",
       "1          1684726344302\n",
       "2          1684726344303\n",
       "3          1684726344304\n",
       "4          1684726344305\n",
       "               ...      \n",
       "2225207    1684729432010\n",
       "2225208    1684729432011\n",
       "2225209    1684729432012\n",
       "2225210    1684729432013\n",
       "2225211    1684729432014\n",
       "Name: Time, Length: 2046184, dtype: int64"
      ]
     },
     "execution_count": 270,
     "metadata": {},
     "output_type": "execute_result"
    }
   ],
   "source": [
    "df_eye.Time.apply(lambda x: convertEyeTimeToUnix(x))"
   ]
  },
  {
   "cell_type": "code",
   "execution_count": 242,
   "id": "ee4f92da-ce76-4fd1-b7ae-a9d71bf2a678",
   "metadata": {
    "tags": []
   },
   "outputs": [
    {
     "name": "stdout",
     "output_type": "stream",
     "text": [
      "2225212\n",
      "2225212\n",
      "2146155\n"
     ]
    },
    {
     "data": {
      "text/html": [
       "<div>\n",
       "<style scoped>\n",
       "    .dataframe tbody tr th:only-of-type {\n",
       "        vertical-align: middle;\n",
       "    }\n",
       "\n",
       "    .dataframe tbody tr th {\n",
       "        vertical-align: top;\n",
       "    }\n",
       "\n",
       "    .dataframe thead th {\n",
       "        text-align: right;\n",
       "    }\n",
       "</style>\n",
       "<table border=\"1\" class=\"dataframe\">\n",
       "  <thead>\n",
       "    <tr style=\"text-align: right;\">\n",
       "      <th></th>\n",
       "      <th>Time</th>\n",
       "      <th>X</th>\n",
       "      <th>Y</th>\n",
       "      <th>PupilSize</th>\n",
       "      <th>ParticipantNr</th>\n",
       "      <th>Timestamp</th>\n",
       "    </tr>\n",
       "  </thead>\n",
       "  <tbody>\n",
       "    <tr>\n",
       "      <th>0</th>\n",
       "      <td>22460412</td>\n",
       "      <td>974.900024</td>\n",
       "      <td>550.000000</td>\n",
       "      <td>3959.0</td>\n",
       "      <td>32768.0</td>\n",
       "      <td>1684726344301</td>\n",
       "    </tr>\n",
       "    <tr>\n",
       "      <th>1</th>\n",
       "      <td>22460413</td>\n",
       "      <td>974.700012</td>\n",
       "      <td>549.799988</td>\n",
       "      <td>3961.0</td>\n",
       "      <td>32768.0</td>\n",
       "      <td>1684726344302</td>\n",
       "    </tr>\n",
       "    <tr>\n",
       "      <th>2</th>\n",
       "      <td>22460414</td>\n",
       "      <td>974.500000</td>\n",
       "      <td>549.500000</td>\n",
       "      <td>3960.0</td>\n",
       "      <td>32768.0</td>\n",
       "      <td>1684726344303</td>\n",
       "    </tr>\n",
       "    <tr>\n",
       "      <th>3</th>\n",
       "      <td>22460415</td>\n",
       "      <td>974.099976</td>\n",
       "      <td>549.500000</td>\n",
       "      <td>3956.0</td>\n",
       "      <td>32768.0</td>\n",
       "      <td>1684726344304</td>\n",
       "    </tr>\n",
       "    <tr>\n",
       "      <th>4</th>\n",
       "      <td>22460416</td>\n",
       "      <td>973.500000</td>\n",
       "      <td>545.500000</td>\n",
       "      <td>3954.0</td>\n",
       "      <td>32768.0</td>\n",
       "      <td>1684726344305</td>\n",
       "    </tr>\n",
       "  </tbody>\n",
       "</table>\n",
       "</div>"
      ],
      "text/plain": [
       "       Time           X           Y  PupilSize  ParticipantNr      Timestamp\n",
       "0  22460412  974.900024  550.000000     3959.0        32768.0  1684726344301\n",
       "1  22460413  974.700012  549.799988     3961.0        32768.0  1684726344302\n",
       "2  22460414  974.500000  549.500000     3960.0        32768.0  1684726344303\n",
       "3  22460415  974.099976  549.500000     3956.0        32768.0  1684726344304\n",
       "4  22460416  973.500000  545.500000     3954.0        32768.0  1684726344305"
      ]
     },
     "execution_count": 242,
     "metadata": {},
     "output_type": "execute_result"
    }
   ],
   "source": [
    "df_eye = pd.read_csv(\"test.csv\")\n",
    "print(len(df_eye))\n",
    "\n",
    "\n",
    "## BLINK FITLERING\n",
    "df_eye.X = pd.to_numeric(df_eye.X, downcast='float', errors='coerce')\n",
    "df_eye.Y = pd.to_numeric(df_eye.Y, downcast='float', errors='coerce')\n",
    "print(len(df_eye))\n",
    "df_eye = df_eye[~df_eye.X.isna()]\n",
    "print(len(df_eye))\n",
    "df_eye = df_eye[~df_eye.Y.isna()]\n",
    "df_eye[\"Timestamp\"] = df_eye.Time.apply(lambda x: convertEyeTimeToUnix(x, firstTimeASC, TimeStartUnix))\n",
    "df_eye.head()"
   ]
  },
  {
   "cell_type": "code",
   "execution_count": 243,
   "id": "bfd80fbb-2b1f-41ff-93b6-e55931dc91db",
   "metadata": {
    "tags": []
   },
   "outputs": [
    {
     "data": {
      "text/html": [
       "<div>\n",
       "<style scoped>\n",
       "    .dataframe tbody tr th:only-of-type {\n",
       "        vertical-align: middle;\n",
       "    }\n",
       "\n",
       "    .dataframe tbody tr th {\n",
       "        vertical-align: top;\n",
       "    }\n",
       "\n",
       "    .dataframe thead th {\n",
       "        text-align: right;\n",
       "    }\n",
       "</style>\n",
       "<table border=\"1\" class=\"dataframe\">\n",
       "  <thead>\n",
       "    <tr style=\"text-align: right;\">\n",
       "      <th></th>\n",
       "      <th>Time</th>\n",
       "      <th>X</th>\n",
       "      <th>Y</th>\n",
       "      <th>PupilSize</th>\n",
       "      <th>ParticipantNr</th>\n",
       "      <th>Timestamp</th>\n",
       "    </tr>\n",
       "  </thead>\n",
       "  <tbody>\n",
       "  </tbody>\n",
       "</table>\n",
       "</div>"
      ],
      "text/plain": [
       "Empty DataFrame\n",
       "Columns: [Time, X, Y, PupilSize, ParticipantNr, Timestamp]\n",
       "Index: []"
      ]
     },
     "execution_count": 243,
     "metadata": {},
     "output_type": "execute_result"
    }
   ],
   "source": [
    "df_eye[df_eye.X.isna()]"
   ]
  },
  {
   "cell_type": "code",
   "execution_count": 244,
   "id": "1b0e9ea1-6dc2-4f05-a6d8-0fdc0ce1968a",
   "metadata": {
    "tags": []
   },
   "outputs": [
    {
     "data": {
      "image/png": "[encoded data removed]",
      "text/plain": [
       "<Figure size 640x480 with 1 Axes>"
      ]
     },
     "metadata": {},
     "output_type": "display_data"
    }
   ],
   "source": [
    "plt.plot(df_eye.X, df_eye.Y)\n",
    "plt.xlim(0,1920)\n",
    "plt.ylim(0,1080)\n",
    "plt.gca().invert_yaxis()\n",
    "plt.gca().invert_xaxis()"
   ]
  },
  {
   "cell_type": "code",
   "execution_count": 250,
   "id": "ef912504-46df-4b15-a119-9b752827cec9",
   "metadata": {
    "tags": []
   },
   "outputs": [
    {
     "data": {
      "text/plain": [
       "array([-711.        , -640.66200195, -570.32400391, -499.98600586,\n",
       "       -429.64800781, -359.31000977, -288.97201172, -218.63401367,\n",
       "       -148.29601562,  -77.95801758,   -7.62001953,   62.71797852,\n",
       "        133.05597656,  203.39397461,  273.73197266,  344.0699707 ,\n",
       "        414.40796875,  484.7459668 ,  555.08396484,  625.42196289,\n",
       "        695.75996094,  766.09795898,  836.43595703,  906.77395508,\n",
       "        977.11195313, 1047.44995117, 1117.78794922, 1188.12594727,\n",
       "       1258.46394531, 1328.80194336, 1399.13994141, 1469.47793945,\n",
       "       1539.8159375 , 1610.15393555, 1680.49193359, 1750.82993164,\n",
       "       1821.16792969, 1891.50592773, 1961.84392578, 2032.18192383,\n",
       "       2102.51992187, 2172.85791992, 2243.19591797, 2313.53391602,\n",
       "       2383.87191406, 2454.20991211, 2524.54791016, 2594.8859082 ,\n",
       "       2665.22390625, 2735.5619043 , 2805.89990234])"
      ]
     },
     "execution_count": 250,
     "metadata": {},
     "output_type": "execute_result"
    }
   ],
   "source": [
    "xedges"
   ]
  },
  {
   "cell_type": "code",
   "execution_count": 260,
   "id": "27f5b701-a520-4c22-b1d4-eefd3cc03699",
   "metadata": {
    "tags": []
   },
   "outputs": [],
   "source": [
    "df_eye = df_eye[(df_eye.X >= 0) &(df_eye.X <= 1920)]\n",
    "df_eye = df_eye[(df_eye.Y >= 0) &(df_eye.Y <= 1080)]"
   ]
  },
  {
   "cell_type": "code",
   "execution_count": 264,
   "id": "d0f36221-2d6e-4a8f-be91-c110be220708",
   "metadata": {
    "tags": []
   },
   "outputs": [
    {
     "data": {
      "image/png": "[encoded data removed]",
      "text/plain": [
       "<Figure size 640x480 with 1 Axes>"
      ]
     },
     "metadata": {},
     "output_type": "display_data"
    }
   ],
   "source": [
    "heatmap, xedges, yedges = np.histogram2d(df_eye.X, df_eye.Y, bins=(192//2, 108//2))\n",
    "extent = [0, 192//2, 0, 108//2]\n",
    "# extent = [xedges[0], xedges[-1], yedges[0], yedges[-1]]\n",
    "plt.clf()\n",
    "plt.imshow(heatmap.T, extent=extent, origin='lower')\n",
    "# plt.xlim(0,1920)\n",
    "# plt.ylim(0,1080)\n",
    "plt.gca().invert_yaxis()\n",
    "plt.gca().invert_xaxis()\n",
    "plt.show()"
   ]
  },
  {
   "cell_type": "code",
   "execution_count": 203,
   "id": "dbd9b930-a9ce-4f1e-a9a6-547a7d735a71",
   "metadata": {
    "tags": []
   },
   "outputs": [
    {
     "data": {
      "text/html": [
       "<div>\n",
       "<style scoped>\n",
       "    .dataframe tbody tr th:only-of-type {\n",
       "        vertical-align: middle;\n",
       "    }\n",
       "\n",
       "    .dataframe tbody tr th {\n",
       "        vertical-align: top;\n",
       "    }\n",
       "\n",
       "    .dataframe thead th {\n",
       "        text-align: right;\n",
       "    }\n",
       "</style>\n",
       "<table border=\"1\" class=\"dataframe\">\n",
       "  <thead>\n",
       "    <tr style=\"text-align: right;\">\n",
       "      <th></th>\n",
       "      <th>CurrentTimstamp</th>\n",
       "      <th>CurrentEvent</th>\n",
       "      <th>CurrentTarget</th>\n",
       "      <th>CurrentClickX</th>\n",
       "      <th>CurrentClickY</th>\n",
       "      <th>CurrentURL</th>\n",
       "      <th>outerWidth</th>\n",
       "      <th>outerHeight</th>\n",
       "      <th>innerWidth</th>\n",
       "      <th>innerHeight</th>\n",
       "      <th>created</th>\n",
       "      <th>CurrentHtml</th>\n",
       "      <th>Timestampdiff</th>\n",
       "      <th>SameURL</th>\n",
       "      <th>SameTarget</th>\n",
       "    </tr>\n",
       "  </thead>\n",
       "  <tbody>\n",
       "    <tr>\n",
       "      <th>9</th>\n",
       "      <td>1684764738317</td>\n",
       "      <td>click</td>\n",
       "      <td>7dac1227-4da1-4a08-b81d-9c198305cbef</td>\n",
       "      <td>1067.0</td>\n",
       "      <td>881.0</td>\n",
       "      <td>https://www.amazon.com/s?k=dumbbell+weights&amp;sp...</td>\n",
       "      <td>1920.0</td>\n",
       "      <td>1040.0</td>\n",
       "      <td>1920.0</td>\n",
       "      <td>969.0</td>\n",
       "      <td>2023-05-22 14:12:19</td>\n",
       "      <td>&lt;body class=\"a-m-us a-aui_72554-c a-aui_accord...</td>\n",
       "      <td>NaN</td>\n",
       "      <td>False</td>\n",
       "      <td>False</td>\n",
       "    </tr>\n",
       "    <tr>\n",
       "      <th>21</th>\n",
       "      <td>1684764752618</td>\n",
       "      <td>click</td>\n",
       "      <td>0fa153b7-1ab8-4bdc-8cfa-23a2c6c5acdc</td>\n",
       "      <td>1114.0</td>\n",
       "      <td>435.0</td>\n",
       "      <td>https://www.amazon.com/s?k=dumbbell+weights&amp;pa...</td>\n",
       "      <td>1920.0</td>\n",
       "      <td>1040.0</td>\n",
       "      <td>1920.0</td>\n",
       "      <td>969.0</td>\n",
       "      <td>2023-05-22 14:12:33</td>\n",
       "      <td>&lt;body class=\"a-m-us a-aui_72554-c a-aui_accord...</td>\n",
       "      <td>14301.0</td>\n",
       "      <td>False</td>\n",
       "      <td>False</td>\n",
       "    </tr>\n",
       "    <tr>\n",
       "      <th>30</th>\n",
       "      <td>1684764765141</td>\n",
       "      <td>click</td>\n",
       "      <td>806a2f83-a598-407e-abdf-01db0e526f4f</td>\n",
       "      <td>1133.0</td>\n",
       "      <td>812.0</td>\n",
       "      <td>https://www.amazon.com/s?k=dumbbell+weights&amp;pa...</td>\n",
       "      <td>1920.0</td>\n",
       "      <td>1040.0</td>\n",
       "      <td>1920.0</td>\n",
       "      <td>969.0</td>\n",
       "      <td>2023-05-22 14:12:45</td>\n",
       "      <td>&lt;body class=\"a-m-us a-aui_72554-c a-aui_accord...</td>\n",
       "      <td>12523.0</td>\n",
       "      <td>False</td>\n",
       "      <td>False</td>\n",
       "    </tr>\n",
       "    <tr>\n",
       "      <th>39</th>\n",
       "      <td>1684764778222</td>\n",
       "      <td>click</td>\n",
       "      <td>a0ba9819-2822-4f2a-b48d-5cc277b512f3</td>\n",
       "      <td>972.0</td>\n",
       "      <td>947.0</td>\n",
       "      <td>https://www.amazon.com/s?k=dumbbell+weights&amp;pa...</td>\n",
       "      <td>1920.0</td>\n",
       "      <td>1040.0</td>\n",
       "      <td>1920.0</td>\n",
       "      <td>969.0</td>\n",
       "      <td>2023-05-22 14:12:59</td>\n",
       "      <td>&lt;body class=\"a-m-us a-aui_72554-c a-aui_accord...</td>\n",
       "      <td>13081.0</td>\n",
       "      <td>False</td>\n",
       "      <td>False</td>\n",
       "    </tr>\n",
       "    <tr>\n",
       "      <th>43</th>\n",
       "      <td>1684764784849</td>\n",
       "      <td>click</td>\n",
       "      <td>18628d22-5fca-42d2-b8d3-0fa545d56b33</td>\n",
       "      <td>968.0</td>\n",
       "      <td>962.0</td>\n",
       "      <td>https://www.amazon.com/s?k=dumbbell+weights&amp;pa...</td>\n",
       "      <td>1920.0</td>\n",
       "      <td>1040.0</td>\n",
       "      <td>1920.0</td>\n",
       "      <td>969.0</td>\n",
       "      <td>2023-05-22 14:13:05</td>\n",
       "      <td>&lt;body class=\"a-m-us a-aui_72554-c a-aui_accord...</td>\n",
       "      <td>6627.0</td>\n",
       "      <td>True</td>\n",
       "      <td>False</td>\n",
       "    </tr>\n",
       "  </tbody>\n",
       "</table>\n",
       "</div>"
      ],
      "text/plain": [
       "    CurrentTimstamp CurrentEvent                         CurrentTarget   \n",
       "9     1684764738317        click  7dac1227-4da1-4a08-b81d-9c198305cbef  \\\n",
       "21    1684764752618        click  0fa153b7-1ab8-4bdc-8cfa-23a2c6c5acdc   \n",
       "30    1684764765141        click  806a2f83-a598-407e-abdf-01db0e526f4f   \n",
       "39    1684764778222        click  a0ba9819-2822-4f2a-b48d-5cc277b512f3   \n",
       "43    1684764784849        click  18628d22-5fca-42d2-b8d3-0fa545d56b33   \n",
       "\n",
       "    CurrentClickX  CurrentClickY   \n",
       "9          1067.0          881.0  \\\n",
       "21         1114.0          435.0   \n",
       "30         1133.0          812.0   \n",
       "39          972.0          947.0   \n",
       "43          968.0          962.0   \n",
       "\n",
       "                                           CurrentURL  outerWidth   \n",
       "9   https://www.amazon.com/s?k=dumbbell+weights&sp...      1920.0  \\\n",
       "21  https://www.amazon.com/s?k=dumbbell+weights&pa...      1920.0   \n",
       "30  https://www.amazon.com/s?k=dumbbell+weights&pa...      1920.0   \n",
       "39  https://www.amazon.com/s?k=dumbbell+weights&pa...      1920.0   \n",
       "43  https://www.amazon.com/s?k=dumbbell+weights&pa...      1920.0   \n",
       "\n",
       "    outerHeight  innerWidth  innerHeight              created   \n",
       "9        1040.0      1920.0        969.0  2023-05-22 14:12:19  \\\n",
       "21       1040.0      1920.0        969.0  2023-05-22 14:12:33   \n",
       "30       1040.0      1920.0        969.0  2023-05-22 14:12:45   \n",
       "39       1040.0      1920.0        969.0  2023-05-22 14:12:59   \n",
       "43       1040.0      1920.0        969.0  2023-05-22 14:13:05   \n",
       "\n",
       "                                          CurrentHtml  Timestampdiff  SameURL   \n",
       "9   <body class=\"a-m-us a-aui_72554-c a-aui_accord...            NaN    False  \\\n",
       "21  <body class=\"a-m-us a-aui_72554-c a-aui_accord...        14301.0    False   \n",
       "30  <body class=\"a-m-us a-aui_72554-c a-aui_accord...        12523.0    False   \n",
       "39  <body class=\"a-m-us a-aui_72554-c a-aui_accord...        13081.0    False   \n",
       "43  <body class=\"a-m-us a-aui_72554-c a-aui_accord...         6627.0     True   \n",
       "\n",
       "    SameTarget  \n",
       "9        False  \n",
       "21       False  \n",
       "30       False  \n",
       "39       False  \n",
       "43       False  "
      ]
     },
     "execution_count": 203,
     "metadata": {},
     "output_type": "execute_result"
    }
   ],
   "source": [
    "df_click_filtered.head()"
   ]
  },
  {
   "cell_type": "markdown",
   "id": "44f0b79a-632a-4a48-847d-337797dc12fa",
   "metadata": {},
   "source": [
    "# Create Training Data"
   ]
  },
  {
   "cell_type": "code",
   "execution_count": 292,
   "id": "25413923-f261-4a3c-9f94-7c25ce59ac7f",
   "metadata": {
    "tags": []
   },
   "outputs": [],
   "source": [
    "def clickOccuredinWindow(WindowMin, WindowMax):\n",
    "    df_labels_tmp = df[(df.Timestamp > WindowMin) & (df.Timestamp < WindowMax)]\n",
    "    # If atleast one click occured in that time the resulting df has more than 0 entries. the label is then 1\n",
    "    if len(df_labels_tmp) > 0:\n",
    "        return 1\n",
    "    return 0"
   ]
  },
  {
   "cell_type": "code",
   "execution_count": 297,
   "id": "7639ad21-c1c3-430a-b3fe-9d13d765aa89",
   "metadata": {
    "tags": []
   },
   "outputs": [
    {
     "name": "stdout",
     "output_type": "stream",
     "text": [
      "(10, 1000, 2)\n",
      "(10, 2000)\n"
     ]
    },
    {
     "data": {
      "text/plain": [
       "(10,)"
      ]
     },
     "execution_count": 297,
     "metadata": {},
     "output_type": "execute_result"
    }
   ],
   "source": [
    "window_size = 1000\n",
    "stride = window_size\n",
    "x_train = []\n",
    "y_train = []\n",
    "# for i in range(0,len(df_eye), stride):\n",
    "for i in range(0,10000, stride):\n",
    "    df_window = df_eye.iloc[i:i+window_size]\n",
    "\n",
    "    x_train.append(df_window[[\"X\",\"Y\"]].values)\n",
    "    y_train.append(clickOccuredinWindow(df_window.Timestamp.min(), df_window.Timestamp.max()))\n",
    "x_train = np.array(x_train)\n",
    "y_train = np.array(y_train)\n",
    "print(x_train.shape)\n",
    "# Reshape Dense to (SampleAmount, Data) as Dense layers only take 1D input\n",
    "x_train = x_train.reshape(x_train.shape[0], x_train.shape[1]*x_train.shape[2])\n",
    "print(x_train.shape)\n",
    "y_train.shape"
   ]
  },
  {
   "cell_type": "code",
   "execution_count": 298,
   "id": "75580c17-a851-4669-912b-2f55a51a7236",
   "metadata": {
    "tags": []
   },
   "outputs": [
    {
     "data": {
      "text/plain": [
       "array([0, 0, 0, 0, 0, 0, 1, 1, 1, 0])"
      ]
     },
     "execution_count": 298,
     "metadata": {},
     "output_type": "execute_result"
    }
   ],
   "source": [
    "y_train"
   ]
  },
  {
   "cell_type": "markdown",
   "id": "e186c050-3585-452d-b494-af5972426840",
   "metadata": {},
   "source": [
    "# TODO:\n",
    "- extract x,y coords and width, heigth, and customuuid of all elements in the CurrentHTML\n",
    "- create trainings data and labels with windows. Use a stride = window_size to reduce dataamount\n",
    "- extract the clickable HTML elements -> these are the potential clicks \n",
    "- extract the actually clicked HTML elements (with the UUID in \"CurrentTarget\")\n",
    "- filter data (maybe there are 3 clicks very close to each other because of the slow internet) \n",
    "- HTML Y coordinates have to be moved down by 71px, so 0,0 of eye and mouse matches (So the current (0,0) is (71,0))\n",
    "- Timestamps between eye and mouse data have to be synced.\n",
    "- One hot encoding, either a click or no click"
   ]
  },
  {
   "cell_type": "markdown",
   "id": "dc443e65-052a-4e59-b4e9-aaae3e321ad2",
   "metadata": {
    "tags": []
   },
   "source": [
    "# Goal: Train a first basic fully connected neural network which detects if did a click happen during the time window based on eye tracking data"
   ]
  },
  {
   "cell_type": "code",
   "execution_count": 237,
   "id": "ec19cee7-0d35-4420-89e1-6bb8c06352f4",
   "metadata": {
    "tags": []
   },
   "outputs": [
    {
     "name": "stdout",
     "output_type": "stream",
     "text": [
      "Model: \"sequential_2\"\n",
      "_________________________________________________________________\n",
      " Layer (type)                Output Shape              Param #   \n",
      "=================================================================\n",
      " dense_6 (Dense)             (None, 64)                6464      \n",
      "                                                                 \n",
      " dense_7 (Dense)             (None, 32)                2080      \n",
      "                                                                 \n",
      " dense_8 (Dense)             (None, 1)                 33        \n",
      "                                                                 \n",
      "=================================================================\n",
      "Total params: 8,577\n",
      "Trainable params: 8,577\n",
      "Non-trainable params: 0\n",
      "_________________________________________________________________\n"
     ]
    }
   ],
   "source": [
    "import tensorflow as tf\n",
    "from tensorflow.keras.models import Sequential\n",
    "from tensorflow.keras.layers import Dense\n",
    "\n",
    "# Create a sequential model\n",
    "model = Sequential()\n",
    "\n",
    "\n",
    "model.add(Dense(units=64, activation='relu', input_shape=(window_size*2,)))  # Replace input_dim with the appropriate input shape\n",
    "model.add(Dense(units=32, activation='relu'))\n",
    "\n",
    "model.add(Dense(units=1, activation='sigmoid'))\n",
    "\n",
    "model.summary()"
   ]
  },
  {
   "cell_type": "markdown",
   "id": "780e58fb-80ba-4d51-b8d3-d07e6b51b135",
   "metadata": {},
   "source": [
    "If you want to train LSTMs you probably need to use a datagenerator to generate the windows you use for training before each batch. "
   ]
  },
  {
   "cell_type": "code",
   "execution_count": null,
   "id": "d7d3f844-7f01-4a97-a680-9632705f357b",
   "metadata": {},
   "outputs": [],
   "source": [
    "model.compile(optimizer='adam', loss='mean_squared_error')\n",
    "# Train the model\n",
    "model.fit(x_train, y_train, epochs=10\n",
    "          , batch_size=32, validation_split=0.2)"
   ]
  },
  {
   "cell_type": "code",
   "execution_count": null,
   "id": "6e5d83a6-abf1-4d53-929a-fa67033bbfaa",
   "metadata": {},
   "outputs": [],
   "source": []
  }
 ],
 "metadata": {
  "kernelspec": {
   "display_name": "Python 3 (ipykernel)",
   "language": "python",
   "name": "python3"
  },
  "language_info": {
   "codemirror_mode": {
    "name": "ipython",
    "version": 3
   },
   "file_extension": ".py",
   "mimetype": "text/x-python",
   "name": "python",
   "nbconvert_exporter": "python",
   "pygments_lexer": "ipython3",
   "version": "3.11.1"
  }
 },
 "nbformat": 4,
 "nbformat_minor": 5
}
