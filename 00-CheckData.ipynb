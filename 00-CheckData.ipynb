{
 "cells": [
  {
   "cell_type": "code",
   "id": "8b7b49ce-163b-4245-8022-3fd430ea5195",
   "metadata": {
    "tags": [],
    "ExecuteTime": {
     "end_time": "2024-05-15T19:25:39.907375Z",
     "start_time": "2024-05-15T19:25:38.797609Z"
    }
   },
   "source": [
    "import pandas as pd\n",
    "import numpy as np\n",
    "import html\n",
    "from html.parser import HTMLParser\n",
    "from bs4 import BeautifulSoup\n",
    "from pandarallel import pandarallel\n",
    "pandarallel.initialize(progress_bar=True, nb_workers=20) # 20 might be too much when running this on your local system, its the number of threads used\n",
    "from pathlib import Path\n",
    "import os\n",
    "import sqlite3\n",
    "import pickle"
   ],
   "outputs": [
    {
     "name": "stdout",
     "output_type": "stream",
     "text": [
      "INFO: Pandarallel will run on 20 workers.\n",
      "INFO: Pandarallel will use standard multiprocessing data transfer (pipe) to transfer data between the main process and workers.\n"
     ]
    }
   ],
   "execution_count": 1
  },
  {
   "cell_type": "markdown",
   "id": "300fa07f-ccaa-4554-99db-92d086af0e72",
   "metadata": {},
   "source": [
    "# Transform db into pickle"
   ]
  },
  {
   "cell_type": "code",
   "execution_count": 2,
   "id": "8386ef0f-c400-4853-90b8-bab97329f12c",
   "metadata": {
    "tags": []
   },
   "outputs": [],
   "source": [
    "def filterHtmlBlob(html):\n",
    "    html = html.replace('\\\\\"', '\"').replace(\"\\\\r\\\\n\", \"\")\n",
    "    html = html.replace('\\\"', '\"').replace(\"\\r\\n\", \"\")\n",
    "    # print(f\"OG html: {len(html)}\")\n",
    "    parsed_html = BeautifulSoup(html)\n",
    "    for s in parsed_html.select('script'):\n",
    "        s.extract()\n",
    "    filtered_elements = parsed_html.find_all('body')\n",
    "    return str(filtered_elements[0])"
   ]
  },
  {
   "cell_type": "code",
   "execution_count": 3,
   "id": "520bb156-54f9-431e-a78b-cc66d568caad",
   "metadata": {
    "tags": []
   },
   "outputs": [
    {
     "name": "stdout",
     "output_type": "stream",
     "text": [
      "['/srv/share/intent_prediction2024/db/database_9.db', '/srv/share/intent_prediction2024/db/database_2.db', '/srv/share/intent_prediction2024/db/database_10.db', '/srv/share/intent_prediction2024/db/database_1.db', '/srv/share/intent_prediction2024/db/database_7.db', '/srv/share/intent_prediction2024/db/database_8.db', '/srv/share/intent_prediction2024/db/database_4.db', '/srv/share/intent_prediction2024/db/database_6.db', '/srv/share/intent_prediction2024/db/database_11.db', '/srv/share/intent_prediction2024/db/database_5.db', '/srv/share/intent_prediction2024/db/database_3.db']\n"
     ]
    }
   ],
   "source": [
    "import os\n",
    "import sqlite3\n",
    "import pickle\n",
    "\n",
    "folder_path ='/srv/share/intent_prediction2024/db'  # Replace with the path to your folder\n",
    "# folder_path = '/data/db'\n",
    "\n",
    "file_list = []\n",
    "for root, dirs, files in os.walk(folder_path):\n",
    "    for file in files:\n",
    "        file_path = os.path.join(root, file)\n",
    "        file_list.append(file_path)\n",
    "\n",
    "print(file_list)"
   ]
  },
  {
   "cell_type": "code",
   "execution_count": 4,
   "id": "40910fc6-5d9e-4b48-8006-f162b39bae9e",
   "metadata": {
    "tags": []
   },
   "outputs": [
    {
     "name": "stdout",
     "output_type": "stream",
     "text": [
      "file /srv/share/intent_prediction2024/processed_labels/webdata_9.pkl exists\n",
      "file /srv/share/intent_prediction2024/processed_labels/webdata_2.pkl exists\n",
      "file /srv/share/intent_prediction2024/processed_labels/webdata_10.pkl exists\n",
      "file /srv/share/intent_prediction2024/processed_labels/webdata_1.pkl exists\n",
      "file /srv/share/intent_prediction2024/processed_labels/webdata_7.pkl exists\n",
      "file /srv/share/intent_prediction2024/processed_labels/webdata_8.pkl exists\n",
      "file /srv/share/intent_prediction2024/processed_labels/webdata_4.pkl exists\n",
      "file /srv/share/intent_prediction2024/processed_labels/webdata_6.pkl exists\n",
      "file /srv/share/intent_prediction2024/processed_labels/webdata_11.pkl exists\n",
      "file /srv/share/intent_prediction2024/processed_labels/webdata_5.pkl exists\n",
      "file /srv/share/intent_prediction2024/processed_labels/webdata_3.pkl exists\n"
     ]
    },
    {
     "data": {
      "text/plain": [
       "[]"
      ]
     },
     "execution_count": 4,
     "metadata": {},
     "output_type": "execute_result"
    }
   ],
   "source": [
    "new_file_list = []\n",
    "for file in file_list:\n",
    "    path = file.split(\"db\")[0] + \"processed_labels/\"\n",
    "    filename = file.split(\"/\")[-1].split(\".\")[0].replace(\"database\", \"webdata\")\n",
    "    fname = f\"{path}{filename}.pkl\"\n",
    "    my_file = Path(fname)\n",
    "    if not my_file.is_file():\n",
    "        new_file_list.append(file)\n",
    "    else:\n",
    "        print(f\"file {fname} exists\")\n",
    "new_file_list"
   ]
  },
  {
   "cell_type": "code",
   "execution_count": 5,
   "id": "70f88aca-37c8-45fa-b7a6-ef760ebdf223",
   "metadata": {
    "tags": []
   },
   "outputs": [],
   "source": [
    "def dbToPkl(file):\n",
    "    path = file.split(\"db\")[0] + \"processed_labels/\"\n",
    "    filename = file.split(\"/\")[-1].split(\".\")[0].replace(\"database\", \"webdata\")\n",
    "    fname = f\"{path}{filename}.pkl\"\n",
    "    \n",
    "    my_file = Path(fname)\n",
    "    if my_file.is_file():\n",
    "        print(f\"{fname} exists\")\n",
    "        return\n",
    "    print(f\"Processing: {fname}\")\n",
    "    conn = sqlite3.connect(file)\n",
    "    query = 'SELECT * FROM actions'\n",
    "    df = pd.read_sql_query(query, conn)\n",
    "    df[\"CurrentHtml\"] = df.Html.parallel_apply(lambda x: filterHtmlBlob(x))\n",
    "    df_filtered = df.drop(columns=[\"Html\", \"id\"], axis=1)\n",
    "    df_filtered.to_pickle(f\"{path}{filename}.pkl\")\n",
    "    conn.close()"
   ]
  },
  {
   "cell_type": "code",
   "execution_count": 6,
   "id": "ea7f4c3c-219d-4d83-8332-97d943959309",
   "metadata": {
    "tags": []
   },
   "outputs": [],
   "source": [
    "for file in new_file_list:\n",
    "    dbToPkl(file)"
   ]
  },
  {
   "cell_type": "markdown",
   "id": "41b502e0-1a78-4d5a-a207-b1f8fdfc7b0d",
   "metadata": {
    "tags": []
   },
   "source": [
    "# Check how many uuid tags are in the html thingies"
   ]
  },
  {
   "cell_type": "code",
   "id": "7ffa6aea-1a3e-48f9-a8d9-5dccc5f7ed39",
   "metadata": {
    "ExecuteTime": {
     "end_time": "2024-05-15T19:26:50.669824Z",
     "start_time": "2024-05-15T19:26:48.220812Z"
    }
   },
   "source": "df = pd.read_pickle('./webdata_27.pkl')",
   "outputs": [],
   "execution_count": 2
  },
  {
   "cell_type": "code",
   "id": "b5cc77cb-32fa-48e4-b11e-4bdf457e023a",
   "metadata": {
    "ExecuteTime": {
     "end_time": "2024-05-15T19:27:13.000022Z",
     "start_time": "2024-05-15T19:27:12.935835Z"
    }
   },
   "source": [
    "df.head()"
   ],
   "outputs": [
    {
     "data": {
      "text/plain": [
       "   CurrentTimstamp CurrentEvent CurrentTarget  CurrentClickX  CurrentClickY  \\\n",
       "0    1714634331735         load                          0.0            0.0   \n",
       "1    1714634336709         load                          0.0            0.0   \n",
       "2    1714634340209       scroll    scrolldown            0.0            0.0   \n",
       "3    1714634342290       scroll    scrolldown            0.0            0.0   \n",
       "4    1714634345036       scroll      scrollup            0.0            0.0   \n",
       "\n",
       "                                          CurrentURL  outerWidth  outerHeight  \\\n",
       "0  https://www.amazon.com/s?k=electric+toothbrush...      1920.0       1040.0   \n",
       "1  https://www.amazon.com/s?k=electric+toothbrush...      1920.0       1040.0   \n",
       "2  https://www.amazon.com/s?k=electric+toothbrush...      1920.0       1040.0   \n",
       "3  https://www.amazon.com/s?k=electric+toothbrush...      1920.0       1040.0   \n",
       "4  https://www.amazon.com/s?k=electric+toothbrush...      1920.0       1040.0   \n",
       "\n",
       "   innerWidth  innerHeight              created  \\\n",
       "0      1920.0        953.0  2024-05-02 07:18:52   \n",
       "1      1920.0        953.0  2024-05-02 07:18:58   \n",
       "2      1920.0        953.0  2024-05-02 07:19:02   \n",
       "3      1920.0        953.0  2024-05-02 07:19:04   \n",
       "4      1920.0        953.0  2024-05-02 07:19:07   \n",
       "\n",
       "                                         CurrentHtml  \n",
       "0  <body> <a href=\"/ref=cs_503_logo\"><img alt=\"Am...  \n",
       "1  <body class=\"a-m-us a-aui_72554-c a-aui_a11y_2...  \n",
       "2  <body class=\"a-m-us a-aui_72554-c a-aui_a11y_2...  \n",
       "3  <body class=\"a-m-us a-aui_72554-c a-aui_a11y_2...  \n",
       "4  <body class=\"a-m-us a-aui_72554-c a-aui_a11y_2...  "
      ],
      "text/html": [
       "<div>\n",
       "<style scoped>\n",
       "    .dataframe tbody tr th:only-of-type {\n",
       "        vertical-align: middle;\n",
       "    }\n",
       "\n",
       "    .dataframe tbody tr th {\n",
       "        vertical-align: top;\n",
       "    }\n",
       "\n",
       "    .dataframe thead th {\n",
       "        text-align: right;\n",
       "    }\n",
       "</style>\n",
       "<table border=\"1\" class=\"dataframe\">\n",
       "  <thead>\n",
       "    <tr style=\"text-align: right;\">\n",
       "      <th></th>\n",
       "      <th>CurrentTimstamp</th>\n",
       "      <th>CurrentEvent</th>\n",
       "      <th>CurrentTarget</th>\n",
       "      <th>CurrentClickX</th>\n",
       "      <th>CurrentClickY</th>\n",
       "      <th>CurrentURL</th>\n",
       "      <th>outerWidth</th>\n",
       "      <th>outerHeight</th>\n",
       "      <th>innerWidth</th>\n",
       "      <th>innerHeight</th>\n",
       "      <th>created</th>\n",
       "      <th>CurrentHtml</th>\n",
       "    </tr>\n",
       "  </thead>\n",
       "  <tbody>\n",
       "    <tr>\n",
       "      <th>0</th>\n",
       "      <td>1714634331735</td>\n",
       "      <td>load</td>\n",
       "      <td></td>\n",
       "      <td>0.0</td>\n",
       "      <td>0.0</td>\n",
       "      <td>https://www.amazon.com/s?k=electric+toothbrush...</td>\n",
       "      <td>1920.0</td>\n",
       "      <td>1040.0</td>\n",
       "      <td>1920.0</td>\n",
       "      <td>953.0</td>\n",
       "      <td>2024-05-02 07:18:52</td>\n",
       "      <td>&lt;body&gt; &lt;a href=\"/ref=cs_503_logo\"&gt;&lt;img alt=\"Am...</td>\n",
       "    </tr>\n",
       "    <tr>\n",
       "      <th>1</th>\n",
       "      <td>1714634336709</td>\n",
       "      <td>load</td>\n",
       "      <td></td>\n",
       "      <td>0.0</td>\n",
       "      <td>0.0</td>\n",
       "      <td>https://www.amazon.com/s?k=electric+toothbrush...</td>\n",
       "      <td>1920.0</td>\n",
       "      <td>1040.0</td>\n",
       "      <td>1920.0</td>\n",
       "      <td>953.0</td>\n",
       "      <td>2024-05-02 07:18:58</td>\n",
       "      <td>&lt;body class=\"a-m-us a-aui_72554-c a-aui_a11y_2...</td>\n",
       "    </tr>\n",
       "    <tr>\n",
       "      <th>2</th>\n",
       "      <td>1714634340209</td>\n",
       "      <td>scroll</td>\n",
       "      <td>scrolldown</td>\n",
       "      <td>0.0</td>\n",
       "      <td>0.0</td>\n",
       "      <td>https://www.amazon.com/s?k=electric+toothbrush...</td>\n",
       "      <td>1920.0</td>\n",
       "      <td>1040.0</td>\n",
       "      <td>1920.0</td>\n",
       "      <td>953.0</td>\n",
       "      <td>2024-05-02 07:19:02</td>\n",
       "      <td>&lt;body class=\"a-m-us a-aui_72554-c a-aui_a11y_2...</td>\n",
       "    </tr>\n",
       "    <tr>\n",
       "      <th>3</th>\n",
       "      <td>1714634342290</td>\n",
       "      <td>scroll</td>\n",
       "      <td>scrolldown</td>\n",
       "      <td>0.0</td>\n",
       "      <td>0.0</td>\n",
       "      <td>https://www.amazon.com/s?k=electric+toothbrush...</td>\n",
       "      <td>1920.0</td>\n",
       "      <td>1040.0</td>\n",
       "      <td>1920.0</td>\n",
       "      <td>953.0</td>\n",
       "      <td>2024-05-02 07:19:04</td>\n",
       "      <td>&lt;body class=\"a-m-us a-aui_72554-c a-aui_a11y_2...</td>\n",
       "    </tr>\n",
       "    <tr>\n",
       "      <th>4</th>\n",
       "      <td>1714634345036</td>\n",
       "      <td>scroll</td>\n",
       "      <td>scrollup</td>\n",
       "      <td>0.0</td>\n",
       "      <td>0.0</td>\n",
       "      <td>https://www.amazon.com/s?k=electric+toothbrush...</td>\n",
       "      <td>1920.0</td>\n",
       "      <td>1040.0</td>\n",
       "      <td>1920.0</td>\n",
       "      <td>953.0</td>\n",
       "      <td>2024-05-02 07:19:07</td>\n",
       "      <td>&lt;body class=\"a-m-us a-aui_72554-c a-aui_a11y_2...</td>\n",
       "    </tr>\n",
       "  </tbody>\n",
       "</table>\n",
       "</div>"
      ]
     },
     "execution_count": 3,
     "metadata": {},
     "output_type": "execute_result"
    }
   ],
   "execution_count": 3
  },
  {
   "cell_type": "code",
   "id": "36b16b39-f686-486a-88b0-0c2618740392",
   "metadata": {
    "tags": [],
    "jupyter": {
     "is_executing": true
    }
   },
   "source": [
    "import re\n",
    "def getUUIDoocs(html):\n",
    "    return [m.start() for m in re.finditer('customuuid', html)]\n",
    "def getUUIDAmount(html):\n",
    "    return len([m.start() for m in re.finditer('customuuid', html)])"
   ],
   "outputs": [],
   "execution_count": null
  },
  {
   "cell_type": "code",
   "execution_count": 9,
   "id": "0ed0fe58-5697-4065-985f-6f96e3b36dc0",
   "metadata": {
    "tags": []
   },
   "outputs": [],
   "source": [
    "tmp = df.CurrentHtml.iloc[1]\n",
    "tmp2 = filterHtmlBlob(tmp)\n"
   ]
  },
  {
   "cell_type": "code",
   "execution_count": 10,
   "id": "70653a22-cf19-4256-891c-6c918fe6ec3f",
   "metadata": {
    "tags": []
   },
   "outputs": [
    {
     "data": {
      "text/plain": [
       "14"
      ]
     },
     "execution_count": 10,
     "metadata": {},
     "output_type": "execute_result"
    }
   ],
   "source": [
    "tmp2 = filterHtmlBlob(tmp)\n",
    "getUUIDAmount(str(tmp2))"
   ]
  },
  {
   "cell_type": "code",
   "execution_count": 11,
   "id": "9b01b08e-a041-43d2-b5f9-720a8472e308",
   "metadata": {
    "tags": []
   },
   "outputs": [
    {
     "data": {
      "text/plain": [
       "4461"
      ]
     },
     "execution_count": 11,
     "metadata": {},
     "output_type": "execute_result"
    }
   ],
   "source": [
    "class MyHTMLParser(HTMLParser):\n",
    "    els = []\n",
    "    def handle_starttag(self, tag, attrs):\n",
    "        d = dict(attrs)\n",
    "        if len(attrs) > 0:\n",
    "            if 'customuuid' in d.keys():\n",
    "                if not (d['x'] == d['y'] == d['width'] == d['height'] == '0'):\n",
    "                    # print(\"Encountered a start tag:\", tag)\n",
    "                    # print(attrs)\n",
    "                    c = d['class'] if 'class' in d.keys() else None\n",
    "                    i = d['id'] if 'id' in d.keys() else None\n",
    "                    tmp = {'HtmlX': float(d['x']), 'HtmlY': float(d['y']), 'HtmlWidth': float(d['width']),'HtmlHeight': float(d['height']), 'HtmlUUID': d['customuuid'],'HtmlTag': tag, 'HtmlClass': c, 'HtmlId': i}\n",
    "                    self.els.append(tmp)\n",
    "    def handle_startendtag(self, tag, attrs):\n",
    "        d = dict(attrs)\n",
    "        if len(attrs) > 0:\n",
    "            if 'customuuid' in d.keys():\n",
    "                if not (d['x'] == d['y'] == d['width'] == d['height'] == '0'):\n",
    "                    # print(\"Encountered a startend tag:\", tag)\n",
    "                    c = d['class'] if 'class' in d.keys() else None\n",
    "                    i = d['id'] if 'id' in d.keys() else None\n",
    "                    tmp = {'HtmlX': float(d['x']), 'HtmlY': float(d['y']), 'HtmlWidth': float(d['width']),'HtmlHeight': float(d['height']), 'HtmlUUID': d['customuuid'],'HtmlTag': tag, 'HtmlClass': c, 'HtmlId': i}\n",
    "                    self.els.append(tmp)\n",
    "\n",
    "#     def handle_endtag(self, tag):\n",
    "#         print(\"Encountered an end tag :\", tag)\n",
    "\n",
    "#     def handle_data(self, data):\n",
    "#         print(\"Encountered some data  :\", data)\n",
    "tmp = df.CurrentHtml.iloc[10]\n",
    "tmp2 = filterHtmlBlob(tmp)\n",
    "parser = MyHTMLParser()\n",
    "parser.feed(tmp2)\n",
    "d = parser.els\n",
    "len(parser.els)"
   ]
  },
  {
   "cell_type": "code",
   "execution_count": 15,
   "id": "836c13d6-0235-49c8-a9ed-d6925e553117",
   "metadata": {
    "tags": []
   },
   "outputs": [
    {
     "data": {
      "text/plain": [
       "{'HtmlX': 0.0,\n",
       " 'HtmlY': -1226.0,\n",
       " 'HtmlWidth': 1903.0,\n",
       " 'HtmlHeight': 99.0,\n",
       " 'HtmlUUID': '3380fd74-6b7c-4b7d-b808-f097c5d1a17d',\n",
       " 'HtmlTag': 'div',\n",
       " 'HtmlClass': 'nav-sprite-v1 celwidget nav-bluebeacon nav-a11y-t1 bold-focus-hover layout2 nav-flex layout3 layout3-alt nav-packard-glow hamburger nav-progressive-attribute',\n",
       " 'HtmlId': 'navbar'}"
      ]
     },
     "execution_count": 15,
     "metadata": {},
     "output_type": "execute_result"
    }
   ],
   "source": [
    "d[5]"
   ]
  },
  {
   "cell_type": "code",
   "execution_count": 16,
   "id": "4009a0d0-6162-45ac-b826-bb89bc83e756",
   "metadata": {
    "tags": []
   },
   "outputs": [],
   "source": [
    "import matplotlib.pyplot as plt\n",
    "import matplotlib.patches as patches\n",
    "\n",
    "def draw_rectangles(rectangles, safe=False, s=(4, 20)):\n",
    "    fig, ax = plt.subplots(figsize=s)\n",
    "    \n",
    "    for rect in rectangles:\n",
    "        x = rect['HtmlX']\n",
    "        y = rect['HtmlY']\n",
    "        width = rect['HtmlWidth']\n",
    "        height = rect['HtmlHeight']\n",
    "        if (y < -10):\n",
    "            continue\n",
    "        if (x < -10):\n",
    "            continue\n",
    "        if (x==y==0.0):\n",
    "            continue\n",
    "\n",
    "        \n",
    "        # Create a rectangle patch\n",
    "        rect_patch = patches.Rectangle((x, y), width, height, linewidth=1, edgecolor='r', facecolor='r', alpha=0.3)\n",
    "        \n",
    "        # Add the patch to the plot\n",
    "        ax.add_patch(rect_patch)\n",
    "    \n",
    "    # Set axis limits based on the rectangles\n",
    "    ax.set_xlim([0-100, max(rect['HtmlX'] + rect['HtmlWidth'] for rect in rectangles)+100])\n",
    "    ax.set_ylim([0-100, max(rect['HtmlY'] + rect['HtmlHeight'] for rect in rectangles)+100])\n",
    "    \n",
    "    # Set aspect ratio to 'equal' to avoid stretching the plot\n",
    "    ax.set_aspect('equal')\n",
    "    \n",
    "    # Show the plot\n",
    "    plt.gca().invert_yaxis()\n",
    "    plt.show()\n",
    "    if safe:\n",
    "        fig.savefig(\"./shapes.png\", bbox_inches='tight')\n",
    "    "
   ]
  },
  {
   "cell_type": "code",
   "execution_count": 23,
   "id": "8cfa70a6-6ffb-4122-b635-793e96851a41",
   "metadata": {
    "tags": []
   },
   "outputs": [
    {
     "data": {
      "image/png": "[encoded data removed]",
      "text/plain": [
       "<Figure size 400x2000 with 1 Axes>"
      ]
     },
     "metadata": {},
     "output_type": "display_data"
    }
   ],
   "source": [
    "draw_rectangles(d[:300], True)"
   ]
  },
  {
   "cell_type": "code",
   "execution_count": null,
   "id": "0a1af1b3-6d17-4d57-9a70-d129ba964b90",
   "metadata": {},
   "outputs": [],
   "source": []
  }
 ],
 "metadata": {
  "kernelspec": {
   "display_name": "Python 3 (ipykernel)",
   "language": "python",
   "name": "python3"
  },
  "language_info": {
   "codemirror_mode": {
    "name": "ipython",
    "version": 3
   },
   "file_extension": ".py",
   "mimetype": "text/x-python",
   "name": "python",
   "nbconvert_exporter": "python",
   "pygments_lexer": "ipython3",
   "version": "3.11.1"
  }
 },
 "nbformat": 4,
 "nbformat_minor": 5
}
