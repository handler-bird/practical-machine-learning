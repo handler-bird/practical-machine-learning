{
 "cells": [
  {
   "cell_type": "code",
   "id": "35659905-641f-467b-816e-4c591f089483",
   "metadata": {
    "tags": [],
    "ExecuteTime": {
     "end_time": "2024-05-18T22:25:40.079419Z",
     "start_time": "2024-05-18T22:25:38.746593Z"
    }
   },
   "source": [
    "import pandas as pd\n",
    "import numpy as np\n",
    "import matplotlib.pyplot as plt\n",
    "from html.parser import HTMLParser #https://docs.python.org/3/library/html.parser.html\n",
    "from bs4 import BeautifulSoup\n",
    "import time"
   ],
   "outputs": [],
   "execution_count": 1
  },
  {
   "cell_type": "code",
   "id": "49221c13-58b9-48bf-889e-cb67585cedfd",
   "metadata": {
    "tags": [],
    "ExecuteTime": {
     "end_time": "2024-05-18T22:25:44.426709Z",
     "start_time": "2024-05-18T22:25:44.416685Z"
    }
   },
   "source": [
    "time.time()"
   ],
   "outputs": [
    {
     "data": {
      "text/plain": [
       "1716071144.4197032"
      ]
     },
     "execution_count": 2,
     "metadata": {},
     "output_type": "execute_result"
    }
   ],
   "execution_count": 2
  },
  {
   "cell_type": "code",
   "id": "ee543a3d-1156-4c95-a98b-698fc357e1c6",
   "metadata": {
    "tags": [],
    "ExecuteTime": {
     "end_time": "2024-05-18T22:25:47.074203Z",
     "start_time": "2024-05-18T22:25:44.991705Z"
    }
   },
   "source": [
    "df = pd.read_pickle('webdata_27.pkl') # put in the path for your labels - file here\n",
    "df_eye = pd.read_csv(\"test.csv\") # Enter your eye tracking csv here\n",
    "df_time = pd.read_csv(\"test_time.csv\")  # Enter you eye tracking time csv here\n",
    "\n",
    "# TODO: convert all timestamps to UNIX\n",
    "# Bring first timestamp to 0"
   ],
   "outputs": [],
   "execution_count": 3
  },
  {
   "metadata": {
    "ExecuteTime": {
     "end_time": "2024-05-18T22:25:47.650703Z",
     "start_time": "2024-05-18T22:25:47.640164Z"
    }
   },
   "cell_type": "code",
   "source": "df['CurrentTimstamp'] = df['CurrentTimstamp'] // 1000",
   "id": "a838bb33e62e8e31",
   "outputs": [],
   "execution_count": 4
  },
  {
   "metadata": {
    "ExecuteTime": {
     "end_time": "2024-05-18T22:25:48.261280Z",
     "start_time": "2024-05-18T22:25:48.212670Z"
    }
   },
   "cell_type": "code",
   "source": [
    "df['CurrentTimstamp'] = pd.to_datetime(df['CurrentTimstamp'], unit='s')\n",
    "df.head()"
   ],
   "id": "cd0430496863b488",
   "outputs": [
    {
     "data": {
      "text/plain": [
       "      CurrentTimstamp CurrentEvent CurrentTarget  CurrentClickX  \\\n",
       "0 2024-05-02 07:18:51         load                          0.0   \n",
       "1 2024-05-02 07:18:56         load                          0.0   \n",
       "2 2024-05-02 07:19:00       scroll    scrolldown            0.0   \n",
       "3 2024-05-02 07:19:02       scroll    scrolldown            0.0   \n",
       "4 2024-05-02 07:19:05       scroll      scrollup            0.0   \n",
       "\n",
       "   CurrentClickY                                         CurrentURL  \\\n",
       "0            0.0  https://www.amazon.com/s?k=electric+toothbrush...   \n",
       "1            0.0  https://www.amazon.com/s?k=electric+toothbrush...   \n",
       "2            0.0  https://www.amazon.com/s?k=electric+toothbrush...   \n",
       "3            0.0  https://www.amazon.com/s?k=electric+toothbrush...   \n",
       "4            0.0  https://www.amazon.com/s?k=electric+toothbrush...   \n",
       "\n",
       "   outerWidth  outerHeight  innerWidth  innerHeight              created  \\\n",
       "0      1920.0       1040.0      1920.0        953.0  2024-05-02 07:18:52   \n",
       "1      1920.0       1040.0      1920.0        953.0  2024-05-02 07:18:58   \n",
       "2      1920.0       1040.0      1920.0        953.0  2024-05-02 07:19:02   \n",
       "3      1920.0       1040.0      1920.0        953.0  2024-05-02 07:19:04   \n",
       "4      1920.0       1040.0      1920.0        953.0  2024-05-02 07:19:07   \n",
       "\n",
       "                                         CurrentHtml  \n",
       "0  <body> <a href=\"/ref=cs_503_logo\"><img alt=\"Am...  \n",
       "1  <body class=\"a-m-us a-aui_72554-c a-aui_a11y_2...  \n",
       "2  <body class=\"a-m-us a-aui_72554-c a-aui_a11y_2...  \n",
       "3  <body class=\"a-m-us a-aui_72554-c a-aui_a11y_2...  \n",
       "4  <body class=\"a-m-us a-aui_72554-c a-aui_a11y_2...  "
      ],
      "text/html": [
       "<div>\n",
       "<style scoped>\n",
       "    .dataframe tbody tr th:only-of-type {\n",
       "        vertical-align: middle;\n",
       "    }\n",
       "\n",
       "    .dataframe tbody tr th {\n",
       "        vertical-align: top;\n",
       "    }\n",
       "\n",
       "    .dataframe thead th {\n",
       "        text-align: right;\n",
       "    }\n",
       "</style>\n",
       "<table border=\"1\" class=\"dataframe\">\n",
       "  <thead>\n",
       "    <tr style=\"text-align: right;\">\n",
       "      <th></th>\n",
       "      <th>CurrentTimstamp</th>\n",
       "      <th>CurrentEvent</th>\n",
       "      <th>CurrentTarget</th>\n",
       "      <th>CurrentClickX</th>\n",
       "      <th>CurrentClickY</th>\n",
       "      <th>CurrentURL</th>\n",
       "      <th>outerWidth</th>\n",
       "      <th>outerHeight</th>\n",
       "      <th>innerWidth</th>\n",
       "      <th>innerHeight</th>\n",
       "      <th>created</th>\n",
       "      <th>CurrentHtml</th>\n",
       "    </tr>\n",
       "  </thead>\n",
       "  <tbody>\n",
       "    <tr>\n",
       "      <th>0</th>\n",
       "      <td>2024-05-02 07:18:51</td>\n",
       "      <td>load</td>\n",
       "      <td></td>\n",
       "      <td>0.0</td>\n",
       "      <td>0.0</td>\n",
       "      <td>https://www.amazon.com/s?k=electric+toothbrush...</td>\n",
       "      <td>1920.0</td>\n",
       "      <td>1040.0</td>\n",
       "      <td>1920.0</td>\n",
       "      <td>953.0</td>\n",
       "      <td>2024-05-02 07:18:52</td>\n",
       "      <td>&lt;body&gt; &lt;a href=\"/ref=cs_503_logo\"&gt;&lt;img alt=\"Am...</td>\n",
       "    </tr>\n",
       "    <tr>\n",
       "      <th>1</th>\n",
       "      <td>2024-05-02 07:18:56</td>\n",
       "      <td>load</td>\n",
       "      <td></td>\n",
       "      <td>0.0</td>\n",
       "      <td>0.0</td>\n",
       "      <td>https://www.amazon.com/s?k=electric+toothbrush...</td>\n",
       "      <td>1920.0</td>\n",
       "      <td>1040.0</td>\n",
       "      <td>1920.0</td>\n",
       "      <td>953.0</td>\n",
       "      <td>2024-05-02 07:18:58</td>\n",
       "      <td>&lt;body class=\"a-m-us a-aui_72554-c a-aui_a11y_2...</td>\n",
       "    </tr>\n",
       "    <tr>\n",
       "      <th>2</th>\n",
       "      <td>2024-05-02 07:19:00</td>\n",
       "      <td>scroll</td>\n",
       "      <td>scrolldown</td>\n",
       "      <td>0.0</td>\n",
       "      <td>0.0</td>\n",
       "      <td>https://www.amazon.com/s?k=electric+toothbrush...</td>\n",
       "      <td>1920.0</td>\n",
       "      <td>1040.0</td>\n",
       "      <td>1920.0</td>\n",
       "      <td>953.0</td>\n",
       "      <td>2024-05-02 07:19:02</td>\n",
       "      <td>&lt;body class=\"a-m-us a-aui_72554-c a-aui_a11y_2...</td>\n",
       "    </tr>\n",
       "    <tr>\n",
       "      <th>3</th>\n",
       "      <td>2024-05-02 07:19:02</td>\n",
       "      <td>scroll</td>\n",
       "      <td>scrolldown</td>\n",
       "      <td>0.0</td>\n",
       "      <td>0.0</td>\n",
       "      <td>https://www.amazon.com/s?k=electric+toothbrush...</td>\n",
       "      <td>1920.0</td>\n",
       "      <td>1040.0</td>\n",
       "      <td>1920.0</td>\n",
       "      <td>953.0</td>\n",
       "      <td>2024-05-02 07:19:04</td>\n",
       "      <td>&lt;body class=\"a-m-us a-aui_72554-c a-aui_a11y_2...</td>\n",
       "    </tr>\n",
       "    <tr>\n",
       "      <th>4</th>\n",
       "      <td>2024-05-02 07:19:05</td>\n",
       "      <td>scroll</td>\n",
       "      <td>scrollup</td>\n",
       "      <td>0.0</td>\n",
       "      <td>0.0</td>\n",
       "      <td>https://www.amazon.com/s?k=electric+toothbrush...</td>\n",
       "      <td>1920.0</td>\n",
       "      <td>1040.0</td>\n",
       "      <td>1920.0</td>\n",
       "      <td>953.0</td>\n",
       "      <td>2024-05-02 07:19:07</td>\n",
       "      <td>&lt;body class=\"a-m-us a-aui_72554-c a-aui_a11y_2...</td>\n",
       "    </tr>\n",
       "  </tbody>\n",
       "</table>\n",
       "</div>"
      ]
     },
     "execution_count": 5,
     "metadata": {},
     "output_type": "execute_result"
    }
   ],
   "execution_count": 5
  },
  {
   "metadata": {
    "ExecuteTime": {
     "end_time": "2024-05-18T22:25:50.229040Z",
     "start_time": "2024-05-18T22:25:50.221762Z"
    }
   },
   "cell_type": "code",
   "source": [
    "TimeStartUnix = df['CurrentTimstamp'].min()\n",
    "print(TimeStartUnix)"
   ],
   "id": "dbdc2d50e7c1b114",
   "outputs": [
    {
     "name": "stdout",
     "output_type": "stream",
     "text": [
      "2024-05-02 07:18:51\n"
     ]
    }
   ],
   "execution_count": 6
  },
  {
   "metadata": {
    "ExecuteTime": {
     "end_time": "2024-05-18T22:25:51.182212Z",
     "start_time": "2024-05-18T22:25:51.162594Z"
    }
   },
   "cell_type": "code",
   "source": [
    "def convert_unix_to_seconds(row):\n",
    "    calculated_time = row - TimeStartUnix\n",
    "    return calculated_time.total_seconds()\n"
   ],
   "id": "7e93d8a2860a4afc",
   "outputs": [],
   "execution_count": 7
  },
  {
   "metadata": {
    "ExecuteTime": {
     "end_time": "2024-05-18T22:25:52.491913Z",
     "start_time": "2024-05-18T22:25:52.473074Z"
    }
   },
   "cell_type": "code",
   "source": "df['CurrentTimstamp'] = df['CurrentTimstamp'].apply(convert_unix_to_seconds)",
   "id": "bb4b73b2b4e43528",
   "outputs": [],
   "execution_count": 8
  },
  {
   "metadata": {
    "ExecuteTime": {
     "end_time": "2024-05-18T22:25:54.094677Z",
     "start_time": "2024-05-18T22:25:54.052251Z"
    }
   },
   "cell_type": "code",
   "source": "df.head()",
   "id": "e68c9a8e0e6d369c",
   "outputs": [
    {
     "data": {
      "text/plain": [
       "   CurrentTimstamp CurrentEvent CurrentTarget  CurrentClickX  CurrentClickY  \\\n",
       "0              0.0         load                          0.0            0.0   \n",
       "1              5.0         load                          0.0            0.0   \n",
       "2              9.0       scroll    scrolldown            0.0            0.0   \n",
       "3             11.0       scroll    scrolldown            0.0            0.0   \n",
       "4             14.0       scroll      scrollup            0.0            0.0   \n",
       "\n",
       "                                          CurrentURL  outerWidth  outerHeight  \\\n",
       "0  https://www.amazon.com/s?k=electric+toothbrush...      1920.0       1040.0   \n",
       "1  https://www.amazon.com/s?k=electric+toothbrush...      1920.0       1040.0   \n",
       "2  https://www.amazon.com/s?k=electric+toothbrush...      1920.0       1040.0   \n",
       "3  https://www.amazon.com/s?k=electric+toothbrush...      1920.0       1040.0   \n",
       "4  https://www.amazon.com/s?k=electric+toothbrush...      1920.0       1040.0   \n",
       "\n",
       "   innerWidth  innerHeight              created  \\\n",
       "0      1920.0        953.0  2024-05-02 07:18:52   \n",
       "1      1920.0        953.0  2024-05-02 07:18:58   \n",
       "2      1920.0        953.0  2024-05-02 07:19:02   \n",
       "3      1920.0        953.0  2024-05-02 07:19:04   \n",
       "4      1920.0        953.0  2024-05-02 07:19:07   \n",
       "\n",
       "                                         CurrentHtml  \n",
       "0  <body> <a href=\"/ref=cs_503_logo\"><img alt=\"Am...  \n",
       "1  <body class=\"a-m-us a-aui_72554-c a-aui_a11y_2...  \n",
       "2  <body class=\"a-m-us a-aui_72554-c a-aui_a11y_2...  \n",
       "3  <body class=\"a-m-us a-aui_72554-c a-aui_a11y_2...  \n",
       "4  <body class=\"a-m-us a-aui_72554-c a-aui_a11y_2...  "
      ],
      "text/html": [
       "<div>\n",
       "<style scoped>\n",
       "    .dataframe tbody tr th:only-of-type {\n",
       "        vertical-align: middle;\n",
       "    }\n",
       "\n",
       "    .dataframe tbody tr th {\n",
       "        vertical-align: top;\n",
       "    }\n",
       "\n",
       "    .dataframe thead th {\n",
       "        text-align: right;\n",
       "    }\n",
       "</style>\n",
       "<table border=\"1\" class=\"dataframe\">\n",
       "  <thead>\n",
       "    <tr style=\"text-align: right;\">\n",
       "      <th></th>\n",
       "      <th>CurrentTimstamp</th>\n",
       "      <th>CurrentEvent</th>\n",
       "      <th>CurrentTarget</th>\n",
       "      <th>CurrentClickX</th>\n",
       "      <th>CurrentClickY</th>\n",
       "      <th>CurrentURL</th>\n",
       "      <th>outerWidth</th>\n",
       "      <th>outerHeight</th>\n",
       "      <th>innerWidth</th>\n",
       "      <th>innerHeight</th>\n",
       "      <th>created</th>\n",
       "      <th>CurrentHtml</th>\n",
       "    </tr>\n",
       "  </thead>\n",
       "  <tbody>\n",
       "    <tr>\n",
       "      <th>0</th>\n",
       "      <td>0.0</td>\n",
       "      <td>load</td>\n",
       "      <td></td>\n",
       "      <td>0.0</td>\n",
       "      <td>0.0</td>\n",
       "      <td>https://www.amazon.com/s?k=electric+toothbrush...</td>\n",
       "      <td>1920.0</td>\n",
       "      <td>1040.0</td>\n",
       "      <td>1920.0</td>\n",
       "      <td>953.0</td>\n",
       "      <td>2024-05-02 07:18:52</td>\n",
       "      <td>&lt;body&gt; &lt;a href=\"/ref=cs_503_logo\"&gt;&lt;img alt=\"Am...</td>\n",
       "    </tr>\n",
       "    <tr>\n",
       "      <th>1</th>\n",
       "      <td>5.0</td>\n",
       "      <td>load</td>\n",
       "      <td></td>\n",
       "      <td>0.0</td>\n",
       "      <td>0.0</td>\n",
       "      <td>https://www.amazon.com/s?k=electric+toothbrush...</td>\n",
       "      <td>1920.0</td>\n",
       "      <td>1040.0</td>\n",
       "      <td>1920.0</td>\n",
       "      <td>953.0</td>\n",
       "      <td>2024-05-02 07:18:58</td>\n",
       "      <td>&lt;body class=\"a-m-us a-aui_72554-c a-aui_a11y_2...</td>\n",
       "    </tr>\n",
       "    <tr>\n",
       "      <th>2</th>\n",
       "      <td>9.0</td>\n",
       "      <td>scroll</td>\n",
       "      <td>scrolldown</td>\n",
       "      <td>0.0</td>\n",
       "      <td>0.0</td>\n",
       "      <td>https://www.amazon.com/s?k=electric+toothbrush...</td>\n",
       "      <td>1920.0</td>\n",
       "      <td>1040.0</td>\n",
       "      <td>1920.0</td>\n",
       "      <td>953.0</td>\n",
       "      <td>2024-05-02 07:19:02</td>\n",
       "      <td>&lt;body class=\"a-m-us a-aui_72554-c a-aui_a11y_2...</td>\n",
       "    </tr>\n",
       "    <tr>\n",
       "      <th>3</th>\n",
       "      <td>11.0</td>\n",
       "      <td>scroll</td>\n",
       "      <td>scrolldown</td>\n",
       "      <td>0.0</td>\n",
       "      <td>0.0</td>\n",
       "      <td>https://www.amazon.com/s?k=electric+toothbrush...</td>\n",
       "      <td>1920.0</td>\n",
       "      <td>1040.0</td>\n",
       "      <td>1920.0</td>\n",
       "      <td>953.0</td>\n",
       "      <td>2024-05-02 07:19:04</td>\n",
       "      <td>&lt;body class=\"a-m-us a-aui_72554-c a-aui_a11y_2...</td>\n",
       "    </tr>\n",
       "    <tr>\n",
       "      <th>4</th>\n",
       "      <td>14.0</td>\n",
       "      <td>scroll</td>\n",
       "      <td>scrollup</td>\n",
       "      <td>0.0</td>\n",
       "      <td>0.0</td>\n",
       "      <td>https://www.amazon.com/s?k=electric+toothbrush...</td>\n",
       "      <td>1920.0</td>\n",
       "      <td>1040.0</td>\n",
       "      <td>1920.0</td>\n",
       "      <td>953.0</td>\n",
       "      <td>2024-05-02 07:19:07</td>\n",
       "      <td>&lt;body class=\"a-m-us a-aui_72554-c a-aui_a11y_2...</td>\n",
       "    </tr>\n",
       "  </tbody>\n",
       "</table>\n",
       "</div>"
      ]
     },
     "execution_count": 9,
     "metadata": {},
     "output_type": "execute_result"
    }
   ],
   "execution_count": 9
  },
  {
   "cell_type": "code",
   "id": "c1c6b985-9f41-4fa0-bbb3-a0b87f5a39b8",
   "metadata": {
    "ExecuteTime": {
     "end_time": "2024-05-18T22:24:05.609541Z",
     "start_time": "2024-05-18T22:24:05.587298Z"
    }
   },
   "source": [
    "df.CurrentTimstamp"
   ],
   "outputs": [
    {
     "data": {
      "text/plain": [
       "0         0.0\n",
       "1         5.0\n",
       "2         9.0\n",
       "3        11.0\n",
       "4        14.0\n",
       "        ...  \n",
       "636    2909.0\n",
       "637    2910.0\n",
       "638    2914.0\n",
       "639    2919.0\n",
       "640    2934.0\n",
       "Name: CurrentTimstamp, Length: 641, dtype: float64"
      ]
     },
     "execution_count": 62,
     "metadata": {},
     "output_type": "execute_result"
    }
   ],
   "execution_count": 62
  },
  {
   "cell_type": "code",
   "id": "b81f86dc-6dc1-43d9-8ad5-54c421663b56",
   "metadata": {
    "ExecuteTime": {
     "end_time": "2024-05-18T22:26:00.398162Z",
     "start_time": "2024-05-18T22:26:00.383954Z"
    }
   },
   "source": [
    "df_eye.head()"
   ],
   "outputs": [
    {
     "data": {
      "text/plain": [
       "     Time     X_L    Y_L  PupilSize_L    X_R    Y_R  PupilSize_R  \\\n",
       "0  384009  1022.6  278.9       1929.0  987.0  312.5       1600.0   \n",
       "1  384011  1023.1  280.0       1927.0  988.2  313.2       1593.0   \n",
       "2  384013  1023.5  281.1       1928.0  987.8  311.6       1602.0   \n",
       "3  384015  1024.1  282.1       1935.0  987.1  310.0       1612.0   \n",
       "4  384017  1024.6  282.2       1938.0  988.7  310.6       1611.0   \n",
       "\n",
       "   ParticipantNr  \n",
       "0        32768.0  \n",
       "1        32768.0  \n",
       "2        32768.0  \n",
       "3        32768.0  \n",
       "4        32768.0  "
      ],
      "text/html": [
       "<div>\n",
       "<style scoped>\n",
       "    .dataframe tbody tr th:only-of-type {\n",
       "        vertical-align: middle;\n",
       "    }\n",
       "\n",
       "    .dataframe tbody tr th {\n",
       "        vertical-align: top;\n",
       "    }\n",
       "\n",
       "    .dataframe thead th {\n",
       "        text-align: right;\n",
       "    }\n",
       "</style>\n",
       "<table border=\"1\" class=\"dataframe\">\n",
       "  <thead>\n",
       "    <tr style=\"text-align: right;\">\n",
       "      <th></th>\n",
       "      <th>Time</th>\n",
       "      <th>X_L</th>\n",
       "      <th>Y_L</th>\n",
       "      <th>PupilSize_L</th>\n",
       "      <th>X_R</th>\n",
       "      <th>Y_R</th>\n",
       "      <th>PupilSize_R</th>\n",
       "      <th>ParticipantNr</th>\n",
       "    </tr>\n",
       "  </thead>\n",
       "  <tbody>\n",
       "    <tr>\n",
       "      <th>0</th>\n",
       "      <td>384009</td>\n",
       "      <td>1022.6</td>\n",
       "      <td>278.9</td>\n",
       "      <td>1929.0</td>\n",
       "      <td>987.0</td>\n",
       "      <td>312.5</td>\n",
       "      <td>1600.0</td>\n",
       "      <td>32768.0</td>\n",
       "    </tr>\n",
       "    <tr>\n",
       "      <th>1</th>\n",
       "      <td>384011</td>\n",
       "      <td>1023.1</td>\n",
       "      <td>280.0</td>\n",
       "      <td>1927.0</td>\n",
       "      <td>988.2</td>\n",
       "      <td>313.2</td>\n",
       "      <td>1593.0</td>\n",
       "      <td>32768.0</td>\n",
       "    </tr>\n",
       "    <tr>\n",
       "      <th>2</th>\n",
       "      <td>384013</td>\n",
       "      <td>1023.5</td>\n",
       "      <td>281.1</td>\n",
       "      <td>1928.0</td>\n",
       "      <td>987.8</td>\n",
       "      <td>311.6</td>\n",
       "      <td>1602.0</td>\n",
       "      <td>32768.0</td>\n",
       "    </tr>\n",
       "    <tr>\n",
       "      <th>3</th>\n",
       "      <td>384015</td>\n",
       "      <td>1024.1</td>\n",
       "      <td>282.1</td>\n",
       "      <td>1935.0</td>\n",
       "      <td>987.1</td>\n",
       "      <td>310.0</td>\n",
       "      <td>1612.0</td>\n",
       "      <td>32768.0</td>\n",
       "    </tr>\n",
       "    <tr>\n",
       "      <th>4</th>\n",
       "      <td>384017</td>\n",
       "      <td>1024.6</td>\n",
       "      <td>282.2</td>\n",
       "      <td>1938.0</td>\n",
       "      <td>988.7</td>\n",
       "      <td>310.6</td>\n",
       "      <td>1611.0</td>\n",
       "      <td>32768.0</td>\n",
       "    </tr>\n",
       "  </tbody>\n",
       "</table>\n",
       "</div>"
      ]
     },
     "execution_count": 10,
     "metadata": {},
     "output_type": "execute_result"
    }
   ],
   "execution_count": 10
  },
  {
   "cell_type": "code",
   "id": "12d336fb-5747-44a1-b2e9-b512e6d72fed",
   "metadata": {
    "ExecuteTime": {
     "end_time": "2024-05-18T22:26:01.304857Z",
     "start_time": "2024-05-18T22:26:01.282154Z"
    }
   },
   "source": [
    "del df_time['Unnamed: 0']"
   ],
   "outputs": [],
   "execution_count": 11
  },
  {
   "cell_type": "code",
   "id": "ee6979c4-7309-41ec-ba68-9769d84508e4",
   "metadata": {
    "ExecuteTime": {
     "end_time": "2024-05-18T22:26:02.813720Z",
     "start_time": "2024-05-18T22:26:02.805190Z"
    }
   },
   "source": [
    "df_time['UnixTimeStamp'] = df_time.UnixTimeStamp.astype(int)\n",
    "df_time.head()"
   ],
   "outputs": [
    {
     "data": {
      "text/plain": [
       "  Message     ETT   MSG2  UnixTimeStamp\n",
       "0     MSG  417417  UNIX:     1714634330\n",
       "1     MSG  555175  UNIX:     1714634468\n",
       "2     MSG  689663  UNIX:     1714634602\n",
       "3     MSG  817494  UNIX:     1714634730\n",
       "4     MSG  949384  UNIX:     1714634862"
      ],
      "text/html": [
       "<div>\n",
       "<style scoped>\n",
       "    .dataframe tbody tr th:only-of-type {\n",
       "        vertical-align: middle;\n",
       "    }\n",
       "\n",
       "    .dataframe tbody tr th {\n",
       "        vertical-align: top;\n",
       "    }\n",
       "\n",
       "    .dataframe thead th {\n",
       "        text-align: right;\n",
       "    }\n",
       "</style>\n",
       "<table border=\"1\" class=\"dataframe\">\n",
       "  <thead>\n",
       "    <tr style=\"text-align: right;\">\n",
       "      <th></th>\n",
       "      <th>Message</th>\n",
       "      <th>ETT</th>\n",
       "      <th>MSG2</th>\n",
       "      <th>UnixTimeStamp</th>\n",
       "    </tr>\n",
       "  </thead>\n",
       "  <tbody>\n",
       "    <tr>\n",
       "      <th>0</th>\n",
       "      <td>MSG</td>\n",
       "      <td>417417</td>\n",
       "      <td>UNIX:</td>\n",
       "      <td>1714634330</td>\n",
       "    </tr>\n",
       "    <tr>\n",
       "      <th>1</th>\n",
       "      <td>MSG</td>\n",
       "      <td>555175</td>\n",
       "      <td>UNIX:</td>\n",
       "      <td>1714634468</td>\n",
       "    </tr>\n",
       "    <tr>\n",
       "      <th>2</th>\n",
       "      <td>MSG</td>\n",
       "      <td>689663</td>\n",
       "      <td>UNIX:</td>\n",
       "      <td>1714634602</td>\n",
       "    </tr>\n",
       "    <tr>\n",
       "      <th>3</th>\n",
       "      <td>MSG</td>\n",
       "      <td>817494</td>\n",
       "      <td>UNIX:</td>\n",
       "      <td>1714634730</td>\n",
       "    </tr>\n",
       "    <tr>\n",
       "      <th>4</th>\n",
       "      <td>MSG</td>\n",
       "      <td>949384</td>\n",
       "      <td>UNIX:</td>\n",
       "      <td>1714634862</td>\n",
       "    </tr>\n",
       "  </tbody>\n",
       "</table>\n",
       "</div>"
      ]
     },
     "execution_count": 12,
     "metadata": {},
     "output_type": "execute_result"
    }
   ],
   "execution_count": 12
  },
  {
   "cell_type": "code",
   "id": "ef2d9f74-2075-437d-81e5-1b5b886b34db",
   "metadata": {
    "ExecuteTime": {
     "end_time": "2024-05-18T22:26:05.094211Z",
     "start_time": "2024-05-18T22:26:05.073642Z"
    }
   },
   "source": [
    "df_time.UnixTimeStamp[0]"
   ],
   "outputs": [
    {
     "data": {
      "text/plain": [
       "1714634330"
      ]
     },
     "execution_count": 13,
     "metadata": {},
     "output_type": "execute_result"
    }
   ],
   "execution_count": 13
  },
  {
   "cell_type": "code",
   "id": "6e421ce9-5596-4ed0-b3a8-cb0c3d7197ad",
   "metadata": {
    "tags": [],
    "ExecuteTime": {
     "end_time": "2024-05-18T22:26:05.713043Z",
     "start_time": "2024-05-18T22:26:05.681191Z"
    }
   },
   "source": [
    "df.CurrentEvent.unique()"
   ],
   "outputs": [
    {
     "data": {
      "text/plain": [
       "array(['load', 'scroll', 'click'], dtype=object)"
      ]
     },
     "execution_count": 14,
     "metadata": {},
     "output_type": "execute_result"
    }
   ],
   "execution_count": 14
  },
  {
   "cell_type": "code",
   "id": "dc5c7b60-dcad-4756-ad6c-82e0a4af8608",
   "metadata": {
    "tags": [],
    "ExecuteTime": {
     "end_time": "2024-05-18T22:26:06.259151Z",
     "start_time": "2024-05-18T22:26:06.214563Z"
    }
   },
   "source": [
    "df.head()"
   ],
   "outputs": [
    {
     "data": {
      "text/plain": [
       "   CurrentTimstamp CurrentEvent CurrentTarget  CurrentClickX  CurrentClickY  \\\n",
       "0              0.0         load                          0.0            0.0   \n",
       "1              5.0         load                          0.0            0.0   \n",
       "2              9.0       scroll    scrolldown            0.0            0.0   \n",
       "3             11.0       scroll    scrolldown            0.0            0.0   \n",
       "4             14.0       scroll      scrollup            0.0            0.0   \n",
       "\n",
       "                                          CurrentURL  outerWidth  outerHeight  \\\n",
       "0  https://www.amazon.com/s?k=electric+toothbrush...      1920.0       1040.0   \n",
       "1  https://www.amazon.com/s?k=electric+toothbrush...      1920.0       1040.0   \n",
       "2  https://www.amazon.com/s?k=electric+toothbrush...      1920.0       1040.0   \n",
       "3  https://www.amazon.com/s?k=electric+toothbrush...      1920.0       1040.0   \n",
       "4  https://www.amazon.com/s?k=electric+toothbrush...      1920.0       1040.0   \n",
       "\n",
       "   innerWidth  innerHeight              created  \\\n",
       "0      1920.0        953.0  2024-05-02 07:18:52   \n",
       "1      1920.0        953.0  2024-05-02 07:18:58   \n",
       "2      1920.0        953.0  2024-05-02 07:19:02   \n",
       "3      1920.0        953.0  2024-05-02 07:19:04   \n",
       "4      1920.0        953.0  2024-05-02 07:19:07   \n",
       "\n",
       "                                         CurrentHtml  \n",
       "0  <body> <a href=\"/ref=cs_503_logo\"><img alt=\"Am...  \n",
       "1  <body class=\"a-m-us a-aui_72554-c a-aui_a11y_2...  \n",
       "2  <body class=\"a-m-us a-aui_72554-c a-aui_a11y_2...  \n",
       "3  <body class=\"a-m-us a-aui_72554-c a-aui_a11y_2...  \n",
       "4  <body class=\"a-m-us a-aui_72554-c a-aui_a11y_2...  "
      ],
      "text/html": [
       "<div>\n",
       "<style scoped>\n",
       "    .dataframe tbody tr th:only-of-type {\n",
       "        vertical-align: middle;\n",
       "    }\n",
       "\n",
       "    .dataframe tbody tr th {\n",
       "        vertical-align: top;\n",
       "    }\n",
       "\n",
       "    .dataframe thead th {\n",
       "        text-align: right;\n",
       "    }\n",
       "</style>\n",
       "<table border=\"1\" class=\"dataframe\">\n",
       "  <thead>\n",
       "    <tr style=\"text-align: right;\">\n",
       "      <th></th>\n",
       "      <th>CurrentTimstamp</th>\n",
       "      <th>CurrentEvent</th>\n",
       "      <th>CurrentTarget</th>\n",
       "      <th>CurrentClickX</th>\n",
       "      <th>CurrentClickY</th>\n",
       "      <th>CurrentURL</th>\n",
       "      <th>outerWidth</th>\n",
       "      <th>outerHeight</th>\n",
       "      <th>innerWidth</th>\n",
       "      <th>innerHeight</th>\n",
       "      <th>created</th>\n",
       "      <th>CurrentHtml</th>\n",
       "    </tr>\n",
       "  </thead>\n",
       "  <tbody>\n",
       "    <tr>\n",
       "      <th>0</th>\n",
       "      <td>0.0</td>\n",
       "      <td>load</td>\n",
       "      <td></td>\n",
       "      <td>0.0</td>\n",
       "      <td>0.0</td>\n",
       "      <td>https://www.amazon.com/s?k=electric+toothbrush...</td>\n",
       "      <td>1920.0</td>\n",
       "      <td>1040.0</td>\n",
       "      <td>1920.0</td>\n",
       "      <td>953.0</td>\n",
       "      <td>2024-05-02 07:18:52</td>\n",
       "      <td>&lt;body&gt; &lt;a href=\"/ref=cs_503_logo\"&gt;&lt;img alt=\"Am...</td>\n",
       "    </tr>\n",
       "    <tr>\n",
       "      <th>1</th>\n",
       "      <td>5.0</td>\n",
       "      <td>load</td>\n",
       "      <td></td>\n",
       "      <td>0.0</td>\n",
       "      <td>0.0</td>\n",
       "      <td>https://www.amazon.com/s?k=electric+toothbrush...</td>\n",
       "      <td>1920.0</td>\n",
       "      <td>1040.0</td>\n",
       "      <td>1920.0</td>\n",
       "      <td>953.0</td>\n",
       "      <td>2024-05-02 07:18:58</td>\n",
       "      <td>&lt;body class=\"a-m-us a-aui_72554-c a-aui_a11y_2...</td>\n",
       "    </tr>\n",
       "    <tr>\n",
       "      <th>2</th>\n",
       "      <td>9.0</td>\n",
       "      <td>scroll</td>\n",
       "      <td>scrolldown</td>\n",
       "      <td>0.0</td>\n",
       "      <td>0.0</td>\n",
       "      <td>https://www.amazon.com/s?k=electric+toothbrush...</td>\n",
       "      <td>1920.0</td>\n",
       "      <td>1040.0</td>\n",
       "      <td>1920.0</td>\n",
       "      <td>953.0</td>\n",
       "      <td>2024-05-02 07:19:02</td>\n",
       "      <td>&lt;body class=\"a-m-us a-aui_72554-c a-aui_a11y_2...</td>\n",
       "    </tr>\n",
       "    <tr>\n",
       "      <th>3</th>\n",
       "      <td>11.0</td>\n",
       "      <td>scroll</td>\n",
       "      <td>scrolldown</td>\n",
       "      <td>0.0</td>\n",
       "      <td>0.0</td>\n",
       "      <td>https://www.amazon.com/s?k=electric+toothbrush...</td>\n",
       "      <td>1920.0</td>\n",
       "      <td>1040.0</td>\n",
       "      <td>1920.0</td>\n",
       "      <td>953.0</td>\n",
       "      <td>2024-05-02 07:19:04</td>\n",
       "      <td>&lt;body class=\"a-m-us a-aui_72554-c a-aui_a11y_2...</td>\n",
       "    </tr>\n",
       "    <tr>\n",
       "      <th>4</th>\n",
       "      <td>14.0</td>\n",
       "      <td>scroll</td>\n",
       "      <td>scrollup</td>\n",
       "      <td>0.0</td>\n",
       "      <td>0.0</td>\n",
       "      <td>https://www.amazon.com/s?k=electric+toothbrush...</td>\n",
       "      <td>1920.0</td>\n",
       "      <td>1040.0</td>\n",
       "      <td>1920.0</td>\n",
       "      <td>953.0</td>\n",
       "      <td>2024-05-02 07:19:07</td>\n",
       "      <td>&lt;body class=\"a-m-us a-aui_72554-c a-aui_a11y_2...</td>\n",
       "    </tr>\n",
       "  </tbody>\n",
       "</table>\n",
       "</div>"
      ]
     },
     "execution_count": 15,
     "metadata": {},
     "output_type": "execute_result"
    }
   ],
   "execution_count": 15
  },
  {
   "cell_type": "code",
   "id": "58bbd694-d216-4bc1-b47e-f282a969ff74",
   "metadata": {
    "tags": [],
    "ExecuteTime": {
     "end_time": "2024-05-18T22:26:07.292816Z",
     "start_time": "2024-05-18T22:26:07.274629Z"
    }
   },
   "source": [
    "len(df)"
   ],
   "outputs": [
    {
     "data": {
      "text/plain": [
       "641"
      ]
     },
     "execution_count": 16,
     "metadata": {},
     "output_type": "execute_result"
    }
   ],
   "execution_count": 16
  },
  {
   "cell_type": "markdown",
   "id": "0fb48d02-60f1-4dd2-92ca-eb87985cd7ff",
   "metadata": {
    "tags": []
   },
   "source": [
    "- CurrentTimstamp: Unix timestamp in milliseconds\n",
    "- CurrentEvent: Event happened (click, scroll, page loaded)\n",
    "- CurrentTarget: For clicks: UUID of clicked target, for scrolls: down / up\n",
    "- CurrentClickX: only clicks: x-coord\n",
    "- CurrentClickY: only clicks: y-coord\n",
    "- CurrentURL: current URL of webpage\n",
    "- outerWidth: Window.outerWidth\n",
    "- outerHeight: Window.outerHeight\n",
    "- innerWidth: Window.innerWidth\n",
    "- innerHeight: Window.innerHeight\n",
    "- created: Another timestamp - can be ignored\n",
    "- CurrentHtml: The HTML of the current webpage. each element has been injected with thei x,y corrds, width and height. and \"customuuid\""
   ]
  },
  {
   "cell_type": "markdown",
   "id": "192fe150-23fd-40d7-a97d-cdaa8cfe973d",
   "metadata": {},
   "source": [
    "<img src=\"coords.png\">"
   ]
  },
  {
   "cell_type": "code",
   "id": "883b097c-3c67-4e98-9d87-f3147d9a2f87",
   "metadata": {
    "tags": [],
    "ExecuteTime": {
     "end_time": "2024-05-18T22:26:13.393759Z",
     "start_time": "2024-05-18T22:26:13.374251Z"
    }
   },
   "source": [
    "df.CurrentEvent.unique()"
   ],
   "outputs": [
    {
     "data": {
      "text/plain": [
       "array(['load', 'scroll', 'click'], dtype=object)"
      ]
     },
     "execution_count": 17,
     "metadata": {},
     "output_type": "execute_result"
    }
   ],
   "execution_count": 17
  },
  {
   "cell_type": "code",
   "id": "9c905a52-8c0c-4ab2-936d-cf3ddc21728f",
   "metadata": {
    "tags": [],
    "ExecuteTime": {
     "end_time": "2024-05-18T22:26:14.374695Z",
     "start_time": "2024-05-18T22:26:14.367695Z"
    }
   },
   "source": [
    "str(df.CurrentHtml.iloc[1])[:1000]"
   ],
   "outputs": [
    {
     "data": {
      "text/plain": [
       "'<body class=\"a-m-us a-aui_72554-c a-aui_a11y_2_750578-c a-aui_a11y_6_837773-c a-aui_a11y_sr_678508-t1 a-aui_amzn_img_861115-c a-aui_amzn_img_gate_861116-c a-aui_killswitch_csa_logger_372963-c a-aui_pci_risk_banner_210084-c a-aui_preload_261698-c a-aui_rel_noreferrer_noopener_309527-c a-aui_template_weblab_cache_333406-c a-aui_tnr_v2_180836-c a-meter-animate\"><div id=\"a-page\"><!-- sp:end-feature:start-body --><!-- sp:feature:csm:body-open --> <img alt=\"\" height=\"1\" onload=\"window.ue_sbl &amp;&amp; window.ue_sbl();\" src=\"//fls-na.amazon.com/1/batch/1/OP/ATVPDKIKX0DER:135-5697092-4080638:XFQ8QDTMBH2K70E0Z6YN$uedata=s:%2Frd%2Fuedata%3Fstaticb%26id%3DXFQ8QDTMBH2K70E0Z6YN:0\" style=\"display:none;visibility:hidden;\" width=\"1\"/><!-- sp:end-feature:csm:body-open --><!-- sp:feature:nav-inline-js --><!-- NAVYAAN JS --><img alt=\"\" src=\"https://m.media-amazon.com/images/G/01/gno/sprites/nav-sprite-global-1x-reorg-privacy._CB587940754_.png\" style=\"display:none\"/><!-- sp:end-feature:nav-inline-js --><'"
      ]
     },
     "execution_count": 18,
     "metadata": {},
     "output_type": "execute_result"
    }
   ],
   "execution_count": 18
  },
  {
   "cell_type": "code",
   "id": "bd1d7bbc-3f54-4eae-a57c-65d02499d1ec",
   "metadata": {
    "ExecuteTime": {
     "end_time": "2024-05-18T22:26:15.395398Z",
     "start_time": "2024-05-18T22:26:15.179592Z"
    }
   },
   "source": [
    "class MyHTMLParser(HTMLParser):\n",
    "    els = []\n",
    "    def handle_starttag(self, tag, attrs):\n",
    "        d = dict(attrs)\n",
    "        if len(attrs) > 0:\n",
    "            if 'customuuid' in d.keys():\n",
    "                if not (d['x'] == d['y'] == d['width'] == d['height'] == '0'):\n",
    "                    # print(\"Encountered a start tag:\", tag)\n",
    "                    # print(attrs)\n",
    "                    c = d['class'] if 'class' in d.keys() else None\n",
    "                    i = d['id'] if 'id' in d.keys() else None\n",
    "                    tmp = {'HtmlX': float(d['x']), 'HtmlY': float(d['y']), 'HtmlWidth': float(d['width']),'HtmlHeight': float(d['height']), 'HtmlUUID': d['customuuid'],'HtmlTag': tag, 'HtmlClass': c, 'HtmlId': i}\n",
    "                    self.els.append(tmp)\n",
    "    def handle_startendtag(self, tag, attrs):\n",
    "        d = dict(attrs)\n",
    "        if len(attrs) > 0:\n",
    "            if 'customuuid' in d.keys():\n",
    "                if not (d['x'] == d['y'] == d['width'] == d['height'] == '0'):\n",
    "                    # print(\"Encountered a startend tag:\", tag)\n",
    "                    c = d['class'] if 'class' in d.keys() else None\n",
    "                    i = d['id'] if 'id' in d.keys() else None\n",
    "                    tmp = {'HtmlX': float(d['x']), 'HtmlY': float(d['y']), 'HtmlWidth': float(d['width']),'HtmlHeight': float(d['height']), 'HtmlUUID': d['customuuid'],'HtmlTag': tag, 'HtmlClass': c, 'HtmlId': i}\n",
    "                    self.els.append(tmp)\n",
    "\n",
    "#     def handle_endtag(self, tag):\n",
    "#         print(\"Encountered an end tag :\", tag)\n",
    "\n",
    "#     def handle_data(self, data):\n",
    "#         print(\"Encountered some data  :\", data)\n",
    "tmp = df.CurrentHtml.iloc[100]\n",
    "parser = MyHTMLParser()\n",
    "parser.feed(tmp)\n",
    "d = parser.els\n",
    "len(parser.els)"
   ],
   "outputs": [
    {
     "data": {
      "text/plain": [
       "3477"
      ]
     },
     "execution_count": 19,
     "metadata": {},
     "output_type": "execute_result"
    }
   ],
   "execution_count": 19
  },
  {
   "cell_type": "code",
   "id": "0d8aed6f-19a4-4b33-81ce-d24f2a4c8045",
   "metadata": {
    "ExecuteTime": {
     "end_time": "2024-05-18T22:26:16.461666Z",
     "start_time": "2024-05-18T22:26:16.453151Z"
    }
   },
   "source": [
    "d[100]"
   ],
   "outputs": [
    {
     "data": {
      "text/plain": [
       "{'HtmlX': 26.0,\n",
       " 'HtmlY': 109.0,\n",
       " 'HtmlWidth': 158.28125,\n",
       " 'HtmlHeight': 15.0,\n",
       " 'HtmlUUID': '0097744d-6db1-4719-b748-a780b871a495',\n",
       " 'HtmlTag': 'span',\n",
       " 'HtmlClass': 'nav-a-content',\n",
       " 'HtmlId': None}"
      ]
     },
     "execution_count": 20,
     "metadata": {},
     "output_type": "execute_result"
    }
   ],
   "execution_count": 20
  },
  {
   "cell_type": "markdown",
   "id": "ed972298-8a5d-4a0b-82a2-2c4e2e5bc395",
   "metadata": {},
   "source": [
    "# Investigating Clicks"
   ]
  },
  {
   "cell_type": "code",
   "id": "b17f45a4-a25f-466e-a5c6-149f97137002",
   "metadata": {
    "tags": [],
    "ExecuteTime": {
     "end_time": "2024-05-18T22:26:17.442832Z",
     "start_time": "2024-05-18T22:26:17.387966Z"
    }
   },
   "source": [
    "df_click = df[df.CurrentEvent == \"click\"]\n",
    "df_click.head()"
   ],
   "outputs": [
    {
     "data": {
      "text/plain": [
       "    CurrentTimstamp CurrentEvent                         CurrentTarget  \\\n",
       "29            104.0        click  ca1925c9-295f-42fb-91d2-686a29c7874f   \n",
       "33            119.0        click  6bbe301f-2986-4f4c-8db8-703449fe6f2b   \n",
       "36            130.0        click  6a2b3a05-772d-4769-854e-20a4e20ea76f   \n",
       "38            151.0        click  452b8e6f-5568-4ff8-a788-9fa1859b70a0   \n",
       "43            172.0        click  0e4f090e-1798-4d76-91fc-4504347e84f9   \n",
       "\n",
       "    CurrentClickX  CurrentClickY  \\\n",
       "29          423.0          644.0   \n",
       "33          750.0          530.0   \n",
       "36          413.0          849.0   \n",
       "38          432.0          777.0   \n",
       "43         1330.0          644.0   \n",
       "\n",
       "                                           CurrentURL  outerWidth  \\\n",
       "29  https://www.amazon.com/s?k=electric+toothbrush...      1920.0   \n",
       "33  https://www.amazon.com/s?k=electric+toothbrush...      1920.0   \n",
       "36  https://www.amazon.com/s?k=electric+toothbrush...      1920.0   \n",
       "38  https://www.amazon.com/s?k=piano+keyboard&crid...      1920.0   \n",
       "43  https://www.amazon.com/s?k=piano+keyboard&crid...      1920.0   \n",
       "\n",
       "    outerHeight  innerWidth  innerHeight              created  \\\n",
       "29       1040.0      1920.0        953.0  2024-05-02 07:20:38   \n",
       "33       1040.0      1920.0        953.0  2024-05-02 07:20:52   \n",
       "36       1040.0      1920.0        953.0  2024-05-02 07:21:03   \n",
       "38       1040.0      1920.0        953.0  2024-05-02 07:21:24   \n",
       "43       1040.0      1920.0        953.0  2024-05-02 07:21:45   \n",
       "\n",
       "                                          CurrentHtml  \n",
       "29  <body class=\"a-m-us a-aui_72554-c a-aui_a11y_2...  \n",
       "33  <body class=\"a-m-us a-aui_72554-c a-aui_a11y_2...  \n",
       "36  <body class=\"a-m-us a-aui_72554-c a-aui_a11y_2...  \n",
       "38  <body class=\"a-m-us a-aui_72554-c a-aui_a11y_2...  \n",
       "43  <body class=\"a-m-us a-aui_72554-c a-aui_a11y_2...  "
      ],
      "text/html": [
       "<div>\n",
       "<style scoped>\n",
       "    .dataframe tbody tr th:only-of-type {\n",
       "        vertical-align: middle;\n",
       "    }\n",
       "\n",
       "    .dataframe tbody tr th {\n",
       "        vertical-align: top;\n",
       "    }\n",
       "\n",
       "    .dataframe thead th {\n",
       "        text-align: right;\n",
       "    }\n",
       "</style>\n",
       "<table border=\"1\" class=\"dataframe\">\n",
       "  <thead>\n",
       "    <tr style=\"text-align: right;\">\n",
       "      <th></th>\n",
       "      <th>CurrentTimstamp</th>\n",
       "      <th>CurrentEvent</th>\n",
       "      <th>CurrentTarget</th>\n",
       "      <th>CurrentClickX</th>\n",
       "      <th>CurrentClickY</th>\n",
       "      <th>CurrentURL</th>\n",
       "      <th>outerWidth</th>\n",
       "      <th>outerHeight</th>\n",
       "      <th>innerWidth</th>\n",
       "      <th>innerHeight</th>\n",
       "      <th>created</th>\n",
       "      <th>CurrentHtml</th>\n",
       "    </tr>\n",
       "  </thead>\n",
       "  <tbody>\n",
       "    <tr>\n",
       "      <th>29</th>\n",
       "      <td>104.0</td>\n",
       "      <td>click</td>\n",
       "      <td>ca1925c9-295f-42fb-91d2-686a29c7874f</td>\n",
       "      <td>423.0</td>\n",
       "      <td>644.0</td>\n",
       "      <td>https://www.amazon.com/s?k=electric+toothbrush...</td>\n",
       "      <td>1920.0</td>\n",
       "      <td>1040.0</td>\n",
       "      <td>1920.0</td>\n",
       "      <td>953.0</td>\n",
       "      <td>2024-05-02 07:20:38</td>\n",
       "      <td>&lt;body class=\"a-m-us a-aui_72554-c a-aui_a11y_2...</td>\n",
       "    </tr>\n",
       "    <tr>\n",
       "      <th>33</th>\n",
       "      <td>119.0</td>\n",
       "      <td>click</td>\n",
       "      <td>6bbe301f-2986-4f4c-8db8-703449fe6f2b</td>\n",
       "      <td>750.0</td>\n",
       "      <td>530.0</td>\n",
       "      <td>https://www.amazon.com/s?k=electric+toothbrush...</td>\n",
       "      <td>1920.0</td>\n",
       "      <td>1040.0</td>\n",
       "      <td>1920.0</td>\n",
       "      <td>953.0</td>\n",
       "      <td>2024-05-02 07:20:52</td>\n",
       "      <td>&lt;body class=\"a-m-us a-aui_72554-c a-aui_a11y_2...</td>\n",
       "    </tr>\n",
       "    <tr>\n",
       "      <th>36</th>\n",
       "      <td>130.0</td>\n",
       "      <td>click</td>\n",
       "      <td>6a2b3a05-772d-4769-854e-20a4e20ea76f</td>\n",
       "      <td>413.0</td>\n",
       "      <td>849.0</td>\n",
       "      <td>https://www.amazon.com/s?k=electric+toothbrush...</td>\n",
       "      <td>1920.0</td>\n",
       "      <td>1040.0</td>\n",
       "      <td>1920.0</td>\n",
       "      <td>953.0</td>\n",
       "      <td>2024-05-02 07:21:03</td>\n",
       "      <td>&lt;body class=\"a-m-us a-aui_72554-c a-aui_a11y_2...</td>\n",
       "    </tr>\n",
       "    <tr>\n",
       "      <th>38</th>\n",
       "      <td>151.0</td>\n",
       "      <td>click</td>\n",
       "      <td>452b8e6f-5568-4ff8-a788-9fa1859b70a0</td>\n",
       "      <td>432.0</td>\n",
       "      <td>777.0</td>\n",
       "      <td>https://www.amazon.com/s?k=piano+keyboard&amp;crid...</td>\n",
       "      <td>1920.0</td>\n",
       "      <td>1040.0</td>\n",
       "      <td>1920.0</td>\n",
       "      <td>953.0</td>\n",
       "      <td>2024-05-02 07:21:24</td>\n",
       "      <td>&lt;body class=\"a-m-us a-aui_72554-c a-aui_a11y_2...</td>\n",
       "    </tr>\n",
       "    <tr>\n",
       "      <th>43</th>\n",
       "      <td>172.0</td>\n",
       "      <td>click</td>\n",
       "      <td>0e4f090e-1798-4d76-91fc-4504347e84f9</td>\n",
       "      <td>1330.0</td>\n",
       "      <td>644.0</td>\n",
       "      <td>https://www.amazon.com/s?k=piano+keyboard&amp;crid...</td>\n",
       "      <td>1920.0</td>\n",
       "      <td>1040.0</td>\n",
       "      <td>1920.0</td>\n",
       "      <td>953.0</td>\n",
       "      <td>2024-05-02 07:21:45</td>\n",
       "      <td>&lt;body class=\"a-m-us a-aui_72554-c a-aui_a11y_2...</td>\n",
       "    </tr>\n",
       "  </tbody>\n",
       "</table>\n",
       "</div>"
      ]
     },
     "execution_count": 21,
     "metadata": {},
     "output_type": "execute_result"
    }
   ],
   "execution_count": 21
  },
  {
   "cell_type": "code",
   "id": "afca9f6d-2a73-4d48-a88f-bdfba389a983",
   "metadata": {
    "tags": [],
    "ExecuteTime": {
     "end_time": "2024-05-18T22:26:18.670216Z",
     "start_time": "2024-05-18T22:26:18.653192Z"
    }
   },
   "source": [
    "# import matplotlib.pyplot as plt\n",
    "# import matplotlib.patches as patches\n",
    "\n",
    "# def draw_rectangles(rectangles, safe=False, s=(4, 20)):\n",
    "#     fig, ax = plt.subplots(figsize=s)\n",
    "    \n",
    "#     for rect in rectangles:\n",
    "#         x = rect['HtmlX']\n",
    "#         y = rect['HtmlY']\n",
    "#         width = rect['HtmlWidth']\n",
    "#         height = rect['HtmlHeight']\n",
    "#         if (y < -10):\n",
    "#             continue\n",
    "#         if (x < -10):\n",
    "#             continue\n",
    "#         if (x==y==0.0):\n",
    "#             continue\n",
    "\n",
    "        \n",
    "#         # Create a rectangle patch\n",
    "#         rect_patch = patches.Rectangle((x, y), width, height, linewidth=1, edgecolor='r', facecolor='r', alpha=0.3)\n",
    "        \n",
    "#         # Add the patch to the plot\n",
    "#         ax.add_patch(rect_patch)\n",
    "    \n",
    "#     # Set axis limits based on the rectangles\n",
    "#     ax.set_xlim([0-100, max(rect['HtmlX'] + rect['HtmlWidth'] for rect in rectangles)+100])\n",
    "#     ax.set_ylim([0-100, max(rect['HtmlY'] + rect['HtmlHeight'] for rect in rectangles)+100])\n",
    "    \n",
    "#     # Set aspect ratio to 'equal' to avoid stretching the plot\n",
    "#     ax.set_aspect('equal')\n",
    "    \n",
    "#     # Show the plot\n",
    "#     plt.gca().invert_yaxis()\n",
    "#     plt.show()\n",
    "#     if safe:\n",
    "#         fig.savefig(\"./shapes.png\", bbox_inches='tight')\n",
    "# draw_rectangles(d[1000:2000])"
   ],
   "outputs": [],
   "execution_count": 22
  },
  {
   "cell_type": "code",
   "id": "b92dc0a0-a7b3-43cf-9543-209726d642bd",
   "metadata": {
    "tags": [],
    "ExecuteTime": {
     "end_time": "2024-05-18T22:26:19.987636Z",
     "start_time": "2024-05-18T22:26:19.967714Z"
    }
   },
   "source": [
    "# Find clicks which happened to fast after each other\n",
    "df_click = df_click.sort_values(by=['CurrentTimstamp'])\n",
    "df_click[\"Timestampdiff\"] = df_click.CurrentTimstamp.diff()\n",
    "df_click.Timestampdiff.describe()"
   ],
   "outputs": [
    {
     "data": {
      "text/plain": [
       "count     71.000000\n",
       "mean      39.577465\n",
       "std       83.527354\n",
       "min        5.000000\n",
       "25%       13.000000\n",
       "50%       22.000000\n",
       "75%       39.000000\n",
       "max      558.000000\n",
       "Name: Timestampdiff, dtype: float64"
      ]
     },
     "execution_count": 23,
     "metadata": {},
     "output_type": "execute_result"
    }
   ],
   "execution_count": 23
  },
  {
   "cell_type": "code",
   "id": "df18abd2-1258-43ea-8a51-10425a860f04",
   "metadata": {
    "tags": [],
    "ExecuteTime": {
     "end_time": "2024-05-18T22:26:20.780836Z",
     "start_time": "2024-05-18T22:26:20.729763Z"
    }
   },
   "source": [
    "# Here you have to see for yourself what is reasonable, some of you might have clicked more than others :)\n",
    "df_click[df_click.Timestampdiff <= 2000].head()"
   ],
   "outputs": [
    {
     "data": {
      "text/plain": [
       "    CurrentTimstamp CurrentEvent                         CurrentTarget  \\\n",
       "33            119.0        click  6bbe301f-2986-4f4c-8db8-703449fe6f2b   \n",
       "36            130.0        click  6a2b3a05-772d-4769-854e-20a4e20ea76f   \n",
       "38            151.0        click  452b8e6f-5568-4ff8-a788-9fa1859b70a0   \n",
       "43            172.0        click  0e4f090e-1798-4d76-91fc-4504347e84f9   \n",
       "45            182.0        click  e5e4c551-c622-4c8c-8ce7-088be27e4e1f   \n",
       "\n",
       "    CurrentClickX  CurrentClickY  \\\n",
       "33          750.0          530.0   \n",
       "36          413.0          849.0   \n",
       "38          432.0          777.0   \n",
       "43         1330.0          644.0   \n",
       "45         1131.0          645.0   \n",
       "\n",
       "                                           CurrentURL  outerWidth  \\\n",
       "33  https://www.amazon.com/s?k=electric+toothbrush...      1920.0   \n",
       "36  https://www.amazon.com/s?k=electric+toothbrush...      1920.0   \n",
       "38  https://www.amazon.com/s?k=piano+keyboard&crid...      1920.0   \n",
       "43  https://www.amazon.com/s?k=piano+keyboard&crid...      1920.0   \n",
       "45  https://www.amazon.com/s?k=piano+keyboard&crid...      1920.0   \n",
       "\n",
       "    outerHeight  innerWidth  innerHeight              created  \\\n",
       "33       1040.0      1920.0        953.0  2024-05-02 07:20:52   \n",
       "36       1040.0      1920.0        953.0  2024-05-02 07:21:03   \n",
       "38       1040.0      1920.0        953.0  2024-05-02 07:21:24   \n",
       "43       1040.0      1920.0        953.0  2024-05-02 07:21:45   \n",
       "45       1040.0      1920.0        953.0  2024-05-02 07:21:55   \n",
       "\n",
       "                                          CurrentHtml  Timestampdiff  \n",
       "33  <body class=\"a-m-us a-aui_72554-c a-aui_a11y_2...           15.0  \n",
       "36  <body class=\"a-m-us a-aui_72554-c a-aui_a11y_2...           11.0  \n",
       "38  <body class=\"a-m-us a-aui_72554-c a-aui_a11y_2...           21.0  \n",
       "43  <body class=\"a-m-us a-aui_72554-c a-aui_a11y_2...           21.0  \n",
       "45  <body class=\"a-m-us a-aui_72554-c a-aui_a11y_2...           10.0  "
      ],
      "text/html": [
       "<div>\n",
       "<style scoped>\n",
       "    .dataframe tbody tr th:only-of-type {\n",
       "        vertical-align: middle;\n",
       "    }\n",
       "\n",
       "    .dataframe tbody tr th {\n",
       "        vertical-align: top;\n",
       "    }\n",
       "\n",
       "    .dataframe thead th {\n",
       "        text-align: right;\n",
       "    }\n",
       "</style>\n",
       "<table border=\"1\" class=\"dataframe\">\n",
       "  <thead>\n",
       "    <tr style=\"text-align: right;\">\n",
       "      <th></th>\n",
       "      <th>CurrentTimstamp</th>\n",
       "      <th>CurrentEvent</th>\n",
       "      <th>CurrentTarget</th>\n",
       "      <th>CurrentClickX</th>\n",
       "      <th>CurrentClickY</th>\n",
       "      <th>CurrentURL</th>\n",
       "      <th>outerWidth</th>\n",
       "      <th>outerHeight</th>\n",
       "      <th>innerWidth</th>\n",
       "      <th>innerHeight</th>\n",
       "      <th>created</th>\n",
       "      <th>CurrentHtml</th>\n",
       "      <th>Timestampdiff</th>\n",
       "    </tr>\n",
       "  </thead>\n",
       "  <tbody>\n",
       "    <tr>\n",
       "      <th>33</th>\n",
       "      <td>119.0</td>\n",
       "      <td>click</td>\n",
       "      <td>6bbe301f-2986-4f4c-8db8-703449fe6f2b</td>\n",
       "      <td>750.0</td>\n",
       "      <td>530.0</td>\n",
       "      <td>https://www.amazon.com/s?k=electric+toothbrush...</td>\n",
       "      <td>1920.0</td>\n",
       "      <td>1040.0</td>\n",
       "      <td>1920.0</td>\n",
       "      <td>953.0</td>\n",
       "      <td>2024-05-02 07:20:52</td>\n",
       "      <td>&lt;body class=\"a-m-us a-aui_72554-c a-aui_a11y_2...</td>\n",
       "      <td>15.0</td>\n",
       "    </tr>\n",
       "    <tr>\n",
       "      <th>36</th>\n",
       "      <td>130.0</td>\n",
       "      <td>click</td>\n",
       "      <td>6a2b3a05-772d-4769-854e-20a4e20ea76f</td>\n",
       "      <td>413.0</td>\n",
       "      <td>849.0</td>\n",
       "      <td>https://www.amazon.com/s?k=electric+toothbrush...</td>\n",
       "      <td>1920.0</td>\n",
       "      <td>1040.0</td>\n",
       "      <td>1920.0</td>\n",
       "      <td>953.0</td>\n",
       "      <td>2024-05-02 07:21:03</td>\n",
       "      <td>&lt;body class=\"a-m-us a-aui_72554-c a-aui_a11y_2...</td>\n",
       "      <td>11.0</td>\n",
       "    </tr>\n",
       "    <tr>\n",
       "      <th>38</th>\n",
       "      <td>151.0</td>\n",
       "      <td>click</td>\n",
       "      <td>452b8e6f-5568-4ff8-a788-9fa1859b70a0</td>\n",
       "      <td>432.0</td>\n",
       "      <td>777.0</td>\n",
       "      <td>https://www.amazon.com/s?k=piano+keyboard&amp;crid...</td>\n",
       "      <td>1920.0</td>\n",
       "      <td>1040.0</td>\n",
       "      <td>1920.0</td>\n",
       "      <td>953.0</td>\n",
       "      <td>2024-05-02 07:21:24</td>\n",
       "      <td>&lt;body class=\"a-m-us a-aui_72554-c a-aui_a11y_2...</td>\n",
       "      <td>21.0</td>\n",
       "    </tr>\n",
       "    <tr>\n",
       "      <th>43</th>\n",
       "      <td>172.0</td>\n",
       "      <td>click</td>\n",
       "      <td>0e4f090e-1798-4d76-91fc-4504347e84f9</td>\n",
       "      <td>1330.0</td>\n",
       "      <td>644.0</td>\n",
       "      <td>https://www.amazon.com/s?k=piano+keyboard&amp;crid...</td>\n",
       "      <td>1920.0</td>\n",
       "      <td>1040.0</td>\n",
       "      <td>1920.0</td>\n",
       "      <td>953.0</td>\n",
       "      <td>2024-05-02 07:21:45</td>\n",
       "      <td>&lt;body class=\"a-m-us a-aui_72554-c a-aui_a11y_2...</td>\n",
       "      <td>21.0</td>\n",
       "    </tr>\n",
       "    <tr>\n",
       "      <th>45</th>\n",
       "      <td>182.0</td>\n",
       "      <td>click</td>\n",
       "      <td>e5e4c551-c622-4c8c-8ce7-088be27e4e1f</td>\n",
       "      <td>1131.0</td>\n",
       "      <td>645.0</td>\n",
       "      <td>https://www.amazon.com/s?k=piano+keyboard&amp;crid...</td>\n",
       "      <td>1920.0</td>\n",
       "      <td>1040.0</td>\n",
       "      <td>1920.0</td>\n",
       "      <td>953.0</td>\n",
       "      <td>2024-05-02 07:21:55</td>\n",
       "      <td>&lt;body class=\"a-m-us a-aui_72554-c a-aui_a11y_2...</td>\n",
       "      <td>10.0</td>\n",
       "    </tr>\n",
       "  </tbody>\n",
       "</table>\n",
       "</div>"
      ]
     },
     "execution_count": 24,
     "metadata": {},
     "output_type": "execute_result"
    }
   ],
   "execution_count": 24
  },
  {
   "cell_type": "code",
   "id": "f5bdbe5a-5c95-44c2-8c08-fb646af37abc",
   "metadata": {
    "tags": [],
    "ExecuteTime": {
     "end_time": "2024-05-18T22:26:21.926277Z",
     "start_time": "2024-05-18T22:26:21.912128Z"
    }
   },
   "source": [
    "# Check if the CurrentURL stays the same, to identify multiple clicks on the same page due to lagg from recording\n",
    "df_click['SameURL'] = df_click['CurrentURL'] == df_click['CurrentURL'].shift()#\n",
    "df_click['SameTarget'] = df_click['CurrentTarget'] == df_click['CurrentTarget'].shift()"
   ],
   "outputs": [],
   "execution_count": 25
  },
  {
   "cell_type": "code",
   "id": "ea0a1703-f1f8-44f8-b31a-edf1fabbcb05",
   "metadata": {
    "tags": [],
    "ExecuteTime": {
     "end_time": "2024-05-18T22:26:24.110205Z",
     "start_time": "2024-05-18T22:26:24.100627Z"
    }
   },
   "source": [
    "len(df_click[df_click.Timestampdiff <= 2000]), len(df_click[(df_click.Timestampdiff <= 2000) & (df_click['SameURL'])])"
   ],
   "outputs": [
    {
     "data": {
      "text/plain": [
       "(71, 40)"
      ]
     },
     "execution_count": 26,
     "metadata": {},
     "output_type": "execute_result"
    }
   ],
   "execution_count": 26
  },
  {
   "cell_type": "code",
   "id": "797c34ba-7bd9-4021-89ef-2732a25468bc",
   "metadata": {
    "tags": [],
    "ExecuteTime": {
     "end_time": "2024-05-18T22:26:25.333658Z",
     "start_time": "2024-05-18T22:26:25.286351Z"
    }
   },
   "source": [
    "# Filter out clicks on same page in 2 seconds on same target\n",
    "print(len(df_click))\n",
    "df_click_filtered = df_click[~((df_click.Timestampdiff <= 2000) & (df_click['SameURL']) & (df_click['SameTarget']))]\n",
    "print(len(df_click_filtered))\n",
    "df_click_filtered.head()"
   ],
   "outputs": [
    {
     "name": "stdout",
     "output_type": "stream",
     "text": [
      "72\n",
      "70\n"
     ]
    },
    {
     "data": {
      "text/plain": [
       "    CurrentTimstamp CurrentEvent                         CurrentTarget  \\\n",
       "29            104.0        click  ca1925c9-295f-42fb-91d2-686a29c7874f   \n",
       "33            119.0        click  6bbe301f-2986-4f4c-8db8-703449fe6f2b   \n",
       "36            130.0        click  6a2b3a05-772d-4769-854e-20a4e20ea76f   \n",
       "38            151.0        click  452b8e6f-5568-4ff8-a788-9fa1859b70a0   \n",
       "43            172.0        click  0e4f090e-1798-4d76-91fc-4504347e84f9   \n",
       "\n",
       "    CurrentClickX  CurrentClickY  \\\n",
       "29          423.0          644.0   \n",
       "33          750.0          530.0   \n",
       "36          413.0          849.0   \n",
       "38          432.0          777.0   \n",
       "43         1330.0          644.0   \n",
       "\n",
       "                                           CurrentURL  outerWidth  \\\n",
       "29  https://www.amazon.com/s?k=electric+toothbrush...      1920.0   \n",
       "33  https://www.amazon.com/s?k=electric+toothbrush...      1920.0   \n",
       "36  https://www.amazon.com/s?k=electric+toothbrush...      1920.0   \n",
       "38  https://www.amazon.com/s?k=piano+keyboard&crid...      1920.0   \n",
       "43  https://www.amazon.com/s?k=piano+keyboard&crid...      1920.0   \n",
       "\n",
       "    outerHeight  innerWidth  innerHeight              created  \\\n",
       "29       1040.0      1920.0        953.0  2024-05-02 07:20:38   \n",
       "33       1040.0      1920.0        953.0  2024-05-02 07:20:52   \n",
       "36       1040.0      1920.0        953.0  2024-05-02 07:21:03   \n",
       "38       1040.0      1920.0        953.0  2024-05-02 07:21:24   \n",
       "43       1040.0      1920.0        953.0  2024-05-02 07:21:45   \n",
       "\n",
       "                                          CurrentHtml  Timestampdiff  SameURL  \\\n",
       "29  <body class=\"a-m-us a-aui_72554-c a-aui_a11y_2...            NaN    False   \n",
       "33  <body class=\"a-m-us a-aui_72554-c a-aui_a11y_2...           15.0     True   \n",
       "36  <body class=\"a-m-us a-aui_72554-c a-aui_a11y_2...           11.0     True   \n",
       "38  <body class=\"a-m-us a-aui_72554-c a-aui_a11y_2...           21.0    False   \n",
       "43  <body class=\"a-m-us a-aui_72554-c a-aui_a11y_2...           21.0     True   \n",
       "\n",
       "    SameTarget  \n",
       "29       False  \n",
       "33       False  \n",
       "36       False  \n",
       "38       False  \n",
       "43       False  "
      ],
      "text/html": [
       "<div>\n",
       "<style scoped>\n",
       "    .dataframe tbody tr th:only-of-type {\n",
       "        vertical-align: middle;\n",
       "    }\n",
       "\n",
       "    .dataframe tbody tr th {\n",
       "        vertical-align: top;\n",
       "    }\n",
       "\n",
       "    .dataframe thead th {\n",
       "        text-align: right;\n",
       "    }\n",
       "</style>\n",
       "<table border=\"1\" class=\"dataframe\">\n",
       "  <thead>\n",
       "    <tr style=\"text-align: right;\">\n",
       "      <th></th>\n",
       "      <th>CurrentTimstamp</th>\n",
       "      <th>CurrentEvent</th>\n",
       "      <th>CurrentTarget</th>\n",
       "      <th>CurrentClickX</th>\n",
       "      <th>CurrentClickY</th>\n",
       "      <th>CurrentURL</th>\n",
       "      <th>outerWidth</th>\n",
       "      <th>outerHeight</th>\n",
       "      <th>innerWidth</th>\n",
       "      <th>innerHeight</th>\n",
       "      <th>created</th>\n",
       "      <th>CurrentHtml</th>\n",
       "      <th>Timestampdiff</th>\n",
       "      <th>SameURL</th>\n",
       "      <th>SameTarget</th>\n",
       "    </tr>\n",
       "  </thead>\n",
       "  <tbody>\n",
       "    <tr>\n",
       "      <th>29</th>\n",
       "      <td>104.0</td>\n",
       "      <td>click</td>\n",
       "      <td>ca1925c9-295f-42fb-91d2-686a29c7874f</td>\n",
       "      <td>423.0</td>\n",
       "      <td>644.0</td>\n",
       "      <td>https://www.amazon.com/s?k=electric+toothbrush...</td>\n",
       "      <td>1920.0</td>\n",
       "      <td>1040.0</td>\n",
       "      <td>1920.0</td>\n",
       "      <td>953.0</td>\n",
       "      <td>2024-05-02 07:20:38</td>\n",
       "      <td>&lt;body class=\"a-m-us a-aui_72554-c a-aui_a11y_2...</td>\n",
       "      <td>NaN</td>\n",
       "      <td>False</td>\n",
       "      <td>False</td>\n",
       "    </tr>\n",
       "    <tr>\n",
       "      <th>33</th>\n",
       "      <td>119.0</td>\n",
       "      <td>click</td>\n",
       "      <td>6bbe301f-2986-4f4c-8db8-703449fe6f2b</td>\n",
       "      <td>750.0</td>\n",
       "      <td>530.0</td>\n",
       "      <td>https://www.amazon.com/s?k=electric+toothbrush...</td>\n",
       "      <td>1920.0</td>\n",
       "      <td>1040.0</td>\n",
       "      <td>1920.0</td>\n",
       "      <td>953.0</td>\n",
       "      <td>2024-05-02 07:20:52</td>\n",
       "      <td>&lt;body class=\"a-m-us a-aui_72554-c a-aui_a11y_2...</td>\n",
       "      <td>15.0</td>\n",
       "      <td>True</td>\n",
       "      <td>False</td>\n",
       "    </tr>\n",
       "    <tr>\n",
       "      <th>36</th>\n",
       "      <td>130.0</td>\n",
       "      <td>click</td>\n",
       "      <td>6a2b3a05-772d-4769-854e-20a4e20ea76f</td>\n",
       "      <td>413.0</td>\n",
       "      <td>849.0</td>\n",
       "      <td>https://www.amazon.com/s?k=electric+toothbrush...</td>\n",
       "      <td>1920.0</td>\n",
       "      <td>1040.0</td>\n",
       "      <td>1920.0</td>\n",
       "      <td>953.0</td>\n",
       "      <td>2024-05-02 07:21:03</td>\n",
       "      <td>&lt;body class=\"a-m-us a-aui_72554-c a-aui_a11y_2...</td>\n",
       "      <td>11.0</td>\n",
       "      <td>True</td>\n",
       "      <td>False</td>\n",
       "    </tr>\n",
       "    <tr>\n",
       "      <th>38</th>\n",
       "      <td>151.0</td>\n",
       "      <td>click</td>\n",
       "      <td>452b8e6f-5568-4ff8-a788-9fa1859b70a0</td>\n",
       "      <td>432.0</td>\n",
       "      <td>777.0</td>\n",
       "      <td>https://www.amazon.com/s?k=piano+keyboard&amp;crid...</td>\n",
       "      <td>1920.0</td>\n",
       "      <td>1040.0</td>\n",
       "      <td>1920.0</td>\n",
       "      <td>953.0</td>\n",
       "      <td>2024-05-02 07:21:24</td>\n",
       "      <td>&lt;body class=\"a-m-us a-aui_72554-c a-aui_a11y_2...</td>\n",
       "      <td>21.0</td>\n",
       "      <td>False</td>\n",
       "      <td>False</td>\n",
       "    </tr>\n",
       "    <tr>\n",
       "      <th>43</th>\n",
       "      <td>172.0</td>\n",
       "      <td>click</td>\n",
       "      <td>0e4f090e-1798-4d76-91fc-4504347e84f9</td>\n",
       "      <td>1330.0</td>\n",
       "      <td>644.0</td>\n",
       "      <td>https://www.amazon.com/s?k=piano+keyboard&amp;crid...</td>\n",
       "      <td>1920.0</td>\n",
       "      <td>1040.0</td>\n",
       "      <td>1920.0</td>\n",
       "      <td>953.0</td>\n",
       "      <td>2024-05-02 07:21:45</td>\n",
       "      <td>&lt;body class=\"a-m-us a-aui_72554-c a-aui_a11y_2...</td>\n",
       "      <td>21.0</td>\n",
       "      <td>True</td>\n",
       "      <td>False</td>\n",
       "    </tr>\n",
       "  </tbody>\n",
       "</table>\n",
       "</div>"
      ]
     },
     "execution_count": 27,
     "metadata": {},
     "output_type": "execute_result"
    }
   ],
   "execution_count": 27
  },
  {
   "cell_type": "markdown",
   "id": "b9443ee5-40cf-499d-85dd-c623c25b45ed",
   "metadata": {},
   "source": [
    "# Get Eye Tracking Data and convert Timestamps"
   ]
  },
  {
   "cell_type": "code",
   "id": "e94b4d92-fa5a-45fc-84e9-3c6a7cab5f35",
   "metadata": {
    "tags": [],
    "ExecuteTime": {
     "end_time": "2024-05-18T22:26:30.870888Z",
     "start_time": "2024-05-18T22:26:30.859096Z"
    }
   },
   "source": [
    "from datetime import datetime\n",
    "import time"
   ],
   "outputs": [],
   "execution_count": 28
  },
  {
   "cell_type": "code",
   "id": "5e78727d-3647-4c11-b6e3-c3b93f303b01",
   "metadata": {
    "tags": [],
    "ExecuteTime": {
     "end_time": "2024-05-18T22:26:38.488321Z",
     "start_time": "2024-05-18T22:26:38.458112Z"
    }
   },
   "source": [
    "asc_fielpath = './27.asc' # put the path to your asc (eyetracking) file here\n",
    "f = open(asc_fielpath, \"r\")\n",
    "for line in f:\n",
    "    if line.startswith(\"MSG\"):\n",
    "        firstTimeASC = int(line.split(\"PID\")[0].replace(\"MSG\", \"\"))\n",
    "        break\n",
    "def convertEyeTimeToUnix(x):\n",
    "    return (x - firstTimeASC) + TimeStartUnix "
   ],
   "outputs": [],
   "execution_count": 29
  },
  {
   "cell_type": "code",
   "id": "881bed52-f9ea-4bcf-9627-3b4e044f3bad",
   "metadata": {
    "tags": [],
    "ExecuteTime": {
     "end_time": "2024-05-18T22:26:39.302770Z",
     "start_time": "2024-05-18T22:26:39.294250Z"
    }
   },
   "source": [
    "df_time.head()"
   ],
   "outputs": [
    {
     "data": {
      "text/plain": [
       "  Message     ETT   MSG2  UnixTimeStamp\n",
       "0     MSG  417417  UNIX:     1714634330\n",
       "1     MSG  555175  UNIX:     1714634468\n",
       "2     MSG  689663  UNIX:     1714634602\n",
       "3     MSG  817494  UNIX:     1714634730\n",
       "4     MSG  949384  UNIX:     1714634862"
      ],
      "text/html": [
       "<div>\n",
       "<style scoped>\n",
       "    .dataframe tbody tr th:only-of-type {\n",
       "        vertical-align: middle;\n",
       "    }\n",
       "\n",
       "    .dataframe tbody tr th {\n",
       "        vertical-align: top;\n",
       "    }\n",
       "\n",
       "    .dataframe thead th {\n",
       "        text-align: right;\n",
       "    }\n",
       "</style>\n",
       "<table border=\"1\" class=\"dataframe\">\n",
       "  <thead>\n",
       "    <tr style=\"text-align: right;\">\n",
       "      <th></th>\n",
       "      <th>Message</th>\n",
       "      <th>ETT</th>\n",
       "      <th>MSG2</th>\n",
       "      <th>UnixTimeStamp</th>\n",
       "    </tr>\n",
       "  </thead>\n",
       "  <tbody>\n",
       "    <tr>\n",
       "      <th>0</th>\n",
       "      <td>MSG</td>\n",
       "      <td>417417</td>\n",
       "      <td>UNIX:</td>\n",
       "      <td>1714634330</td>\n",
       "    </tr>\n",
       "    <tr>\n",
       "      <th>1</th>\n",
       "      <td>MSG</td>\n",
       "      <td>555175</td>\n",
       "      <td>UNIX:</td>\n",
       "      <td>1714634468</td>\n",
       "    </tr>\n",
       "    <tr>\n",
       "      <th>2</th>\n",
       "      <td>MSG</td>\n",
       "      <td>689663</td>\n",
       "      <td>UNIX:</td>\n",
       "      <td>1714634602</td>\n",
       "    </tr>\n",
       "    <tr>\n",
       "      <th>3</th>\n",
       "      <td>MSG</td>\n",
       "      <td>817494</td>\n",
       "      <td>UNIX:</td>\n",
       "      <td>1714634730</td>\n",
       "    </tr>\n",
       "    <tr>\n",
       "      <th>4</th>\n",
       "      <td>MSG</td>\n",
       "      <td>949384</td>\n",
       "      <td>UNIX:</td>\n",
       "      <td>1714634862</td>\n",
       "    </tr>\n",
       "  </tbody>\n",
       "</table>\n",
       "</div>"
      ]
     },
     "execution_count": 30,
     "metadata": {},
     "output_type": "execute_result"
    }
   ],
   "execution_count": 30
  },
  {
   "cell_type": "code",
   "id": "ef5a4221-9ed8-457b-bd8b-5de96e9548a7",
   "metadata": {
    "tags": [],
    "ExecuteTime": {
     "end_time": "2024-05-18T22:27:12.650417Z",
     "start_time": "2024-05-18T22:27:12.637113Z"
    }
   },
   "source": "df_eye.Time.max()",
   "outputs": [
    {
     "data": {
      "text/plain": [
       "3343450"
      ]
     },
     "execution_count": 32,
     "metadata": {},
     "output_type": "execute_result"
    }
   ],
   "execution_count": 32
  },
  {
   "metadata": {
    "ExecuteTime": {
     "end_time": "2024-05-18T22:28:39.790641Z",
     "start_time": "2024-05-18T22:28:39.776109Z"
    }
   },
   "cell_type": "code",
   "source": "df_eye.head()",
   "id": "5877268f9c97a40d",
   "outputs": [
    {
     "data": {
      "text/plain": [
       "     Time     X_L    Y_L  PupilSize_L    X_R    Y_R  PupilSize_R  \\\n",
       "0  384009  1022.6  278.9       1929.0  987.0  312.5       1600.0   \n",
       "1  384011  1023.1  280.0       1927.0  988.2  313.2       1593.0   \n",
       "2  384013  1023.5  281.1       1928.0  987.8  311.6       1602.0   \n",
       "3  384015  1024.1  282.1       1935.0  987.1  310.0       1612.0   \n",
       "4  384017  1024.6  282.2       1938.0  988.7  310.6       1611.0   \n",
       "\n",
       "   ParticipantNr  \n",
       "0        32768.0  \n",
       "1        32768.0  \n",
       "2        32768.0  \n",
       "3        32768.0  \n",
       "4        32768.0  "
      ],
      "text/html": [
       "<div>\n",
       "<style scoped>\n",
       "    .dataframe tbody tr th:only-of-type {\n",
       "        vertical-align: middle;\n",
       "    }\n",
       "\n",
       "    .dataframe tbody tr th {\n",
       "        vertical-align: top;\n",
       "    }\n",
       "\n",
       "    .dataframe thead th {\n",
       "        text-align: right;\n",
       "    }\n",
       "</style>\n",
       "<table border=\"1\" class=\"dataframe\">\n",
       "  <thead>\n",
       "    <tr style=\"text-align: right;\">\n",
       "      <th></th>\n",
       "      <th>Time</th>\n",
       "      <th>X_L</th>\n",
       "      <th>Y_L</th>\n",
       "      <th>PupilSize_L</th>\n",
       "      <th>X_R</th>\n",
       "      <th>Y_R</th>\n",
       "      <th>PupilSize_R</th>\n",
       "      <th>ParticipantNr</th>\n",
       "    </tr>\n",
       "  </thead>\n",
       "  <tbody>\n",
       "    <tr>\n",
       "      <th>0</th>\n",
       "      <td>384009</td>\n",
       "      <td>1022.6</td>\n",
       "      <td>278.9</td>\n",
       "      <td>1929.0</td>\n",
       "      <td>987.0</td>\n",
       "      <td>312.5</td>\n",
       "      <td>1600.0</td>\n",
       "      <td>32768.0</td>\n",
       "    </tr>\n",
       "    <tr>\n",
       "      <th>1</th>\n",
       "      <td>384011</td>\n",
       "      <td>1023.1</td>\n",
       "      <td>280.0</td>\n",
       "      <td>1927.0</td>\n",
       "      <td>988.2</td>\n",
       "      <td>313.2</td>\n",
       "      <td>1593.0</td>\n",
       "      <td>32768.0</td>\n",
       "    </tr>\n",
       "    <tr>\n",
       "      <th>2</th>\n",
       "      <td>384013</td>\n",
       "      <td>1023.5</td>\n",
       "      <td>281.1</td>\n",
       "      <td>1928.0</td>\n",
       "      <td>987.8</td>\n",
       "      <td>311.6</td>\n",
       "      <td>1602.0</td>\n",
       "      <td>32768.0</td>\n",
       "    </tr>\n",
       "    <tr>\n",
       "      <th>3</th>\n",
       "      <td>384015</td>\n",
       "      <td>1024.1</td>\n",
       "      <td>282.1</td>\n",
       "      <td>1935.0</td>\n",
       "      <td>987.1</td>\n",
       "      <td>310.0</td>\n",
       "      <td>1612.0</td>\n",
       "      <td>32768.0</td>\n",
       "    </tr>\n",
       "    <tr>\n",
       "      <th>4</th>\n",
       "      <td>384017</td>\n",
       "      <td>1024.6</td>\n",
       "      <td>282.2</td>\n",
       "      <td>1938.0</td>\n",
       "      <td>988.7</td>\n",
       "      <td>310.6</td>\n",
       "      <td>1611.0</td>\n",
       "      <td>32768.0</td>\n",
       "    </tr>\n",
       "  </tbody>\n",
       "</table>\n",
       "</div>"
      ]
     },
     "execution_count": 33,
     "metadata": {},
     "output_type": "execute_result"
    }
   ],
   "execution_count": 33
  },
  {
   "metadata": {
    "ExecuteTime": {
     "end_time": "2024-05-18T22:29:04.777754Z",
     "start_time": "2024-05-18T22:29:04.764727Z"
    }
   },
   "cell_type": "code",
   "source": [
    "EyeTimeStart = df_eye['Time'].min()\n",
    "print(EyeTimeStart)"
   ],
   "id": "a9a82d57bbdd0d32",
   "outputs": [
    {
     "name": "stdout",
     "output_type": "stream",
     "text": [
      "384009\n"
     ]
    }
   ],
   "execution_count": 34
  },
  {
   "cell_type": "code",
   "id": "7f37fa93-78ab-4df3-8f8f-ebe7c45b6d8c",
   "metadata": {
    "tags": [],
    "ExecuteTime": {
     "end_time": "2024-05-18T22:29:31.266916Z",
     "start_time": "2024-05-18T22:29:31.253634Z"
    }
   },
   "source": [
    "def convertEyeTimeToUnix(x):\n",
    "    # TODO: Implement this function\n",
    "    return x - EyeTimeStart"
   ],
   "outputs": [],
   "execution_count": 35
  },
  {
   "cell_type": "code",
   "id": "bbc1ad5d-ef58-4d24-86a8-101d91c794e4",
   "metadata": {
    "tags": [],
    "ExecuteTime": {
     "end_time": "2024-05-18T22:30:48.516895Z",
     "start_time": "2024-05-18T22:30:44.821714Z"
    }
   },
   "source": [
    "df_eye['seconds'] =  df_eye.Time.apply(lambda x: convertEyeTimeToUnix(x))\n",
    "df_eye.head(20)"
   ],
   "outputs": [
    {
     "data": {
      "text/plain": [
       "      Time     X_L    Y_L  PupilSize_L    X_R    Y_R  PupilSize_R  \\\n",
       "0   384009  1022.6  278.9       1929.0  987.0  312.5       1600.0   \n",
       "1   384011  1023.1  280.0       1927.0  988.2  313.2       1593.0   \n",
       "2   384013  1023.5  281.1       1928.0  987.8  311.6       1602.0   \n",
       "3   384015  1024.1  282.1       1935.0  987.1  310.0       1612.0   \n",
       "4   384017  1024.6  282.2       1938.0  988.7  310.6       1611.0   \n",
       "5   384019  1025.5  281.8       1934.0  987.4  309.6       1607.0   \n",
       "6   384021  1023.3  280.5       1928.0  987.4  309.4       1606.0   \n",
       "7   384023  1023.2  281.1       1927.0  988.6  312.3       1605.0   \n",
       "8   384025  1023.9  282.1       1930.0  987.7  312.8       1603.0   \n",
       "9   384027  1025.0  282.1       1931.0  987.4  312.0       1607.0   \n",
       "10  384029  1023.6  281.7       1931.0  986.1  312.0       1613.0   \n",
       "11  384031  1024.8  281.3       1933.0  985.1  311.5       1610.0   \n",
       "12  384033  1024.7  282.7       1936.0  985.6  310.9       1603.0   \n",
       "13  384035  1024.3  284.2       1927.0  986.9  310.6       1598.0   \n",
       "14  384037  1024.3  284.0       1923.0  986.9  310.9       1604.0   \n",
       "15  384039  1023.8  281.8       1927.0  985.7  313.1       1611.0   \n",
       "16  384041  1023.1  279.7       1930.0  986.7  316.3       1615.0   \n",
       "17  384043  1023.1  280.6       1932.0  987.5  315.2       1615.0   \n",
       "18  384045  1023.6  283.5       1932.0  987.4  309.8       1613.0   \n",
       "19  384047  1024.4  285.8       1934.0  986.4  308.0       1606.0   \n",
       "\n",
       "    ParticipantNr  seconds  \n",
       "0         32768.0        0  \n",
       "1         32768.0        2  \n",
       "2         32768.0        4  \n",
       "3         32768.0        6  \n",
       "4         32768.0        8  \n",
       "5         32768.0       10  \n",
       "6         32768.0       12  \n",
       "7         32768.0       14  \n",
       "8         32768.0       16  \n",
       "9         32768.0       18  \n",
       "10        32768.0       20  \n",
       "11        32768.0       22  \n",
       "12        32768.0       24  \n",
       "13        32768.0       26  \n",
       "14        32768.0       28  \n",
       "15        32768.0       30  \n",
       "16        32768.0       32  \n",
       "17        32768.0       34  \n",
       "18        32768.0       36  \n",
       "19        32768.0       38  "
      ],
      "text/html": [
       "<div>\n",
       "<style scoped>\n",
       "    .dataframe tbody tr th:only-of-type {\n",
       "        vertical-align: middle;\n",
       "    }\n",
       "\n",
       "    .dataframe tbody tr th {\n",
       "        vertical-align: top;\n",
       "    }\n",
       "\n",
       "    .dataframe thead th {\n",
       "        text-align: right;\n",
       "    }\n",
       "</style>\n",
       "<table border=\"1\" class=\"dataframe\">\n",
       "  <thead>\n",
       "    <tr style=\"text-align: right;\">\n",
       "      <th></th>\n",
       "      <th>Time</th>\n",
       "      <th>X_L</th>\n",
       "      <th>Y_L</th>\n",
       "      <th>PupilSize_L</th>\n",
       "      <th>X_R</th>\n",
       "      <th>Y_R</th>\n",
       "      <th>PupilSize_R</th>\n",
       "      <th>ParticipantNr</th>\n",
       "      <th>seconds</th>\n",
       "    </tr>\n",
       "  </thead>\n",
       "  <tbody>\n",
       "    <tr>\n",
       "      <th>0</th>\n",
       "      <td>384009</td>\n",
       "      <td>1022.6</td>\n",
       "      <td>278.9</td>\n",
       "      <td>1929.0</td>\n",
       "      <td>987.0</td>\n",
       "      <td>312.5</td>\n",
       "      <td>1600.0</td>\n",
       "      <td>32768.0</td>\n",
       "      <td>0</td>\n",
       "    </tr>\n",
       "    <tr>\n",
       "      <th>1</th>\n",
       "      <td>384011</td>\n",
       "      <td>1023.1</td>\n",
       "      <td>280.0</td>\n",
       "      <td>1927.0</td>\n",
       "      <td>988.2</td>\n",
       "      <td>313.2</td>\n",
       "      <td>1593.0</td>\n",
       "      <td>32768.0</td>\n",
       "      <td>2</td>\n",
       "    </tr>\n",
       "    <tr>\n",
       "      <th>2</th>\n",
       "      <td>384013</td>\n",
       "      <td>1023.5</td>\n",
       "      <td>281.1</td>\n",
       "      <td>1928.0</td>\n",
       "      <td>987.8</td>\n",
       "      <td>311.6</td>\n",
       "      <td>1602.0</td>\n",
       "      <td>32768.0</td>\n",
       "      <td>4</td>\n",
       "    </tr>\n",
       "    <tr>\n",
       "      <th>3</th>\n",
       "      <td>384015</td>\n",
       "      <td>1024.1</td>\n",
       "      <td>282.1</td>\n",
       "      <td>1935.0</td>\n",
       "      <td>987.1</td>\n",
       "      <td>310.0</td>\n",
       "      <td>1612.0</td>\n",
       "      <td>32768.0</td>\n",
       "      <td>6</td>\n",
       "    </tr>\n",
       "    <tr>\n",
       "      <th>4</th>\n",
       "      <td>384017</td>\n",
       "      <td>1024.6</td>\n",
       "      <td>282.2</td>\n",
       "      <td>1938.0</td>\n",
       "      <td>988.7</td>\n",
       "      <td>310.6</td>\n",
       "      <td>1611.0</td>\n",
       "      <td>32768.0</td>\n",
       "      <td>8</td>\n",
       "    </tr>\n",
       "    <tr>\n",
       "      <th>5</th>\n",
       "      <td>384019</td>\n",
       "      <td>1025.5</td>\n",
       "      <td>281.8</td>\n",
       "      <td>1934.0</td>\n",
       "      <td>987.4</td>\n",
       "      <td>309.6</td>\n",
       "      <td>1607.0</td>\n",
       "      <td>32768.0</td>\n",
       "      <td>10</td>\n",
       "    </tr>\n",
       "    <tr>\n",
       "      <th>6</th>\n",
       "      <td>384021</td>\n",
       "      <td>1023.3</td>\n",
       "      <td>280.5</td>\n",
       "      <td>1928.0</td>\n",
       "      <td>987.4</td>\n",
       "      <td>309.4</td>\n",
       "      <td>1606.0</td>\n",
       "      <td>32768.0</td>\n",
       "      <td>12</td>\n",
       "    </tr>\n",
       "    <tr>\n",
       "      <th>7</th>\n",
       "      <td>384023</td>\n",
       "      <td>1023.2</td>\n",
       "      <td>281.1</td>\n",
       "      <td>1927.0</td>\n",
       "      <td>988.6</td>\n",
       "      <td>312.3</td>\n",
       "      <td>1605.0</td>\n",
       "      <td>32768.0</td>\n",
       "      <td>14</td>\n",
       "    </tr>\n",
       "    <tr>\n",
       "      <th>8</th>\n",
       "      <td>384025</td>\n",
       "      <td>1023.9</td>\n",
       "      <td>282.1</td>\n",
       "      <td>1930.0</td>\n",
       "      <td>987.7</td>\n",
       "      <td>312.8</td>\n",
       "      <td>1603.0</td>\n",
       "      <td>32768.0</td>\n",
       "      <td>16</td>\n",
       "    </tr>\n",
       "    <tr>\n",
       "      <th>9</th>\n",
       "      <td>384027</td>\n",
       "      <td>1025.0</td>\n",
       "      <td>282.1</td>\n",
       "      <td>1931.0</td>\n",
       "      <td>987.4</td>\n",
       "      <td>312.0</td>\n",
       "      <td>1607.0</td>\n",
       "      <td>32768.0</td>\n",
       "      <td>18</td>\n",
       "    </tr>\n",
       "    <tr>\n",
       "      <th>10</th>\n",
       "      <td>384029</td>\n",
       "      <td>1023.6</td>\n",
       "      <td>281.7</td>\n",
       "      <td>1931.0</td>\n",
       "      <td>986.1</td>\n",
       "      <td>312.0</td>\n",
       "      <td>1613.0</td>\n",
       "      <td>32768.0</td>\n",
       "      <td>20</td>\n",
       "    </tr>\n",
       "    <tr>\n",
       "      <th>11</th>\n",
       "      <td>384031</td>\n",
       "      <td>1024.8</td>\n",
       "      <td>281.3</td>\n",
       "      <td>1933.0</td>\n",
       "      <td>985.1</td>\n",
       "      <td>311.5</td>\n",
       "      <td>1610.0</td>\n",
       "      <td>32768.0</td>\n",
       "      <td>22</td>\n",
       "    </tr>\n",
       "    <tr>\n",
       "      <th>12</th>\n",
       "      <td>384033</td>\n",
       "      <td>1024.7</td>\n",
       "      <td>282.7</td>\n",
       "      <td>1936.0</td>\n",
       "      <td>985.6</td>\n",
       "      <td>310.9</td>\n",
       "      <td>1603.0</td>\n",
       "      <td>32768.0</td>\n",
       "      <td>24</td>\n",
       "    </tr>\n",
       "    <tr>\n",
       "      <th>13</th>\n",
       "      <td>384035</td>\n",
       "      <td>1024.3</td>\n",
       "      <td>284.2</td>\n",
       "      <td>1927.0</td>\n",
       "      <td>986.9</td>\n",
       "      <td>310.6</td>\n",
       "      <td>1598.0</td>\n",
       "      <td>32768.0</td>\n",
       "      <td>26</td>\n",
       "    </tr>\n",
       "    <tr>\n",
       "      <th>14</th>\n",
       "      <td>384037</td>\n",
       "      <td>1024.3</td>\n",
       "      <td>284.0</td>\n",
       "      <td>1923.0</td>\n",
       "      <td>986.9</td>\n",
       "      <td>310.9</td>\n",
       "      <td>1604.0</td>\n",
       "      <td>32768.0</td>\n",
       "      <td>28</td>\n",
       "    </tr>\n",
       "    <tr>\n",
       "      <th>15</th>\n",
       "      <td>384039</td>\n",
       "      <td>1023.8</td>\n",
       "      <td>281.8</td>\n",
       "      <td>1927.0</td>\n",
       "      <td>985.7</td>\n",
       "      <td>313.1</td>\n",
       "      <td>1611.0</td>\n",
       "      <td>32768.0</td>\n",
       "      <td>30</td>\n",
       "    </tr>\n",
       "    <tr>\n",
       "      <th>16</th>\n",
       "      <td>384041</td>\n",
       "      <td>1023.1</td>\n",
       "      <td>279.7</td>\n",
       "      <td>1930.0</td>\n",
       "      <td>986.7</td>\n",
       "      <td>316.3</td>\n",
       "      <td>1615.0</td>\n",
       "      <td>32768.0</td>\n",
       "      <td>32</td>\n",
       "    </tr>\n",
       "    <tr>\n",
       "      <th>17</th>\n",
       "      <td>384043</td>\n",
       "      <td>1023.1</td>\n",
       "      <td>280.6</td>\n",
       "      <td>1932.0</td>\n",
       "      <td>987.5</td>\n",
       "      <td>315.2</td>\n",
       "      <td>1615.0</td>\n",
       "      <td>32768.0</td>\n",
       "      <td>34</td>\n",
       "    </tr>\n",
       "    <tr>\n",
       "      <th>18</th>\n",
       "      <td>384045</td>\n",
       "      <td>1023.6</td>\n",
       "      <td>283.5</td>\n",
       "      <td>1932.0</td>\n",
       "      <td>987.4</td>\n",
       "      <td>309.8</td>\n",
       "      <td>1613.0</td>\n",
       "      <td>32768.0</td>\n",
       "      <td>36</td>\n",
       "    </tr>\n",
       "    <tr>\n",
       "      <th>19</th>\n",
       "      <td>384047</td>\n",
       "      <td>1024.4</td>\n",
       "      <td>285.8</td>\n",
       "      <td>1934.0</td>\n",
       "      <td>986.4</td>\n",
       "      <td>308.0</td>\n",
       "      <td>1606.0</td>\n",
       "      <td>32768.0</td>\n",
       "      <td>38</td>\n",
       "    </tr>\n",
       "  </tbody>\n",
       "</table>\n",
       "</div>"
      ]
     },
     "execution_count": 37,
     "metadata": {},
     "output_type": "execute_result"
    }
   ],
   "execution_count": 37
  },
  {
   "metadata": {},
   "cell_type": "code",
   "outputs": [],
   "execution_count": null,
   "source": "",
   "id": "fad86604a89e146"
  },
  {
   "cell_type": "code",
   "id": "ee4f92da-ce76-4fd1-b7ae-a9d71bf2a678",
   "metadata": {
    "tags": [],
    "ExecuteTime": {
     "end_time": "2024-05-18T22:32:32.732380Z",
     "start_time": "2024-05-18T22:32:27.689658Z"
    }
   },
   "source": [
    "df_eye = pd.read_csv(\"test.csv\")\n",
    "print(len(df_eye))\n",
    "\n",
    "\n",
    "## BLINK FITLERING\n",
    "df_eye.X = pd.to_numeric(df_eye.X_R, downcast='float', errors='coerce')\n",
    "df_eye.Y = pd.to_numeric(df_eye.Y_R, downcast='float', errors='coerce')\n",
    "print(len(df_eye))\n",
    "df_eye = df_eye[~df_eye.X_R.isna()]\n",
    "print(len(df_eye))\n",
    "df_eye = df_eye[~df_eye.Y_R.isna()]\n",
    "df_eye[\"Timestamp\"] = df_eye.Time.apply(lambda x: convertEyeTimeToUnix(x))\n",
    "df_eye.head()"
   ],
   "outputs": [
    {
     "name": "stdout",
     "output_type": "stream",
     "text": [
      "978312\n"
     ]
    },
    {
     "name": "stderr",
     "output_type": "stream",
     "text": [
      "C:\\Users\\Lights\\AppData\\Local\\Temp\\ipykernel_2320\\3939359867.py:6: UserWarning: Pandas doesn't allow columns to be created via a new attribute name - see https://pandas.pydata.org/pandas-docs/stable/indexing.html#attribute-access\n",
      "  df_eye.X = pd.to_numeric(df_eye.X_R, downcast='float', errors='coerce')\n",
      "C:\\Users\\Lights\\AppData\\Local\\Temp\\ipykernel_2320\\3939359867.py:7: UserWarning: Pandas doesn't allow columns to be created via a new attribute name - see https://pandas.pydata.org/pandas-docs/stable/indexing.html#attribute-access\n",
      "  df_eye.Y = pd.to_numeric(df_eye.Y_R, downcast='float', errors='coerce')\n"
     ]
    },
    {
     "name": "stdout",
     "output_type": "stream",
     "text": [
      "978312\n",
      "978312\n"
     ]
    },
    {
     "data": {
      "text/plain": [
       "     Time     X_L    Y_L  PupilSize_L    X_R    Y_R  PupilSize_R  \\\n",
       "0  384009  1022.6  278.9       1929.0  987.0  312.5       1600.0   \n",
       "1  384011  1023.1  280.0       1927.0  988.2  313.2       1593.0   \n",
       "2  384013  1023.5  281.1       1928.0  987.8  311.6       1602.0   \n",
       "3  384015  1024.1  282.1       1935.0  987.1  310.0       1612.0   \n",
       "4  384017  1024.6  282.2       1938.0  988.7  310.6       1611.0   \n",
       "\n",
       "   ParticipantNr  Timestamp  \n",
       "0        32768.0          0  \n",
       "1        32768.0          2  \n",
       "2        32768.0          4  \n",
       "3        32768.0          6  \n",
       "4        32768.0          8  "
      ],
      "text/html": [
       "<div>\n",
       "<style scoped>\n",
       "    .dataframe tbody tr th:only-of-type {\n",
       "        vertical-align: middle;\n",
       "    }\n",
       "\n",
       "    .dataframe tbody tr th {\n",
       "        vertical-align: top;\n",
       "    }\n",
       "\n",
       "    .dataframe thead th {\n",
       "        text-align: right;\n",
       "    }\n",
       "</style>\n",
       "<table border=\"1\" class=\"dataframe\">\n",
       "  <thead>\n",
       "    <tr style=\"text-align: right;\">\n",
       "      <th></th>\n",
       "      <th>Time</th>\n",
       "      <th>X_L</th>\n",
       "      <th>Y_L</th>\n",
       "      <th>PupilSize_L</th>\n",
       "      <th>X_R</th>\n",
       "      <th>Y_R</th>\n",
       "      <th>PupilSize_R</th>\n",
       "      <th>ParticipantNr</th>\n",
       "      <th>Timestamp</th>\n",
       "    </tr>\n",
       "  </thead>\n",
       "  <tbody>\n",
       "    <tr>\n",
       "      <th>0</th>\n",
       "      <td>384009</td>\n",
       "      <td>1022.6</td>\n",
       "      <td>278.9</td>\n",
       "      <td>1929.0</td>\n",
       "      <td>987.0</td>\n",
       "      <td>312.5</td>\n",
       "      <td>1600.0</td>\n",
       "      <td>32768.0</td>\n",
       "      <td>0</td>\n",
       "    </tr>\n",
       "    <tr>\n",
       "      <th>1</th>\n",
       "      <td>384011</td>\n",
       "      <td>1023.1</td>\n",
       "      <td>280.0</td>\n",
       "      <td>1927.0</td>\n",
       "      <td>988.2</td>\n",
       "      <td>313.2</td>\n",
       "      <td>1593.0</td>\n",
       "      <td>32768.0</td>\n",
       "      <td>2</td>\n",
       "    </tr>\n",
       "    <tr>\n",
       "      <th>2</th>\n",
       "      <td>384013</td>\n",
       "      <td>1023.5</td>\n",
       "      <td>281.1</td>\n",
       "      <td>1928.0</td>\n",
       "      <td>987.8</td>\n",
       "      <td>311.6</td>\n",
       "      <td>1602.0</td>\n",
       "      <td>32768.0</td>\n",
       "      <td>4</td>\n",
       "    </tr>\n",
       "    <tr>\n",
       "      <th>3</th>\n",
       "      <td>384015</td>\n",
       "      <td>1024.1</td>\n",
       "      <td>282.1</td>\n",
       "      <td>1935.0</td>\n",
       "      <td>987.1</td>\n",
       "      <td>310.0</td>\n",
       "      <td>1612.0</td>\n",
       "      <td>32768.0</td>\n",
       "      <td>6</td>\n",
       "    </tr>\n",
       "    <tr>\n",
       "      <th>4</th>\n",
       "      <td>384017</td>\n",
       "      <td>1024.6</td>\n",
       "      <td>282.2</td>\n",
       "      <td>1938.0</td>\n",
       "      <td>988.7</td>\n",
       "      <td>310.6</td>\n",
       "      <td>1611.0</td>\n",
       "      <td>32768.0</td>\n",
       "      <td>8</td>\n",
       "    </tr>\n",
       "  </tbody>\n",
       "</table>\n",
       "</div>"
      ]
     },
     "execution_count": 40,
     "metadata": {},
     "output_type": "execute_result"
    }
   ],
   "execution_count": 40
  },
  {
   "cell_type": "code",
   "id": "bfd80fbb-2b1f-41ff-93b6-e55931dc91db",
   "metadata": {
    "tags": [],
    "ExecuteTime": {
     "end_time": "2024-05-18T22:32:56.795484Z",
     "start_time": "2024-05-18T22:32:56.758353Z"
    }
   },
   "source": "df_eye[df_eye.X_R.isna()]",
   "outputs": [
    {
     "data": {
      "text/plain": [
       "Empty DataFrame\n",
       "Columns: [Time, X_L, Y_L, PupilSize_L, X_R, Y_R, PupilSize_R, ParticipantNr, Timestamp]\n",
       "Index: []"
      ],
      "text/html": [
       "<div>\n",
       "<style scoped>\n",
       "    .dataframe tbody tr th:only-of-type {\n",
       "        vertical-align: middle;\n",
       "    }\n",
       "\n",
       "    .dataframe tbody tr th {\n",
       "        vertical-align: top;\n",
       "    }\n",
       "\n",
       "    .dataframe thead th {\n",
       "        text-align: right;\n",
       "    }\n",
       "</style>\n",
       "<table border=\"1\" class=\"dataframe\">\n",
       "  <thead>\n",
       "    <tr style=\"text-align: right;\">\n",
       "      <th></th>\n",
       "      <th>Time</th>\n",
       "      <th>X_L</th>\n",
       "      <th>Y_L</th>\n",
       "      <th>PupilSize_L</th>\n",
       "      <th>X_R</th>\n",
       "      <th>Y_R</th>\n",
       "      <th>PupilSize_R</th>\n",
       "      <th>ParticipantNr</th>\n",
       "      <th>Timestamp</th>\n",
       "    </tr>\n",
       "  </thead>\n",
       "  <tbody>\n",
       "  </tbody>\n",
       "</table>\n",
       "</div>"
      ]
     },
     "execution_count": 41,
     "metadata": {},
     "output_type": "execute_result"
    }
   ],
   "execution_count": 41
  },
  {
   "cell_type": "code",
   "id": "1b0e9ea1-6dc2-4f05-a6d8-0fdc0ce1968a",
   "metadata": {
    "tags": [],
    "ExecuteTime": {
     "end_time": "2024-05-18T22:33:44.967371Z",
     "start_time": "2024-05-18T22:32:58.473824Z"
    }
   },
   "source": [
    "plt.plot(df_eye.X_R, df_eye.Y_R)\n",
    "plt.xlim(0,1920)\n",
    "plt.ylim(0,1080)\n",
    "plt.gca().invert_yaxis()\n",
    "plt.gca().invert_xaxis()"
   ],
   "outputs": [
    {
     "data": {
      "text/plain": [
       "<Figure size 640x480 with 1 Axes>"
      ],
      "image/png": "[encoded data removed]"
     },
     "metadata": {},
     "output_type": "display_data"
    }
   ],
   "execution_count": 42
  },
  {
   "cell_type": "code",
   "execution_count": 250,
   "id": "ef912504-46df-4b15-a119-9b752827cec9",
   "metadata": {
    "tags": []
   },
   "outputs": [
    {
     "data": {
      "text/plain": [
       "array([-711.        , -640.66200195, -570.32400391, -499.98600586,\n",
       "       -429.64800781, -359.31000977, -288.97201172, -218.63401367,\n",
       "       -148.29601562,  -77.95801758,   -7.62001953,   62.71797852,\n",
       "        133.05597656,  203.39397461,  273.73197266,  344.0699707 ,\n",
       "        414.40796875,  484.7459668 ,  555.08396484,  625.42196289,\n",
       "        695.75996094,  766.09795898,  836.43595703,  906.77395508,\n",
       "        977.11195313, 1047.44995117, 1117.78794922, 1188.12594727,\n",
       "       1258.46394531, 1328.80194336, 1399.13994141, 1469.47793945,\n",
       "       1539.8159375 , 1610.15393555, 1680.49193359, 1750.82993164,\n",
       "       1821.16792969, 1891.50592773, 1961.84392578, 2032.18192383,\n",
       "       2102.51992187, 2172.85791992, 2243.19591797, 2313.53391602,\n",
       "       2383.87191406, 2454.20991211, 2524.54791016, 2594.8859082 ,\n",
       "       2665.22390625, 2735.5619043 , 2805.89990234])"
      ]
     },
     "execution_count": 250,
     "metadata": {},
     "output_type": "execute_result"
    }
   ],
   "source": [
    "xedges"
   ]
  },
  {
   "cell_type": "code",
   "execution_count": 260,
   "id": "27f5b701-a520-4c22-b1d4-eefd3cc03699",
   "metadata": {
    "tags": []
   },
   "outputs": [],
   "source": [
    "df_eye = df_eye[(df_eye.X >= 0) &(df_eye.X <= 1920)]\n",
    "df_eye = df_eye[(df_eye.Y >= 0) &(df_eye.Y <= 1080)]"
   ]
  },
  {
   "cell_type": "code",
   "execution_count": 264,
   "id": "d0f36221-2d6e-4a8f-be91-c110be220708",
   "metadata": {
    "tags": []
   },
   "outputs": [
    {
     "data": {
      "image/png": "[encoded data removed]",
      "text/plain": [
       "<Figure size 640x480 with 1 Axes>"
      ]
     },
     "metadata": {},
     "output_type": "display_data"
    }
   ],
   "source": [
    "heatmap, xedges, yedges = np.histogram2d(df_eye.X, df_eye.Y, bins=(192//2, 108//2))\n",
    "extent = [0, 192//2, 0, 108//2]\n",
    "# extent = [xedges[0], xedges[-1], yedges[0], yedges[-1]]\n",
    "plt.clf()\n",
    "plt.imshow(heatmap.T, extent=extent, origin='lower')\n",
    "# plt.xlim(0,1920)\n",
    "# plt.ylim(0,1080)\n",
    "plt.gca().invert_yaxis()\n",
    "plt.gca().invert_xaxis()\n",
    "plt.show()"
   ]
  },
  {
   "cell_type": "code",
   "execution_count": 203,
   "id": "dbd9b930-a9ce-4f1e-a9a6-547a7d735a71",
   "metadata": {
    "tags": []
   },
   "outputs": [
    {
     "data": {
      "text/html": [
       "<div>\n",
       "<style scoped>\n",
       "    .dataframe tbody tr th:only-of-type {\n",
       "        vertical-align: middle;\n",
       "    }\n",
       "\n",
       "    .dataframe tbody tr th {\n",
       "        vertical-align: top;\n",
       "    }\n",
       "\n",
       "    .dataframe thead th {\n",
       "        text-align: right;\n",
       "    }\n",
       "</style>\n",
       "<table border=\"1\" class=\"dataframe\">\n",
       "  <thead>\n",
       "    <tr style=\"text-align: right;\">\n",
       "      <th></th>\n",
       "      <th>CurrentTimstamp</th>\n",
       "      <th>CurrentEvent</th>\n",
       "      <th>CurrentTarget</th>\n",
       "      <th>CurrentClickX</th>\n",
       "      <th>CurrentClickY</th>\n",
       "      <th>CurrentURL</th>\n",
       "      <th>outerWidth</th>\n",
       "      <th>outerHeight</th>\n",
       "      <th>innerWidth</th>\n",
       "      <th>innerHeight</th>\n",
       "      <th>created</th>\n",
       "      <th>CurrentHtml</th>\n",
       "      <th>Timestampdiff</th>\n",
       "      <th>SameURL</th>\n",
       "      <th>SameTarget</th>\n",
       "    </tr>\n",
       "  </thead>\n",
       "  <tbody>\n",
       "    <tr>\n",
       "      <th>9</th>\n",
       "      <td>1684764738317</td>\n",
       "      <td>click</td>\n",
       "      <td>7dac1227-4da1-4a08-b81d-9c198305cbef</td>\n",
       "      <td>1067.0</td>\n",
       "      <td>881.0</td>\n",
       "      <td>https://www.amazon.com/s?k=dumbbell+weights&amp;sp...</td>\n",
       "      <td>1920.0</td>\n",
       "      <td>1040.0</td>\n",
       "      <td>1920.0</td>\n",
       "      <td>969.0</td>\n",
       "      <td>2023-05-22 14:12:19</td>\n",
       "      <td>&lt;body class=\"a-m-us a-aui_72554-c a-aui_accord...</td>\n",
       "      <td>NaN</td>\n",
       "      <td>False</td>\n",
       "      <td>False</td>\n",
       "    </tr>\n",
       "    <tr>\n",
       "      <th>21</th>\n",
       "      <td>1684764752618</td>\n",
       "      <td>click</td>\n",
       "      <td>0fa153b7-1ab8-4bdc-8cfa-23a2c6c5acdc</td>\n",
       "      <td>1114.0</td>\n",
       "      <td>435.0</td>\n",
       "      <td>https://www.amazon.com/s?k=dumbbell+weights&amp;pa...</td>\n",
       "      <td>1920.0</td>\n",
       "      <td>1040.0</td>\n",
       "      <td>1920.0</td>\n",
       "      <td>969.0</td>\n",
       "      <td>2023-05-22 14:12:33</td>\n",
       "      <td>&lt;body class=\"a-m-us a-aui_72554-c a-aui_accord...</td>\n",
       "      <td>14301.0</td>\n",
       "      <td>False</td>\n",
       "      <td>False</td>\n",
       "    </tr>\n",
       "    <tr>\n",
       "      <th>30</th>\n",
       "      <td>1684764765141</td>\n",
       "      <td>click</td>\n",
       "      <td>806a2f83-a598-407e-abdf-01db0e526f4f</td>\n",
       "      <td>1133.0</td>\n",
       "      <td>812.0</td>\n",
       "      <td>https://www.amazon.com/s?k=dumbbell+weights&amp;pa...</td>\n",
       "      <td>1920.0</td>\n",
       "      <td>1040.0</td>\n",
       "      <td>1920.0</td>\n",
       "      <td>969.0</td>\n",
       "      <td>2023-05-22 14:12:45</td>\n",
       "      <td>&lt;body class=\"a-m-us a-aui_72554-c a-aui_accord...</td>\n",
       "      <td>12523.0</td>\n",
       "      <td>False</td>\n",
       "      <td>False</td>\n",
       "    </tr>\n",
       "    <tr>\n",
       "      <th>39</th>\n",
       "      <td>1684764778222</td>\n",
       "      <td>click</td>\n",
       "      <td>a0ba9819-2822-4f2a-b48d-5cc277b512f3</td>\n",
       "      <td>972.0</td>\n",
       "      <td>947.0</td>\n",
       "      <td>https://www.amazon.com/s?k=dumbbell+weights&amp;pa...</td>\n",
       "      <td>1920.0</td>\n",
       "      <td>1040.0</td>\n",
       "      <td>1920.0</td>\n",
       "      <td>969.0</td>\n",
       "      <td>2023-05-22 14:12:59</td>\n",
       "      <td>&lt;body class=\"a-m-us a-aui_72554-c a-aui_accord...</td>\n",
       "      <td>13081.0</td>\n",
       "      <td>False</td>\n",
       "      <td>False</td>\n",
       "    </tr>\n",
       "    <tr>\n",
       "      <th>43</th>\n",
       "      <td>1684764784849</td>\n",
       "      <td>click</td>\n",
       "      <td>18628d22-5fca-42d2-b8d3-0fa545d56b33</td>\n",
       "      <td>968.0</td>\n",
       "      <td>962.0</td>\n",
       "      <td>https://www.amazon.com/s?k=dumbbell+weights&amp;pa...</td>\n",
       "      <td>1920.0</td>\n",
       "      <td>1040.0</td>\n",
       "      <td>1920.0</td>\n",
       "      <td>969.0</td>\n",
       "      <td>2023-05-22 14:13:05</td>\n",
       "      <td>&lt;body class=\"a-m-us a-aui_72554-c a-aui_accord...</td>\n",
       "      <td>6627.0</td>\n",
       "      <td>True</td>\n",
       "      <td>False</td>\n",
       "    </tr>\n",
       "  </tbody>\n",
       "</table>\n",
       "</div>"
      ],
      "text/plain": [
       "    CurrentTimstamp CurrentEvent                         CurrentTarget   \n",
       "9     1684764738317        click  7dac1227-4da1-4a08-b81d-9c198305cbef  \\\n",
       "21    1684764752618        click  0fa153b7-1ab8-4bdc-8cfa-23a2c6c5acdc   \n",
       "30    1684764765141        click  806a2f83-a598-407e-abdf-01db0e526f4f   \n",
       "39    1684764778222        click  a0ba9819-2822-4f2a-b48d-5cc277b512f3   \n",
       "43    1684764784849        click  18628d22-5fca-42d2-b8d3-0fa545d56b33   \n",
       "\n",
       "    CurrentClickX  CurrentClickY   \n",
       "9          1067.0          881.0  \\\n",
       "21         1114.0          435.0   \n",
       "30         1133.0          812.0   \n",
       "39          972.0          947.0   \n",
       "43          968.0          962.0   \n",
       "\n",
       "                                           CurrentURL  outerWidth   \n",
       "9   https://www.amazon.com/s?k=dumbbell+weights&sp...      1920.0  \\\n",
       "21  https://www.amazon.com/s?k=dumbbell+weights&pa...      1920.0   \n",
       "30  https://www.amazon.com/s?k=dumbbell+weights&pa...      1920.0   \n",
       "39  https://www.amazon.com/s?k=dumbbell+weights&pa...      1920.0   \n",
       "43  https://www.amazon.com/s?k=dumbbell+weights&pa...      1920.0   \n",
       "\n",
       "    outerHeight  innerWidth  innerHeight              created   \n",
       "9        1040.0      1920.0        969.0  2023-05-22 14:12:19  \\\n",
       "21       1040.0      1920.0        969.0  2023-05-22 14:12:33   \n",
       "30       1040.0      1920.0        969.0  2023-05-22 14:12:45   \n",
       "39       1040.0      1920.0        969.0  2023-05-22 14:12:59   \n",
       "43       1040.0      1920.0        969.0  2023-05-22 14:13:05   \n",
       "\n",
       "                                          CurrentHtml  Timestampdiff  SameURL   \n",
       "9   <body class=\"a-m-us a-aui_72554-c a-aui_accord...            NaN    False  \\\n",
       "21  <body class=\"a-m-us a-aui_72554-c a-aui_accord...        14301.0    False   \n",
       "30  <body class=\"a-m-us a-aui_72554-c a-aui_accord...        12523.0    False   \n",
       "39  <body class=\"a-m-us a-aui_72554-c a-aui_accord...        13081.0    False   \n",
       "43  <body class=\"a-m-us a-aui_72554-c a-aui_accord...         6627.0     True   \n",
       "\n",
       "    SameTarget  \n",
       "9        False  \n",
       "21       False  \n",
       "30       False  \n",
       "39       False  \n",
       "43       False  "
      ]
     },
     "execution_count": 203,
     "metadata": {},
     "output_type": "execute_result"
    }
   ],
   "source": [
    "df_click_filtered.head()"
   ]
  },
  {
   "cell_type": "markdown",
   "id": "44f0b79a-632a-4a48-847d-337797dc12fa",
   "metadata": {},
   "source": [
    "# Create Training Data"
   ]
  },
  {
   "metadata": {
    "ExecuteTime": {
     "end_time": "2024-05-18T22:35:52.736193Z",
     "start_time": "2024-05-18T22:35:52.723114Z"
    }
   },
   "cell_type": "code",
   "source": "df_eye.head()",
   "id": "faca3ec05b42d8fc",
   "outputs": [
    {
     "data": {
      "text/plain": [
       "     Time     X_L    Y_L  PupilSize_L    X_R    Y_R  PupilSize_R  \\\n",
       "0  384009  1022.6  278.9       1929.0  987.0  312.5       1600.0   \n",
       "1  384011  1023.1  280.0       1927.0  988.2  313.2       1593.0   \n",
       "2  384013  1023.5  281.1       1928.0  987.8  311.6       1602.0   \n",
       "3  384015  1024.1  282.1       1935.0  987.1  310.0       1612.0   \n",
       "4  384017  1024.6  282.2       1938.0  988.7  310.6       1611.0   \n",
       "\n",
       "   ParticipantNr  Timestamp  \n",
       "0        32768.0          0  \n",
       "1        32768.0          2  \n",
       "2        32768.0          4  \n",
       "3        32768.0          6  \n",
       "4        32768.0          8  "
      ],
      "text/html": [
       "<div>\n",
       "<style scoped>\n",
       "    .dataframe tbody tr th:only-of-type {\n",
       "        vertical-align: middle;\n",
       "    }\n",
       "\n",
       "    .dataframe tbody tr th {\n",
       "        vertical-align: top;\n",
       "    }\n",
       "\n",
       "    .dataframe thead th {\n",
       "        text-align: right;\n",
       "    }\n",
       "</style>\n",
       "<table border=\"1\" class=\"dataframe\">\n",
       "  <thead>\n",
       "    <tr style=\"text-align: right;\">\n",
       "      <th></th>\n",
       "      <th>Time</th>\n",
       "      <th>X_L</th>\n",
       "      <th>Y_L</th>\n",
       "      <th>PupilSize_L</th>\n",
       "      <th>X_R</th>\n",
       "      <th>Y_R</th>\n",
       "      <th>PupilSize_R</th>\n",
       "      <th>ParticipantNr</th>\n",
       "      <th>Timestamp</th>\n",
       "    </tr>\n",
       "  </thead>\n",
       "  <tbody>\n",
       "    <tr>\n",
       "      <th>0</th>\n",
       "      <td>384009</td>\n",
       "      <td>1022.6</td>\n",
       "      <td>278.9</td>\n",
       "      <td>1929.0</td>\n",
       "      <td>987.0</td>\n",
       "      <td>312.5</td>\n",
       "      <td>1600.0</td>\n",
       "      <td>32768.0</td>\n",
       "      <td>0</td>\n",
       "    </tr>\n",
       "    <tr>\n",
       "      <th>1</th>\n",
       "      <td>384011</td>\n",
       "      <td>1023.1</td>\n",
       "      <td>280.0</td>\n",
       "      <td>1927.0</td>\n",
       "      <td>988.2</td>\n",
       "      <td>313.2</td>\n",
       "      <td>1593.0</td>\n",
       "      <td>32768.0</td>\n",
       "      <td>2</td>\n",
       "    </tr>\n",
       "    <tr>\n",
       "      <th>2</th>\n",
       "      <td>384013</td>\n",
       "      <td>1023.5</td>\n",
       "      <td>281.1</td>\n",
       "      <td>1928.0</td>\n",
       "      <td>987.8</td>\n",
       "      <td>311.6</td>\n",
       "      <td>1602.0</td>\n",
       "      <td>32768.0</td>\n",
       "      <td>4</td>\n",
       "    </tr>\n",
       "    <tr>\n",
       "      <th>3</th>\n",
       "      <td>384015</td>\n",
       "      <td>1024.1</td>\n",
       "      <td>282.1</td>\n",
       "      <td>1935.0</td>\n",
       "      <td>987.1</td>\n",
       "      <td>310.0</td>\n",
       "      <td>1612.0</td>\n",
       "      <td>32768.0</td>\n",
       "      <td>6</td>\n",
       "    </tr>\n",
       "    <tr>\n",
       "      <th>4</th>\n",
       "      <td>384017</td>\n",
       "      <td>1024.6</td>\n",
       "      <td>282.2</td>\n",
       "      <td>1938.0</td>\n",
       "      <td>988.7</td>\n",
       "      <td>310.6</td>\n",
       "      <td>1611.0</td>\n",
       "      <td>32768.0</td>\n",
       "      <td>8</td>\n",
       "    </tr>\n",
       "  </tbody>\n",
       "</table>\n",
       "</div>"
      ]
     },
     "execution_count": 46,
     "metadata": {},
     "output_type": "execute_result"
    }
   ],
   "execution_count": 46
  },
  {
   "metadata": {
    "ExecuteTime": {
     "end_time": "2024-05-18T22:41:22.585843Z",
     "start_time": "2024-05-18T22:41:22.559673Z"
    }
   },
   "cell_type": "code",
   "source": "df_eye.iloc[1:1+10000]",
   "id": "4263f3b2efc0ca6c",
   "outputs": [
    {
     "data": {
      "text/plain": [
       "         Time     X_L    Y_L  PupilSize_L    X_R    Y_R  PupilSize_R  \\\n",
       "1      384011  1023.1  280.0       1927.0  988.2  313.2       1593.0   \n",
       "2      384013  1023.5  281.1       1928.0  987.8  311.6       1602.0   \n",
       "3      384015  1024.1  282.1       1935.0  987.1  310.0       1612.0   \n",
       "4      384017  1024.6  282.2       1938.0  988.7  310.6       1611.0   \n",
       "5      384019  1025.5  281.8       1934.0  987.4  309.6       1607.0   \n",
       "...       ...     ...    ...          ...    ...    ...          ...   \n",
       "9996   432119   579.5  405.7        689.0  426.4  393.8        586.0   \n",
       "9997   432121   579.5  404.7        688.0  427.7  393.0        585.0   \n",
       "9998   432123   578.9  402.8        687.0  427.4  392.0        583.0   \n",
       "9999   432125   578.3  402.5        688.0  426.0  392.1        584.0   \n",
       "10000  432127   579.3  403.5        690.0  425.1  392.9        587.0   \n",
       "\n",
       "       ParticipantNr  Timestamp  \n",
       "1            32768.0          2  \n",
       "2            32768.0          4  \n",
       "3            32768.0          6  \n",
       "4            32768.0          8  \n",
       "5            32768.0         10  \n",
       "...              ...        ...  \n",
       "9996         32768.0      48110  \n",
       "9997         32768.0      48112  \n",
       "9998         32768.0      48114  \n",
       "9999         32768.0      48116  \n",
       "10000        32768.0      48118  \n",
       "\n",
       "[10000 rows x 9 columns]"
      ],
      "text/html": [
       "<div>\n",
       "<style scoped>\n",
       "    .dataframe tbody tr th:only-of-type {\n",
       "        vertical-align: middle;\n",
       "    }\n",
       "\n",
       "    .dataframe tbody tr th {\n",
       "        vertical-align: top;\n",
       "    }\n",
       "\n",
       "    .dataframe thead th {\n",
       "        text-align: right;\n",
       "    }\n",
       "</style>\n",
       "<table border=\"1\" class=\"dataframe\">\n",
       "  <thead>\n",
       "    <tr style=\"text-align: right;\">\n",
       "      <th></th>\n",
       "      <th>Time</th>\n",
       "      <th>X_L</th>\n",
       "      <th>Y_L</th>\n",
       "      <th>PupilSize_L</th>\n",
       "      <th>X_R</th>\n",
       "      <th>Y_R</th>\n",
       "      <th>PupilSize_R</th>\n",
       "      <th>ParticipantNr</th>\n",
       "      <th>Timestamp</th>\n",
       "    </tr>\n",
       "  </thead>\n",
       "  <tbody>\n",
       "    <tr>\n",
       "      <th>1</th>\n",
       "      <td>384011</td>\n",
       "      <td>1023.1</td>\n",
       "      <td>280.0</td>\n",
       "      <td>1927.0</td>\n",
       "      <td>988.2</td>\n",
       "      <td>313.2</td>\n",
       "      <td>1593.0</td>\n",
       "      <td>32768.0</td>\n",
       "      <td>2</td>\n",
       "    </tr>\n",
       "    <tr>\n",
       "      <th>2</th>\n",
       "      <td>384013</td>\n",
       "      <td>1023.5</td>\n",
       "      <td>281.1</td>\n",
       "      <td>1928.0</td>\n",
       "      <td>987.8</td>\n",
       "      <td>311.6</td>\n",
       "      <td>1602.0</td>\n",
       "      <td>32768.0</td>\n",
       "      <td>4</td>\n",
       "    </tr>\n",
       "    <tr>\n",
       "      <th>3</th>\n",
       "      <td>384015</td>\n",
       "      <td>1024.1</td>\n",
       "      <td>282.1</td>\n",
       "      <td>1935.0</td>\n",
       "      <td>987.1</td>\n",
       "      <td>310.0</td>\n",
       "      <td>1612.0</td>\n",
       "      <td>32768.0</td>\n",
       "      <td>6</td>\n",
       "    </tr>\n",
       "    <tr>\n",
       "      <th>4</th>\n",
       "      <td>384017</td>\n",
       "      <td>1024.6</td>\n",
       "      <td>282.2</td>\n",
       "      <td>1938.0</td>\n",
       "      <td>988.7</td>\n",
       "      <td>310.6</td>\n",
       "      <td>1611.0</td>\n",
       "      <td>32768.0</td>\n",
       "      <td>8</td>\n",
       "    </tr>\n",
       "    <tr>\n",
       "      <th>5</th>\n",
       "      <td>384019</td>\n",
       "      <td>1025.5</td>\n",
       "      <td>281.8</td>\n",
       "      <td>1934.0</td>\n",
       "      <td>987.4</td>\n",
       "      <td>309.6</td>\n",
       "      <td>1607.0</td>\n",
       "      <td>32768.0</td>\n",
       "      <td>10</td>\n",
       "    </tr>\n",
       "    <tr>\n",
       "      <th>...</th>\n",
       "      <td>...</td>\n",
       "      <td>...</td>\n",
       "      <td>...</td>\n",
       "      <td>...</td>\n",
       "      <td>...</td>\n",
       "      <td>...</td>\n",
       "      <td>...</td>\n",
       "      <td>...</td>\n",
       "      <td>...</td>\n",
       "    </tr>\n",
       "    <tr>\n",
       "      <th>9996</th>\n",
       "      <td>432119</td>\n",
       "      <td>579.5</td>\n",
       "      <td>405.7</td>\n",
       "      <td>689.0</td>\n",
       "      <td>426.4</td>\n",
       "      <td>393.8</td>\n",
       "      <td>586.0</td>\n",
       "      <td>32768.0</td>\n",
       "      <td>48110</td>\n",
       "    </tr>\n",
       "    <tr>\n",
       "      <th>9997</th>\n",
       "      <td>432121</td>\n",
       "      <td>579.5</td>\n",
       "      <td>404.7</td>\n",
       "      <td>688.0</td>\n",
       "      <td>427.7</td>\n",
       "      <td>393.0</td>\n",
       "      <td>585.0</td>\n",
       "      <td>32768.0</td>\n",
       "      <td>48112</td>\n",
       "    </tr>\n",
       "    <tr>\n",
       "      <th>9998</th>\n",
       "      <td>432123</td>\n",
       "      <td>578.9</td>\n",
       "      <td>402.8</td>\n",
       "      <td>687.0</td>\n",
       "      <td>427.4</td>\n",
       "      <td>392.0</td>\n",
       "      <td>583.0</td>\n",
       "      <td>32768.0</td>\n",
       "      <td>48114</td>\n",
       "    </tr>\n",
       "    <tr>\n",
       "      <th>9999</th>\n",
       "      <td>432125</td>\n",
       "      <td>578.3</td>\n",
       "      <td>402.5</td>\n",
       "      <td>688.0</td>\n",
       "      <td>426.0</td>\n",
       "      <td>392.1</td>\n",
       "      <td>584.0</td>\n",
       "      <td>32768.0</td>\n",
       "      <td>48116</td>\n",
       "    </tr>\n",
       "    <tr>\n",
       "      <th>10000</th>\n",
       "      <td>432127</td>\n",
       "      <td>579.3</td>\n",
       "      <td>403.5</td>\n",
       "      <td>690.0</td>\n",
       "      <td>425.1</td>\n",
       "      <td>392.9</td>\n",
       "      <td>587.0</td>\n",
       "      <td>32768.0</td>\n",
       "      <td>48118</td>\n",
       "    </tr>\n",
       "  </tbody>\n",
       "</table>\n",
       "<p>10000 rows × 9 columns</p>\n",
       "</div>"
      ]
     },
     "execution_count": 59,
     "metadata": {},
     "output_type": "execute_result"
    }
   ],
   "execution_count": 59
  },
  {
   "metadata": {
    "ExecuteTime": {
     "end_time": "2024-05-18T22:47:56.519688Z",
     "start_time": "2024-05-18T22:47:56.456606Z"
    }
   },
   "cell_type": "code",
   "source": [
    "df_eye['X_R'].replace('.', np.nan, inplace=True)\n",
    "df_eye['Y_R'].replace('.', np.nan, inplace=True)"
   ],
   "id": "3c39c860a21a7066",
   "outputs": [
    {
     "name": "stderr",
     "output_type": "stream",
     "text": [
      "C:\\Users\\Lights\\AppData\\Local\\Temp\\ipykernel_2320\\3878334895.py:1: FutureWarning: A value is trying to be set on a copy of a DataFrame or Series through chained assignment using an inplace method.\n",
      "The behavior will change in pandas 3.0. This inplace method will never work because the intermediate object on which we are setting values always behaves as a copy.\n",
      "\n",
      "For example, when doing 'df[col].method(value, inplace=True)', try using 'df.method({col: value}, inplace=True)' or df[col] = df[col].method(value) instead, to perform the operation inplace on the original object.\n",
      "\n",
      "\n",
      "  df_eye['X_R'].replace('.', np.nan, inplace=True)\n",
      "C:\\Users\\Lights\\AppData\\Local\\Temp\\ipykernel_2320\\3878334895.py:2: FutureWarning: A value is trying to be set on a copy of a DataFrame or Series through chained assignment using an inplace method.\n",
      "The behavior will change in pandas 3.0. This inplace method will never work because the intermediate object on which we are setting values always behaves as a copy.\n",
      "\n",
      "For example, when doing 'df[col].method(value, inplace=True)', try using 'df.method({col: value}, inplace=True)' or df[col] = df[col].method(value) instead, to perform the operation inplace on the original object.\n",
      "\n",
      "\n",
      "  df_eye['Y_R'].replace('.', np.nan, inplace=True)\n"
     ]
    }
   ],
   "execution_count": 71
  },
  {
   "metadata": {
    "ExecuteTime": {
     "end_time": "2024-05-18T22:47:57.943252Z",
     "start_time": "2024-05-18T22:47:57.810265Z"
    }
   },
   "cell_type": "code",
   "source": [
    "df_eye['X_R'] = df_eye['X_R'].astype(float).values\n",
    "df_eye['Y_R'] = df_eye['Y_R'].astype(float).values"
   ],
   "id": "8d92c16a6a2d2183",
   "outputs": [],
   "execution_count": 72
  },
  {
   "cell_type": "code",
   "id": "25413923-f261-4a3c-9f94-7c25ce59ac7f",
   "metadata": {
    "tags": [],
    "ExecuteTime": {
     "end_time": "2024-05-18T22:47:59.797712Z",
     "start_time": "2024-05-18T22:47:59.782502Z"
    }
   },
   "source": [
    "def clickOccuredinWindow(WindowMin, WindowMax):\n",
    "    df_labels_tmp = df[(df.CurrentTimstamp > WindowMin) & (df.CurrentTimstamp < WindowMax)]\n",
    "    # If atleast one click occured in that time the resulting df has more than 0 entries. the label is then 1\n",
    "    if len(df_labels_tmp) > 0:\n",
    "        return 1\n",
    "    return 0"
   ],
   "outputs": [],
   "execution_count": 73
  },
  {
   "cell_type": "code",
   "id": "7639ad21-c1c3-430a-b3fe-9d13d765aa89",
   "metadata": {
    "tags": [],
    "ExecuteTime": {
     "end_time": "2024-05-18T22:48:00.408313Z",
     "start_time": "2024-05-18T22:48:00.380748Z"
    }
   },
   "source": [
    "window_size = 1000\n",
    "stride = window_size\n",
    "x_train = []\n",
    "y_train = []\n",
    "# for i in range(0,len(df_eye), stride):\n",
    "for i in range(0,10000, stride):\n",
    "    df_window = df_eye.iloc[i:i+window_size]\n",
    "    \n",
    "    x_train.append(df_window[[\"X_R\",\"Y_R\"]].values)\n",
    "    y_train.append(clickOccuredinWindow(df_window.Timestamp.min(), df_window.Timestamp.max()))\n",
    "x_train = np.array(x_train)\n",
    "y_train = np.array(y_train)\n",
    "print(x_train.shape)\n",
    "# Reshape Dense to (SampleAmount, Data) as Dense layers only take 1D input\n",
    "x_train = x_train.reshape(x_train.shape[0], x_train.shape[1]*x_train.shape[2])\n",
    "print(x_train.shape)\n",
    "y_train.shape"
   ],
   "outputs": [
    {
     "name": "stdout",
     "output_type": "stream",
     "text": [
      "(10, 1000, 2)\n",
      "(10, 2000)\n"
     ]
    },
    {
     "data": {
      "text/plain": [
       "(10,)"
      ]
     },
     "execution_count": 74,
     "metadata": {},
     "output_type": "execute_result"
    }
   ],
   "execution_count": 74
  },
  {
   "cell_type": "markdown",
   "id": "e186c050-3585-452d-b494-af5972426840",
   "metadata": {},
   "source": [
    "# TODO:\n",
    "- extract x,y coords and width, heigth, and customuuid of all elements in the CurrentHTML\n",
    "- create trainings data and labels with windows. Use a stride = window_size to reduce dataamount\n",
    "- extract the clickable HTML elements -> these are the potential clicks \n",
    "- extract the actually clicked HTML elements (with the UUID in \"CurrentTarget\")\n",
    "- filter data (maybe there are 3 clicks very close to each other because of the slow internet) \n",
    "- HTML Y coordinates have to be moved down by 71px, so 0,0 of eye and mouse matches (So the current (0,0) is (71,0))\n",
    "- Timestamps between eye and mouse data have to be synced.\n",
    "- One hot encoding, either a click or no click"
   ]
  },
  {
   "cell_type": "markdown",
   "id": "dc443e65-052a-4e59-b4e9-aaae3e321ad2",
   "metadata": {
    "tags": []
   },
   "source": [
    "# Goal: Train a first basic fully connected neural network which detects if did a click happen during the time window based on eye tracking data"
   ]
  },
  {
   "metadata": {
    "ExecuteTime": {
     "end_time": "2024-05-18T22:48:05.439087Z",
     "start_time": "2024-05-18T22:48:05.426577Z"
    }
   },
   "cell_type": "code",
   "source": "print(x_train)",
   "id": "ca98e2c7d97d9bea",
   "outputs": [
    {
     "name": "stdout",
     "output_type": "stream",
     "text": [
      "[[ 987.   312.5  988.2 ...  463.6  877.8  462.7]\n",
      " [ 875.6  462.2  876.5 ...  547.5  889.9  558.4]\n",
      " [ 856.3  568.6  822.8 ...  342.3 1059.4  343.3]\n",
      " ...\n",
      " [ 314.9  570.4  315.4 ...  569.4  970.6  568.9]\n",
      " [ 971.3  570.7  973.7 ...  189.5 1589.5  190.5]\n",
      " [1590.2  191.7 1590.4 ...  392.   426.   392.1]]\n"
     ]
    }
   ],
   "execution_count": 75
  },
  {
   "cell_type": "code",
   "id": "ec19cee7-0d35-4420-89e1-6bb8c06352f4",
   "metadata": {
    "tags": [],
    "ExecuteTime": {
     "end_time": "2024-05-18T22:48:07.557780Z",
     "start_time": "2024-05-18T22:48:07.513426Z"
    }
   },
   "source": [
    "import tensorflow as tf\n",
    "from tensorflow.keras.models import Sequential\n",
    "from tensorflow.keras.layers import Dense\n",
    "\n",
    "# Create a sequential model\n",
    "model = Sequential()\n",
    "\n",
    "\n",
    "model.add(Dense(units=64, activation='relu', input_shape=(window_size*2,)))  # Replace input_dim with the appropriate input shape\n",
    "model.add(Dense(units=32, activation='relu'))\n",
    "\n",
    "model.add(Dense(units=1, activation='sigmoid'))\n",
    "\n",
    "model.summary()"
   ],
   "outputs": [
    {
     "name": "stderr",
     "output_type": "stream",
     "text": [
      "C:\\Users\\Lights\\PycharmProjects\\practical-machine-learning\\venv\\lib\\site-packages\\keras\\src\\layers\\core\\dense.py:87: UserWarning: Do not pass an `input_shape`/`input_dim` argument to a layer. When using Sequential models, prefer using an `Input(shape)` object as the first layer in the model instead.\n",
      "  super().__init__(activity_regularizer=activity_regularizer, **kwargs)\n"
     ]
    },
    {
     "data": {
      "text/plain": [
       "\u001B[1mModel: \"sequential_2\"\u001B[0m\n"
      ],
      "text/html": [
       "<pre style=\"white-space:pre;overflow-x:auto;line-height:normal;font-family:Menlo,'DejaVu Sans Mono',consolas,'Courier New',monospace\"><span style=\"font-weight: bold\">Model: \"sequential_2\"</span>\n",
       "</pre>\n"
      ]
     },
     "metadata": {},
     "output_type": "display_data"
    },
    {
     "data": {
      "text/plain": [
       "┏━━━━━━━━━━━━━━━━━━━━━━━━━━━━━━━━━┳━━━━━━━━━━━━━━━━━━━━━━━━┳━━━━━━━━━━━━━━━┓\n",
       "┃\u001B[1m \u001B[0m\u001B[1mLayer (type)                   \u001B[0m\u001B[1m \u001B[0m┃\u001B[1m \u001B[0m\u001B[1mOutput Shape          \u001B[0m\u001B[1m \u001B[0m┃\u001B[1m \u001B[0m\u001B[1m      Param #\u001B[0m\u001B[1m \u001B[0m┃\n",
       "┡━━━━━━━━━━━━━━━━━━━━━━━━━━━━━━━━━╇━━━━━━━━━━━━━━━━━━━━━━━━╇━━━━━━━━━━━━━━━┩\n",
       "│ dense_6 (\u001B[38;5;33mDense\u001B[0m)                 │ (\u001B[38;5;45mNone\u001B[0m, \u001B[38;5;34m64\u001B[0m)             │       \u001B[38;5;34m128,064\u001B[0m │\n",
       "├─────────────────────────────────┼────────────────────────┼───────────────┤\n",
       "│ dense_7 (\u001B[38;5;33mDense\u001B[0m)                 │ (\u001B[38;5;45mNone\u001B[0m, \u001B[38;5;34m32\u001B[0m)             │         \u001B[38;5;34m2,080\u001B[0m │\n",
       "├─────────────────────────────────┼────────────────────────┼───────────────┤\n",
       "│ dense_8 (\u001B[38;5;33mDense\u001B[0m)                 │ (\u001B[38;5;45mNone\u001B[0m, \u001B[38;5;34m1\u001B[0m)              │            \u001B[38;5;34m33\u001B[0m │\n",
       "└─────────────────────────────────┴────────────────────────┴───────────────┘\n"
      ],
      "text/html": [
       "<pre style=\"white-space:pre;overflow-x:auto;line-height:normal;font-family:Menlo,'DejaVu Sans Mono',consolas,'Courier New',monospace\">┏━━━━━━━━━━━━━━━━━━━━━━━━━━━━━━━━━┳━━━━━━━━━━━━━━━━━━━━━━━━┳━━━━━━━━━━━━━━━┓\n",
       "┃<span style=\"font-weight: bold\"> Layer (type)                    </span>┃<span style=\"font-weight: bold\"> Output Shape           </span>┃<span style=\"font-weight: bold\">       Param # </span>┃\n",
       "┡━━━━━━━━━━━━━━━━━━━━━━━━━━━━━━━━━╇━━━━━━━━━━━━━━━━━━━━━━━━╇━━━━━━━━━━━━━━━┩\n",
       "│ dense_6 (<span style=\"color: #0087ff; text-decoration-color: #0087ff\">Dense</span>)                 │ (<span style=\"color: #00d7ff; text-decoration-color: #00d7ff\">None</span>, <span style=\"color: #00af00; text-decoration-color: #00af00\">64</span>)             │       <span style=\"color: #00af00; text-decoration-color: #00af00\">128,064</span> │\n",
       "├─────────────────────────────────┼────────────────────────┼───────────────┤\n",
       "│ dense_7 (<span style=\"color: #0087ff; text-decoration-color: #0087ff\">Dense</span>)                 │ (<span style=\"color: #00d7ff; text-decoration-color: #00d7ff\">None</span>, <span style=\"color: #00af00; text-decoration-color: #00af00\">32</span>)             │         <span style=\"color: #00af00; text-decoration-color: #00af00\">2,080</span> │\n",
       "├─────────────────────────────────┼────────────────────────┼───────────────┤\n",
       "│ dense_8 (<span style=\"color: #0087ff; text-decoration-color: #0087ff\">Dense</span>)                 │ (<span style=\"color: #00d7ff; text-decoration-color: #00d7ff\">None</span>, <span style=\"color: #00af00; text-decoration-color: #00af00\">1</span>)              │            <span style=\"color: #00af00; text-decoration-color: #00af00\">33</span> │\n",
       "└─────────────────────────────────┴────────────────────────┴───────────────┘\n",
       "</pre>\n"
      ]
     },
     "metadata": {},
     "output_type": "display_data"
    },
    {
     "data": {
      "text/plain": [
       "\u001B[1m Total params: \u001B[0m\u001B[38;5;34m130,177\u001B[0m (508.50 KB)\n"
      ],
      "text/html": [
       "<pre style=\"white-space:pre;overflow-x:auto;line-height:normal;font-family:Menlo,'DejaVu Sans Mono',consolas,'Courier New',monospace\"><span style=\"font-weight: bold\"> Total params: </span><span style=\"color: #00af00; text-decoration-color: #00af00\">130,177</span> (508.50 KB)\n",
       "</pre>\n"
      ]
     },
     "metadata": {},
     "output_type": "display_data"
    },
    {
     "data": {
      "text/plain": [
       "\u001B[1m Trainable params: \u001B[0m\u001B[38;5;34m130,177\u001B[0m (508.50 KB)\n"
      ],
      "text/html": [
       "<pre style=\"white-space:pre;overflow-x:auto;line-height:normal;font-family:Menlo,'DejaVu Sans Mono',consolas,'Courier New',monospace\"><span style=\"font-weight: bold\"> Trainable params: </span><span style=\"color: #00af00; text-decoration-color: #00af00\">130,177</span> (508.50 KB)\n",
       "</pre>\n"
      ]
     },
     "metadata": {},
     "output_type": "display_data"
    },
    {
     "data": {
      "text/plain": [
       "\u001B[1m Non-trainable params: \u001B[0m\u001B[38;5;34m0\u001B[0m (0.00 B)\n"
      ],
      "text/html": [
       "<pre style=\"white-space:pre;overflow-x:auto;line-height:normal;font-family:Menlo,'DejaVu Sans Mono',consolas,'Courier New',monospace\"><span style=\"font-weight: bold\"> Non-trainable params: </span><span style=\"color: #00af00; text-decoration-color: #00af00\">0</span> (0.00 B)\n",
       "</pre>\n"
      ]
     },
     "metadata": {},
     "output_type": "display_data"
    }
   ],
   "execution_count": 76
  },
  {
   "cell_type": "markdown",
   "id": "780e58fb-80ba-4d51-b8d3-d07e6b51b135",
   "metadata": {},
   "source": [
    "If you want to train LSTMs you probably need to use a datagenerator to generate the windows you use for training before each batch. "
   ]
  },
  {
   "cell_type": "code",
   "id": "d7d3f844-7f01-4a97-a680-9632705f357b",
   "metadata": {
    "ExecuteTime": {
     "end_time": "2024-05-18T22:51:16.388118Z",
     "start_time": "2024-05-18T22:51:14.586384Z"
    }
   },
   "source": [
    "model.compile(optimizer='adam', loss='binary_crossentropy', metrics=['accuracy'])\n",
    "# Train the model\n",
    "history = model.fit(x_train, y_train, epochs=10\n",
    "          , batch_size=32, validation_split=0.2)"
   ],
   "outputs": [
    {
     "name": "stdout",
     "output_type": "stream",
     "text": [
      "Epoch 1/10\n",
      "\u001B[1m1/1\u001B[0m \u001B[32m━━━━━━━━━━━━━━━━━━━━\u001B[0m\u001B[37m\u001B[0m \u001B[1m1s\u001B[0m 1s/step - accuracy: 0.8750 - loss: 0.6868 - val_accuracy: 1.0000 - val_loss: 0.6842\n",
      "Epoch 2/10\n",
      "\u001B[1m1/1\u001B[0m \u001B[32m━━━━━━━━━━━━━━━━━━━━\u001B[0m\u001B[37m\u001B[0m \u001B[1m0s\u001B[0m 50ms/step - accuracy: 0.8750 - loss: 0.6864 - val_accuracy: 1.0000 - val_loss: 0.6837\n",
      "Epoch 3/10\n",
      "\u001B[1m1/1\u001B[0m \u001B[32m━━━━━━━━━━━━━━━━━━━━\u001B[0m\u001B[37m\u001B[0m \u001B[1m0s\u001B[0m 51ms/step - accuracy: 0.8750 - loss: 0.6861 - val_accuracy: 1.0000 - val_loss: 0.6832\n",
      "Epoch 4/10\n",
      "\u001B[1m1/1\u001B[0m \u001B[32m━━━━━━━━━━━━━━━━━━━━\u001B[0m\u001B[37m\u001B[0m \u001B[1m0s\u001B[0m 51ms/step - accuracy: 0.8750 - loss: 0.6857 - val_accuracy: 1.0000 - val_loss: 0.6827\n",
      "Epoch 5/10\n",
      "\u001B[1m1/1\u001B[0m \u001B[32m━━━━━━━━━━━━━━━━━━━━\u001B[0m\u001B[37m\u001B[0m \u001B[1m0s\u001B[0m 49ms/step - accuracy: 0.8750 - loss: 0.6853 - val_accuracy: 1.0000 - val_loss: 0.6822\n",
      "Epoch 6/10\n",
      "\u001B[1m1/1\u001B[0m \u001B[32m━━━━━━━━━━━━━━━━━━━━\u001B[0m\u001B[37m\u001B[0m \u001B[1m0s\u001B[0m 49ms/step - accuracy: 0.8750 - loss: 0.6850 - val_accuracy: 1.0000 - val_loss: 0.6817\n",
      "Epoch 7/10\n",
      "\u001B[1m1/1\u001B[0m \u001B[32m━━━━━━━━━━━━━━━━━━━━\u001B[0m\u001B[37m\u001B[0m \u001B[1m0s\u001B[0m 50ms/step - accuracy: 0.8750 - loss: 0.6846 - val_accuracy: 1.0000 - val_loss: 0.6812\n",
      "Epoch 8/10\n",
      "\u001B[1m1/1\u001B[0m \u001B[32m━━━━━━━━━━━━━━━━━━━━\u001B[0m\u001B[37m\u001B[0m \u001B[1m0s\u001B[0m 51ms/step - accuracy: 0.8750 - loss: 0.6842 - val_accuracy: 1.0000 - val_loss: 0.6807\n",
      "Epoch 9/10\n",
      "\u001B[1m1/1\u001B[0m \u001B[32m━━━━━━━━━━━━━━━━━━━━\u001B[0m\u001B[37m\u001B[0m \u001B[1m0s\u001B[0m 49ms/step - accuracy: 0.8750 - loss: 0.6839 - val_accuracy: 1.0000 - val_loss: 0.6802\n",
      "Epoch 10/10\n",
      "\u001B[1m1/1\u001B[0m \u001B[32m━━━━━━━━━━━━━━━━━━━━\u001B[0m\u001B[37m\u001B[0m \u001B[1m0s\u001B[0m 49ms/step - accuracy: 0.8750 - loss: 0.6835 - val_accuracy: 1.0000 - val_loss: 0.6798\n"
     ]
    }
   ],
   "execution_count": 83
  },
  {
   "cell_type": "code",
   "id": "6e5d83a6-abf1-4d53-929a-fa67033bbfaa",
   "metadata": {
    "ExecuteTime": {
     "end_time": "2024-05-18T22:51:17.365955Z",
     "start_time": "2024-05-18T22:51:17.355362Z"
    }
   },
   "source": "print(history.history['loss'])",
   "outputs": [
    {
     "name": "stdout",
     "output_type": "stream",
     "text": [
      "[0.6868168115615845, 0.6864461898803711, 0.6860759258270264, 0.6857057809829712, 0.6853358745574951, 0.6849663257598877, 0.6845970749855042, 0.6842280626296997, 0.6838592290878296, 0.6834907531738281]\n"
     ]
    }
   ],
   "execution_count": 84
  },
  {
   "metadata": {},
   "cell_type": "code",
   "outputs": [],
   "execution_count": null,
   "source": "",
   "id": "a64d174e4ea13f6"
  }
 ],
 "metadata": {
  "kernelspec": {
   "display_name": "Python 3 (ipykernel)",
   "language": "python",
   "name": "python3"
  },
  "language_info": {
   "codemirror_mode": {
    "name": "ipython",
    "version": 3
   },
   "file_extension": ".py",
   "mimetype": "text/x-python",
   "name": "python",
   "nbconvert_exporter": "python",
   "pygments_lexer": "ipython3",
   "version": "3.11.1"
  }
 },
 "nbformat": 4,
 "nbformat_minor": 5
}
