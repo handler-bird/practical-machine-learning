{
 "cells": [
  {
   "cell_type": "code",
   "execution_count": 29,
   "metadata": {
    "ExecuteTime": {
     "end_time": "2024-06-02T15:15:24.268825Z",
     "start_time": "2024-06-02T15:15:23.356043Z"
    }
   },
   "outputs": [],
   "source": [
    "import pandas as pd\n",
    "import numpy as np\n",
    "import tensorflow as tf\n",
    "from tensorflow.keras.models import Sequential\n",
    "from tensorflow.keras.layers import LSTM, Dense\n",
    "from sklearn.model_selection import LeaveOneGroupOut\n",
    "from tensorflow.keras.optimizers import Adam\n",
    "\n",
    "import os\n",
    "\n",
    "os.environ[\"CUDA_VISIBLE_DEVICES\"]=\"0\"\n",
    "\n",
    "physical_devices = tf.config.experimental.list_physical_devices('GPU')\n",
    "if physical_devices:\n",
    "    tf.config.set_visible_devices(physical_devices[0], 'GPU')\n",
    "    tf.config.experimental.set_memory_growth(physical_devices[0], True)"
   ]
  },
  {
   "cell_type": "code",
   "execution_count": 30,
   "metadata": {
    "ExecuteTime": {
     "end_time": "2024-06-02T15:15:31.431813Z",
     "start_time": "2024-06-02T15:15:25.489324Z"
    }
   },
   "outputs": [
    {
     "data": {
      "text/plain": "    UnixTimeStamp      X      Y  PupilSize       Item  CurrentClickX  \\\n0    1.714461e+12  692.5  662.5     1428.0  Sunscreen            NaN   \n1    1.714461e+12  690.0  662.5     1428.0  Sunscreen            NaN   \n2    1.714461e+12  689.0  667.0     1426.0  Sunscreen            NaN   \n3    1.714461e+12  690.5  666.0     1425.0  Sunscreen            NaN   \n4    1.714461e+12  690.5  666.0     1425.0  Sunscreen            NaN   \n5    1.714461e+12  690.0  666.0     1426.0  Sunscreen            NaN   \n6    1.714461e+12  688.5  666.5     1422.0  Sunscreen            NaN   \n7    1.714461e+12  688.0  666.5     1421.0  Sunscreen            NaN   \n8    1.714461e+12  688.0  666.5     1421.0  Sunscreen            NaN   \n9    1.714461e+12  688.0  667.0     1421.0  Sunscreen            NaN   \n10   1.714461e+12  688.5  666.0     1425.0  Sunscreen            NaN   \n11   1.714461e+12  688.0  665.5     1428.0  Sunscreen            NaN   \n12   1.714461e+12  688.5  665.5     1427.0  Sunscreen            NaN   \n13   1.714461e+12  690.5  665.0     1427.0  Sunscreen            NaN   \n14   1.714461e+12  689.5  663.5     1429.0  Sunscreen            NaN   \n15   1.714461e+12  692.0  663.0     1427.0  Sunscreen            NaN   \n16   1.714461e+12  691.5  663.5     1426.0  Sunscreen            NaN   \n17   1.714461e+12  691.0  663.5     1428.0  Sunscreen            NaN   \n18   1.714461e+12  692.0  663.5     1431.0  Sunscreen            NaN   \n19   1.714461e+12  692.0  663.5     1432.0  Sunscreen            NaN   \n\n    CurrentClickY CurrentURL  pid  \n0             NaN        NaN   21  \n1             NaN        NaN   21  \n2             NaN        NaN   21  \n3             NaN        NaN   21  \n4             NaN        NaN   21  \n5             NaN        NaN   21  \n6             NaN        NaN   21  \n7             NaN        NaN   21  \n8             NaN        NaN   21  \n9             NaN        NaN   21  \n10            NaN        NaN   21  \n11            NaN        NaN   21  \n12            NaN        NaN   21  \n13            NaN        NaN   21  \n14            NaN        NaN   21  \n15            NaN        NaN   21  \n16            NaN        NaN   21  \n17            NaN        NaN   21  \n18            NaN        NaN   21  \n19            NaN        NaN   21  ",
      "text/html": "<div>\n<style scoped>\n    .dataframe tbody tr th:only-of-type {\n        vertical-align: middle;\n    }\n\n    .dataframe tbody tr th {\n        vertical-align: top;\n    }\n\n    .dataframe thead th {\n        text-align: right;\n    }\n</style>\n<table border=\"1\" class=\"dataframe\">\n  <thead>\n    <tr style=\"text-align: right;\">\n      <th></th>\n      <th>UnixTimeStamp</th>\n      <th>X</th>\n      <th>Y</th>\n      <th>PupilSize</th>\n      <th>Item</th>\n      <th>CurrentClickX</th>\n      <th>CurrentClickY</th>\n      <th>CurrentURL</th>\n      <th>pid</th>\n    </tr>\n  </thead>\n  <tbody>\n    <tr>\n      <th>0</th>\n      <td>1.714461e+12</td>\n      <td>692.5</td>\n      <td>662.5</td>\n      <td>1428.0</td>\n      <td>Sunscreen</td>\n      <td>NaN</td>\n      <td>NaN</td>\n      <td>NaN</td>\n      <td>21</td>\n    </tr>\n    <tr>\n      <th>1</th>\n      <td>1.714461e+12</td>\n      <td>690.0</td>\n      <td>662.5</td>\n      <td>1428.0</td>\n      <td>Sunscreen</td>\n      <td>NaN</td>\n      <td>NaN</td>\n      <td>NaN</td>\n      <td>21</td>\n    </tr>\n    <tr>\n      <th>2</th>\n      <td>1.714461e+12</td>\n      <td>689.0</td>\n      <td>667.0</td>\n      <td>1426.0</td>\n      <td>Sunscreen</td>\n      <td>NaN</td>\n      <td>NaN</td>\n      <td>NaN</td>\n      <td>21</td>\n    </tr>\n    <tr>\n      <th>3</th>\n      <td>1.714461e+12</td>\n      <td>690.5</td>\n      <td>666.0</td>\n      <td>1425.0</td>\n      <td>Sunscreen</td>\n      <td>NaN</td>\n      <td>NaN</td>\n      <td>NaN</td>\n      <td>21</td>\n    </tr>\n    <tr>\n      <th>4</th>\n      <td>1.714461e+12</td>\n      <td>690.5</td>\n      <td>666.0</td>\n      <td>1425.0</td>\n      <td>Sunscreen</td>\n      <td>NaN</td>\n      <td>NaN</td>\n      <td>NaN</td>\n      <td>21</td>\n    </tr>\n    <tr>\n      <th>5</th>\n      <td>1.714461e+12</td>\n      <td>690.0</td>\n      <td>666.0</td>\n      <td>1426.0</td>\n      <td>Sunscreen</td>\n      <td>NaN</td>\n      <td>NaN</td>\n      <td>NaN</td>\n      <td>21</td>\n    </tr>\n    <tr>\n      <th>6</th>\n      <td>1.714461e+12</td>\n      <td>688.5</td>\n      <td>666.5</td>\n      <td>1422.0</td>\n      <td>Sunscreen</td>\n      <td>NaN</td>\n      <td>NaN</td>\n      <td>NaN</td>\n      <td>21</td>\n    </tr>\n    <tr>\n      <th>7</th>\n      <td>1.714461e+12</td>\n      <td>688.0</td>\n      <td>666.5</td>\n      <td>1421.0</td>\n      <td>Sunscreen</td>\n      <td>NaN</td>\n      <td>NaN</td>\n      <td>NaN</td>\n      <td>21</td>\n    </tr>\n    <tr>\n      <th>8</th>\n      <td>1.714461e+12</td>\n      <td>688.0</td>\n      <td>666.5</td>\n      <td>1421.0</td>\n      <td>Sunscreen</td>\n      <td>NaN</td>\n      <td>NaN</td>\n      <td>NaN</td>\n      <td>21</td>\n    </tr>\n    <tr>\n      <th>9</th>\n      <td>1.714461e+12</td>\n      <td>688.0</td>\n      <td>667.0</td>\n      <td>1421.0</td>\n      <td>Sunscreen</td>\n      <td>NaN</td>\n      <td>NaN</td>\n      <td>NaN</td>\n      <td>21</td>\n    </tr>\n    <tr>\n      <th>10</th>\n      <td>1.714461e+12</td>\n      <td>688.5</td>\n      <td>666.0</td>\n      <td>1425.0</td>\n      <td>Sunscreen</td>\n      <td>NaN</td>\n      <td>NaN</td>\n      <td>NaN</td>\n      <td>21</td>\n    </tr>\n    <tr>\n      <th>11</th>\n      <td>1.714461e+12</td>\n      <td>688.0</td>\n      <td>665.5</td>\n      <td>1428.0</td>\n      <td>Sunscreen</td>\n      <td>NaN</td>\n      <td>NaN</td>\n      <td>NaN</td>\n      <td>21</td>\n    </tr>\n    <tr>\n      <th>12</th>\n      <td>1.714461e+12</td>\n      <td>688.5</td>\n      <td>665.5</td>\n      <td>1427.0</td>\n      <td>Sunscreen</td>\n      <td>NaN</td>\n      <td>NaN</td>\n      <td>NaN</td>\n      <td>21</td>\n    </tr>\n    <tr>\n      <th>13</th>\n      <td>1.714461e+12</td>\n      <td>690.5</td>\n      <td>665.0</td>\n      <td>1427.0</td>\n      <td>Sunscreen</td>\n      <td>NaN</td>\n      <td>NaN</td>\n      <td>NaN</td>\n      <td>21</td>\n    </tr>\n    <tr>\n      <th>14</th>\n      <td>1.714461e+12</td>\n      <td>689.5</td>\n      <td>663.5</td>\n      <td>1429.0</td>\n      <td>Sunscreen</td>\n      <td>NaN</td>\n      <td>NaN</td>\n      <td>NaN</td>\n      <td>21</td>\n    </tr>\n    <tr>\n      <th>15</th>\n      <td>1.714461e+12</td>\n      <td>692.0</td>\n      <td>663.0</td>\n      <td>1427.0</td>\n      <td>Sunscreen</td>\n      <td>NaN</td>\n      <td>NaN</td>\n      <td>NaN</td>\n      <td>21</td>\n    </tr>\n    <tr>\n      <th>16</th>\n      <td>1.714461e+12</td>\n      <td>691.5</td>\n      <td>663.5</td>\n      <td>1426.0</td>\n      <td>Sunscreen</td>\n      <td>NaN</td>\n      <td>NaN</td>\n      <td>NaN</td>\n      <td>21</td>\n    </tr>\n    <tr>\n      <th>17</th>\n      <td>1.714461e+12</td>\n      <td>691.0</td>\n      <td>663.5</td>\n      <td>1428.0</td>\n      <td>Sunscreen</td>\n      <td>NaN</td>\n      <td>NaN</td>\n      <td>NaN</td>\n      <td>21</td>\n    </tr>\n    <tr>\n      <th>18</th>\n      <td>1.714461e+12</td>\n      <td>692.0</td>\n      <td>663.5</td>\n      <td>1431.0</td>\n      <td>Sunscreen</td>\n      <td>NaN</td>\n      <td>NaN</td>\n      <td>NaN</td>\n      <td>21</td>\n    </tr>\n    <tr>\n      <th>19</th>\n      <td>1.714461e+12</td>\n      <td>692.0</td>\n      <td>663.5</td>\n      <td>1432.0</td>\n      <td>Sunscreen</td>\n      <td>NaN</td>\n      <td>NaN</td>\n      <td>NaN</td>\n      <td>21</td>\n    </tr>\n  </tbody>\n</table>\n</div>"
     },
     "execution_count": 30,
     "metadata": {},
     "output_type": "execute_result"
    }
   ],
   "source": [
    "df = pd.read_pickle(os.getcwd() + '/merged_data.pkl')\n",
    "df.head(20)"
   ]
  },
  {
   "cell_type": "code",
   "outputs": [
    {
     "name": "stdout",
     "output_type": "stream",
     "text": [
      "37910626\n"
     ]
    }
   ],
   "source": [
    "print(len(df))"
   ],
   "metadata": {
    "collapsed": false,
    "ExecuteTime": {
     "end_time": "2024-06-02T15:15:33.027125Z",
     "start_time": "2024-06-02T15:15:33.022280Z"
    }
   },
   "execution_count": 31
  },
  {
   "cell_type": "code",
   "execution_count": 32,
   "metadata": {
    "ExecuteTime": {
     "end_time": "2024-06-02T15:15:35.917108Z",
     "start_time": "2024-06-02T15:15:35.910775Z"
    }
   },
   "outputs": [
    {
     "data": {
      "text/plain": "'\\nTODO: \\n- Create windows for your LSTM model\\n    - Use X, Y and PupilSize as input\\n    - Use CurrentClickX and CurrentClickY as labels (regression)\\n    - Select your own window size and stride\\n- Split the data participant wise (on pid) \\n    - https://sven-mayer.com/pml/files/12_Split.pdf\\n    - https://scikit-learn.org/stable/modules/generated/sklearn.model_selection.LeaveOneOut.html\\n    - https://scikit-learn.org/stable/modules/generated/sklearn.model_selection.LeaveOneGroupOut.html\\n    - Several options to split the data, Leave One Out, Leave One Group Out, all are valid options. You can pick :)\\n- Build a LSTM model\\n    - Use the Sequential API\\n    - Use LSTM layers\\n    - Make sure you have a 2-neuron regression as output!\\n        - https://pieriantraining.com/tensorflow-lstm-example-a-beginners-guide/\\n        - https://towardsdatascience.com/lstm-by-example-using-tensorflow-feb0c1968537\\n        \\n'"
     },
     "execution_count": 32,
     "metadata": {},
     "output_type": "execute_result"
    }
   ],
   "source": [
    "'''\n",
    "TODO: \n",
    "- Create windows for your LSTM model\n",
    "    - Use X, Y and PupilSize as input\n",
    "    - Use CurrentClickX and CurrentClickY as labels (regression)\n",
    "    - Select your own window size and stride\n",
    "- Split the data participant wise (on pid) \n",
    "    - https://sven-mayer.com/pml/files/12_Split.pdf\n",
    "    - https://scikit-learn.org/stable/modules/generated/sklearn.model_selection.LeaveOneOut.html\n",
    "    - https://scikit-learn.org/stable/modules/generated/sklearn.model_selection.LeaveOneGroupOut.html\n",
    "    - Several options to split the data, Leave One Out, Leave One Group Out, all are valid options. You can pick :)\n",
    "- Build a LSTM model\n",
    "    - Use the Sequential API\n",
    "    - Use LSTM layers\n",
    "    - Make sure you have a 2-neuron regression as output!\n",
    "        - https://pieriantraining.com/tensorflow-lstm-example-a-beginners-guide/\n",
    "        - https://towardsdatascience.com/lstm-by-example-using-tensorflow-feb0c1968537\n",
    "        \n",
    "'''"
   ]
  },
  {
   "cell_type": "code",
   "outputs": [
    {
     "data": {
      "text/plain": "   UnixTimeStamp      X      Y  PupilSize       Item  CurrentClickX  \\\n0   1.714461e+12  692.5  662.5     1428.0  Sunscreen            NaN   \n1   1.714461e+12  690.0  662.5     1428.0  Sunscreen            NaN   \n2   1.714461e+12  689.0  667.0     1426.0  Sunscreen            NaN   \n3   1.714461e+12  690.5  666.0     1425.0  Sunscreen            NaN   \n4   1.714461e+12  690.5  666.0     1425.0  Sunscreen            NaN   \n\n   CurrentClickY CurrentURL  pid  \n0            NaN        NaN   21  \n1            NaN        NaN   21  \n2            NaN        NaN   21  \n3            NaN        NaN   21  \n4            NaN        NaN   21  ",
      "text/html": "<div>\n<style scoped>\n    .dataframe tbody tr th:only-of-type {\n        vertical-align: middle;\n    }\n\n    .dataframe tbody tr th {\n        vertical-align: top;\n    }\n\n    .dataframe thead th {\n        text-align: right;\n    }\n</style>\n<table border=\"1\" class=\"dataframe\">\n  <thead>\n    <tr style=\"text-align: right;\">\n      <th></th>\n      <th>UnixTimeStamp</th>\n      <th>X</th>\n      <th>Y</th>\n      <th>PupilSize</th>\n      <th>Item</th>\n      <th>CurrentClickX</th>\n      <th>CurrentClickY</th>\n      <th>CurrentURL</th>\n      <th>pid</th>\n    </tr>\n  </thead>\n  <tbody>\n    <tr>\n      <th>0</th>\n      <td>1.714461e+12</td>\n      <td>692.5</td>\n      <td>662.5</td>\n      <td>1428.0</td>\n      <td>Sunscreen</td>\n      <td>NaN</td>\n      <td>NaN</td>\n      <td>NaN</td>\n      <td>21</td>\n    </tr>\n    <tr>\n      <th>1</th>\n      <td>1.714461e+12</td>\n      <td>690.0</td>\n      <td>662.5</td>\n      <td>1428.0</td>\n      <td>Sunscreen</td>\n      <td>NaN</td>\n      <td>NaN</td>\n      <td>NaN</td>\n      <td>21</td>\n    </tr>\n    <tr>\n      <th>2</th>\n      <td>1.714461e+12</td>\n      <td>689.0</td>\n      <td>667.0</td>\n      <td>1426.0</td>\n      <td>Sunscreen</td>\n      <td>NaN</td>\n      <td>NaN</td>\n      <td>NaN</td>\n      <td>21</td>\n    </tr>\n    <tr>\n      <th>3</th>\n      <td>1.714461e+12</td>\n      <td>690.5</td>\n      <td>666.0</td>\n      <td>1425.0</td>\n      <td>Sunscreen</td>\n      <td>NaN</td>\n      <td>NaN</td>\n      <td>NaN</td>\n      <td>21</td>\n    </tr>\n    <tr>\n      <th>4</th>\n      <td>1.714461e+12</td>\n      <td>690.5</td>\n      <td>666.0</td>\n      <td>1425.0</td>\n      <td>Sunscreen</td>\n      <td>NaN</td>\n      <td>NaN</td>\n      <td>NaN</td>\n      <td>21</td>\n    </tr>\n  </tbody>\n</table>\n</div>"
     },
     "execution_count": 38,
     "metadata": {},
     "output_type": "execute_result"
    }
   ],
   "source": [
    "unique_users = df['pid'].unique()\n",
    "test_users = np.random.choice(unique_users, size=10, replace=False)\n",
    "\n",
    "train_df = df[~df['pid'].isin(test_users)]\n",
    "test_df = df[df['pid'].isin(test_users)]\n",
    "\n",
    "train_df.head()"
   ],
   "metadata": {
    "collapsed": false,
    "ExecuteTime": {
     "end_time": "2024-06-02T15:29:16.656641Z",
     "start_time": "2024-06-02T15:29:11.080193Z"
    }
   },
   "execution_count": 38
  },
  {
   "cell_type": "code",
   "outputs": [],
   "source": [
    "def create_windows(df, columns_X, columns_y, window_size, stride):\n",
    "    windows = []\n",
    "    labels = []\n",
    "    \n",
    "    for i in range(len(df) - window_size + stride):\n",
    "        window = df.iloc[i:i + window_size][columns_X].copy()\n",
    "        windows.append(window)\n",
    "        \n",
    "        label = df.iloc[i:i + window_size][columns_y].copy()\n",
    "        labels.append(label)\n",
    "        \n",
    "    return windows, labels"
   ],
   "metadata": {
    "collapsed": false,
    "ExecuteTime": {
     "end_time": "2024-06-02T15:29:40.359274Z",
     "start_time": "2024-06-02T15:29:40.349844Z"
    }
   },
   "execution_count": 39
  },
  {
   "cell_type": "code",
   "outputs": [],
   "source": [
    "columns_X = ['X', 'Y', 'PupilSize']\n",
    "columns_y = ['CurrentClickX', 'CurrentClickY']\n",
    "window_size = 20\n",
    "stride = 5"
   ],
   "metadata": {
    "collapsed": false,
    "ExecuteTime": {
     "end_time": "2024-06-02T15:30:03.645062Z",
     "start_time": "2024-06-02T15:30:03.639645Z"
    }
   },
   "execution_count": 40
  },
  {
   "cell_type": "code",
   "outputs": [
    {
     "ename": "KeyboardInterrupt",
     "evalue": "",
     "output_type": "error",
     "traceback": [
      "\u001B[0;31m---------------------------------------------------------------------------\u001B[0m",
      "\u001B[0;31mKeyboardInterrupt\u001B[0m                         Traceback (most recent call last)",
      "Cell \u001B[0;32mIn[41], line 1\u001B[0m\n\u001B[0;32m----> 1\u001B[0m train_windows \u001B[38;5;241m=\u001B[39m \u001B[43mcreate_windows\u001B[49m\u001B[43m(\u001B[49m\u001B[43mtrain_df\u001B[49m\u001B[43m,\u001B[49m\u001B[43m \u001B[49m\u001B[43mcolumns\u001B[49m\u001B[43m,\u001B[49m\u001B[43m \u001B[49m\u001B[43mwindow_size\u001B[49m\u001B[43m,\u001B[49m\u001B[43m \u001B[49m\u001B[43mstride\u001B[49m\u001B[43m)\u001B[49m\n\u001B[1;32m      2\u001B[0m test_windows \u001B[38;5;241m=\u001B[39m create_windows(test_df, columns, window_size, stride)\n\u001B[1;32m      4\u001B[0m \u001B[38;5;28mprint\u001B[39m(train_windows[:\u001B[38;5;241m10\u001B[39m])\n",
      "Cell \u001B[0;32mIn[39], line 5\u001B[0m, in \u001B[0;36mcreate_windows\u001B[0;34m(df, columns, window_size, stride)\u001B[0m\n\u001B[1;32m      2\u001B[0m windows \u001B[38;5;241m=\u001B[39m []\n\u001B[1;32m      4\u001B[0m \u001B[38;5;28;01mfor\u001B[39;00m i \u001B[38;5;129;01min\u001B[39;00m \u001B[38;5;28mrange\u001B[39m(\u001B[38;5;28mlen\u001B[39m(df) \u001B[38;5;241m-\u001B[39m window_size \u001B[38;5;241m+\u001B[39m stride):\n\u001B[0;32m----> 5\u001B[0m     window \u001B[38;5;241m=\u001B[39m \u001B[43mdf\u001B[49m\u001B[38;5;241;43m.\u001B[39;49m\u001B[43miloc\u001B[49m\u001B[43m[\u001B[49m\u001B[43mi\u001B[49m\u001B[43m:\u001B[49m\u001B[43mi\u001B[49m\u001B[43m \u001B[49m\u001B[38;5;241;43m+\u001B[39;49m\u001B[43m \u001B[49m\u001B[43mwindow_size\u001B[49m\u001B[43m]\u001B[49m\u001B[43m[\u001B[49m\u001B[43mcolumns\u001B[49m\u001B[43m]\u001B[49m\u001B[38;5;241m.\u001B[39mcopy()\n\u001B[1;32m      6\u001B[0m     windows\u001B[38;5;241m.\u001B[39mappend(window)\n\u001B[1;32m      8\u001B[0m \u001B[38;5;28;01mreturn\u001B[39;00m windows\n",
      "File \u001B[0;32m~/PycharmProjects/practical-machine-learning/venv/lib/python3.12/site-packages/pandas/core/frame.py:4108\u001B[0m, in \u001B[0;36mDataFrame.__getitem__\u001B[0;34m(self, key)\u001B[0m\n\u001B[1;32m   4106\u001B[0m     \u001B[38;5;28;01mif\u001B[39;00m is_iterator(key):\n\u001B[1;32m   4107\u001B[0m         key \u001B[38;5;241m=\u001B[39m \u001B[38;5;28mlist\u001B[39m(key)\n\u001B[0;32m-> 4108\u001B[0m     indexer \u001B[38;5;241m=\u001B[39m \u001B[38;5;28;43mself\u001B[39;49m\u001B[38;5;241;43m.\u001B[39;49m\u001B[43mcolumns\u001B[49m\u001B[38;5;241;43m.\u001B[39;49m\u001B[43m_get_indexer_strict\u001B[49m\u001B[43m(\u001B[49m\u001B[43mkey\u001B[49m\u001B[43m,\u001B[49m\u001B[43m \u001B[49m\u001B[38;5;124;43m\"\u001B[39;49m\u001B[38;5;124;43mcolumns\u001B[39;49m\u001B[38;5;124;43m\"\u001B[39;49m\u001B[43m)\u001B[49m[\u001B[38;5;241m1\u001B[39m]\n\u001B[1;32m   4110\u001B[0m \u001B[38;5;66;03m# take() does not accept boolean indexers\u001B[39;00m\n\u001B[1;32m   4111\u001B[0m \u001B[38;5;28;01mif\u001B[39;00m \u001B[38;5;28mgetattr\u001B[39m(indexer, \u001B[38;5;124m\"\u001B[39m\u001B[38;5;124mdtype\u001B[39m\u001B[38;5;124m\"\u001B[39m, \u001B[38;5;28;01mNone\u001B[39;00m) \u001B[38;5;241m==\u001B[39m \u001B[38;5;28mbool\u001B[39m:\n",
      "File \u001B[0;32m~/PycharmProjects/practical-machine-learning/venv/lib/python3.12/site-packages/pandas/core/indexes/base.py:6195\u001B[0m, in \u001B[0;36mIndex._get_indexer_strict\u001B[0;34m(self, key, axis_name)\u001B[0m\n\u001B[1;32m   6192\u001B[0m     keyarr \u001B[38;5;241m=\u001B[39m com\u001B[38;5;241m.\u001B[39masarray_tuplesafe(keyarr)\n\u001B[1;32m   6194\u001B[0m \u001B[38;5;28;01mif\u001B[39;00m \u001B[38;5;28mself\u001B[39m\u001B[38;5;241m.\u001B[39m_index_as_unique:\n\u001B[0;32m-> 6195\u001B[0m     indexer \u001B[38;5;241m=\u001B[39m \u001B[38;5;28;43mself\u001B[39;49m\u001B[38;5;241;43m.\u001B[39;49m\u001B[43mget_indexer_for\u001B[49m\u001B[43m(\u001B[49m\u001B[43mkeyarr\u001B[49m\u001B[43m)\u001B[49m\n\u001B[1;32m   6196\u001B[0m     keyarr \u001B[38;5;241m=\u001B[39m \u001B[38;5;28mself\u001B[39m\u001B[38;5;241m.\u001B[39mreindex(keyarr)[\u001B[38;5;241m0\u001B[39m]\n\u001B[1;32m   6197\u001B[0m \u001B[38;5;28;01melse\u001B[39;00m:\n",
      "File \u001B[0;32m~/PycharmProjects/practical-machine-learning/venv/lib/python3.12/site-packages/pandas/core/indexes/base.py:6182\u001B[0m, in \u001B[0;36mIndex.get_indexer_for\u001B[0;34m(self, target)\u001B[0m\n\u001B[1;32m   6164\u001B[0m \u001B[38;5;250m\u001B[39m\u001B[38;5;124;03m\"\"\"\u001B[39;00m\n\u001B[1;32m   6165\u001B[0m \u001B[38;5;124;03mGuaranteed return of an indexer even when non-unique.\u001B[39;00m\n\u001B[1;32m   6166\u001B[0m \n\u001B[0;32m   (...)\u001B[0m\n\u001B[1;32m   6179\u001B[0m \u001B[38;5;124;03marray([0, 2])\u001B[39;00m\n\u001B[1;32m   6180\u001B[0m \u001B[38;5;124;03m\"\"\"\u001B[39;00m\n\u001B[1;32m   6181\u001B[0m \u001B[38;5;28;01mif\u001B[39;00m \u001B[38;5;28mself\u001B[39m\u001B[38;5;241m.\u001B[39m_index_as_unique:\n\u001B[0;32m-> 6182\u001B[0m     \u001B[38;5;28;01mreturn\u001B[39;00m \u001B[38;5;28;43mself\u001B[39;49m\u001B[38;5;241;43m.\u001B[39;49m\u001B[43mget_indexer\u001B[49m\u001B[43m(\u001B[49m\u001B[43mtarget\u001B[49m\u001B[43m)\u001B[49m\n\u001B[1;32m   6183\u001B[0m indexer, _ \u001B[38;5;241m=\u001B[39m \u001B[38;5;28mself\u001B[39m\u001B[38;5;241m.\u001B[39mget_indexer_non_unique(target)\n\u001B[1;32m   6184\u001B[0m \u001B[38;5;28;01mreturn\u001B[39;00m indexer\n",
      "File \u001B[0;32m~/PycharmProjects/practical-machine-learning/venv/lib/python3.12/site-packages/pandas/core/indexes/base.py:3880\u001B[0m, in \u001B[0;36mIndex.get_indexer\u001B[0;34m(self, target, method, limit, tolerance)\u001B[0m\n\u001B[1;32m   3878\u001B[0m method \u001B[38;5;241m=\u001B[39m clean_reindex_fill_method(method)\n\u001B[1;32m   3879\u001B[0m orig_target \u001B[38;5;241m=\u001B[39m target\n\u001B[0;32m-> 3880\u001B[0m target \u001B[38;5;241m=\u001B[39m \u001B[38;5;28;43mself\u001B[39;49m\u001B[38;5;241;43m.\u001B[39;49m\u001B[43m_maybe_cast_listlike_indexer\u001B[49m\u001B[43m(\u001B[49m\u001B[43mtarget\u001B[49m\u001B[43m)\u001B[49m\n\u001B[1;32m   3882\u001B[0m \u001B[38;5;28mself\u001B[39m\u001B[38;5;241m.\u001B[39m_check_indexing_method(method, limit, tolerance)\n\u001B[1;32m   3884\u001B[0m \u001B[38;5;28;01mif\u001B[39;00m \u001B[38;5;129;01mnot\u001B[39;00m \u001B[38;5;28mself\u001B[39m\u001B[38;5;241m.\u001B[39m_index_as_unique:\n",
      "File \u001B[0;32m~/PycharmProjects/practical-machine-learning/venv/lib/python3.12/site-packages/pandas/core/indexes/base.py:6683\u001B[0m, in \u001B[0;36mIndex._maybe_cast_listlike_indexer\u001B[0;34m(self, target)\u001B[0m\n\u001B[1;32m   6679\u001B[0m \u001B[38;5;28;01mdef\u001B[39;00m \u001B[38;5;21m_maybe_cast_listlike_indexer\u001B[39m(\u001B[38;5;28mself\u001B[39m, target) \u001B[38;5;241m-\u001B[39m\u001B[38;5;241m>\u001B[39m Index:\n\u001B[1;32m   6680\u001B[0m \u001B[38;5;250m    \u001B[39m\u001B[38;5;124;03m\"\"\"\u001B[39;00m\n\u001B[1;32m   6681\u001B[0m \u001B[38;5;124;03m    Analogue to maybe_cast_indexer for get_indexer instead of get_loc.\u001B[39;00m\n\u001B[1;32m   6682\u001B[0m \u001B[38;5;124;03m    \"\"\"\u001B[39;00m\n\u001B[0;32m-> 6683\u001B[0m     \u001B[38;5;28;01mreturn\u001B[39;00m \u001B[43mensure_index\u001B[49m\u001B[43m(\u001B[49m\u001B[43mtarget\u001B[49m\u001B[43m)\u001B[49m\n",
      "File \u001B[0;32m~/PycharmProjects/practical-machine-learning/venv/lib/python3.12/site-packages/pandas/core/indexes/base.py:7649\u001B[0m, in \u001B[0;36mensure_index\u001B[0;34m(index_like, copy)\u001B[0m\n\u001B[1;32m   7647\u001B[0m         \u001B[38;5;28;01mreturn\u001B[39;00m Index(index_like, copy\u001B[38;5;241m=\u001B[39mcopy, tupleize_cols\u001B[38;5;241m=\u001B[39m\u001B[38;5;28;01mFalse\u001B[39;00m)\n\u001B[1;32m   7648\u001B[0m \u001B[38;5;28;01melse\u001B[39;00m:\n\u001B[0;32m-> 7649\u001B[0m     \u001B[38;5;28;01mreturn\u001B[39;00m \u001B[43mIndex\u001B[49m\u001B[43m(\u001B[49m\u001B[43mindex_like\u001B[49m\u001B[43m,\u001B[49m\u001B[43m \u001B[49m\u001B[43mcopy\u001B[49m\u001B[38;5;241;43m=\u001B[39;49m\u001B[43mcopy\u001B[49m\u001B[43m)\u001B[49m\n",
      "File \u001B[0;32m~/PycharmProjects/practical-machine-learning/venv/lib/python3.12/site-packages/pandas/core/indexes/base.py:577\u001B[0m, in \u001B[0;36mIndex.__new__\u001B[0;34m(cls, data, dtype, copy, name, tupleize_cols)\u001B[0m\n\u001B[1;32m    574\u001B[0m klass \u001B[38;5;241m=\u001B[39m \u001B[38;5;28mcls\u001B[39m\u001B[38;5;241m.\u001B[39m_dtype_to_subclass(arr\u001B[38;5;241m.\u001B[39mdtype)\n\u001B[1;32m    576\u001B[0m arr \u001B[38;5;241m=\u001B[39m klass\u001B[38;5;241m.\u001B[39m_ensure_array(arr, arr\u001B[38;5;241m.\u001B[39mdtype, copy\u001B[38;5;241m=\u001B[39m\u001B[38;5;28;01mFalse\u001B[39;00m)\n\u001B[0;32m--> 577\u001B[0m result \u001B[38;5;241m=\u001B[39m \u001B[43mklass\u001B[49m\u001B[38;5;241;43m.\u001B[39;49m\u001B[43m_simple_new\u001B[49m\u001B[43m(\u001B[49m\u001B[43marr\u001B[49m\u001B[43m,\u001B[49m\u001B[43m \u001B[49m\u001B[43mname\u001B[49m\u001B[43m,\u001B[49m\u001B[43m \u001B[49m\u001B[43mrefs\u001B[49m\u001B[38;5;241;43m=\u001B[39;49m\u001B[43mrefs\u001B[49m\u001B[43m)\u001B[49m\n\u001B[1;32m    578\u001B[0m \u001B[38;5;28;01mif\u001B[39;00m dtype \u001B[38;5;129;01mis\u001B[39;00m \u001B[38;5;28;01mNone\u001B[39;00m \u001B[38;5;129;01mand\u001B[39;00m is_pandas_object \u001B[38;5;129;01mand\u001B[39;00m data_dtype \u001B[38;5;241m==\u001B[39m np\u001B[38;5;241m.\u001B[39mobject_:\n\u001B[1;32m    579\u001B[0m     \u001B[38;5;28;01mif\u001B[39;00m result\u001B[38;5;241m.\u001B[39mdtype \u001B[38;5;241m!=\u001B[39m data_dtype:\n",
      "File \u001B[0;32m~/PycharmProjects/practical-machine-learning/venv/lib/python3.12/site-packages/pandas/core/indexes/base.py:661\u001B[0m, in \u001B[0;36mIndex._simple_new\u001B[0;34m(cls, values, name, refs)\u001B[0m\n\u001B[1;32m    653\u001B[0m \u001B[38;5;250m\u001B[39m\u001B[38;5;124;03m\"\"\"\u001B[39;00m\n\u001B[1;32m    654\u001B[0m \u001B[38;5;124;03mWe require that we have a dtype compat for the values. If we are passed\u001B[39;00m\n\u001B[1;32m    655\u001B[0m \u001B[38;5;124;03ma non-dtype compat, then coerce using the constructor.\u001B[39;00m\n\u001B[1;32m    656\u001B[0m \n\u001B[1;32m    657\u001B[0m \u001B[38;5;124;03mMust be careful not to recurse.\u001B[39;00m\n\u001B[1;32m    658\u001B[0m \u001B[38;5;124;03m\"\"\"\u001B[39;00m\n\u001B[1;32m    659\u001B[0m \u001B[38;5;28;01massert\u001B[39;00m \u001B[38;5;28misinstance\u001B[39m(values, \u001B[38;5;28mcls\u001B[39m\u001B[38;5;241m.\u001B[39m_data_cls), \u001B[38;5;28mtype\u001B[39m(values)\n\u001B[0;32m--> 661\u001B[0m result \u001B[38;5;241m=\u001B[39m \u001B[38;5;28;43mobject\u001B[39;49m\u001B[38;5;241;43m.\u001B[39;49m\u001B[38;5;21;43m__new__\u001B[39;49m\u001B[43m(\u001B[49m\u001B[38;5;28;43mcls\u001B[39;49m\u001B[43m)\u001B[49m\n\u001B[1;32m    662\u001B[0m result\u001B[38;5;241m.\u001B[39m_data \u001B[38;5;241m=\u001B[39m values\n\u001B[1;32m    663\u001B[0m result\u001B[38;5;241m.\u001B[39m_name \u001B[38;5;241m=\u001B[39m name\n",
      "\u001B[0;31mKeyboardInterrupt\u001B[0m: "
     ]
    }
   ],
   "source": [
    "X_train, y_train = create_windows(train_df, columns_X, columns_y, window_size, stride)\n",
    "X_test, y_test = create_windows(test_df, columns_X, columns_y, window_size, stride)"
   ],
   "metadata": {
    "collapsed": false,
    "ExecuteTime": {
     "end_time": "2024-06-02T15:46:29.577545Z",
     "start_time": "2024-06-02T15:30:57.719894Z"
    }
   },
   "execution_count": 41
  },
  {
   "cell_type": "code",
   "outputs": [
    {
     "name": "stderr",
     "output_type": "stream",
     "text": [
      "/Users/khang.van/PycharmProjects/practical-machine-learning/venv/lib/python3.12/site-packages/keras/src/layers/rnn/rnn.py:204: UserWarning: Do not pass an `input_shape`/`input_dim` argument to a layer. When using Sequential models, prefer using an `Input(shape)` object as the first layer in the model instead.\n",
      "  super().__init__(**kwargs)\n"
     ]
    }
   ],
   "source": [
    "model = tf.keras.models.Sequential([\n",
    "    tf.keras.layers.LSTM(50, return_sequences=True, input_shape=(window_size, 1)),\n",
    "    tf.keras.layers.LSTM(50),\n",
    "    tf.keras.layers.Dense(2)\n",
    "])"
   ],
   "metadata": {
    "collapsed": false,
    "ExecuteTime": {
     "end_time": "2024-06-02T15:51:08.721224Z",
     "start_time": "2024-06-02T15:51:08.651846Z"
    }
   },
   "execution_count": 45
  },
  {
   "cell_type": "code",
   "outputs": [
    {
     "ename": "NameError",
     "evalue": "name 'Adam' is not defined",
     "output_type": "error",
     "traceback": [
      "\u001B[0;31m---------------------------------------------------------------------------\u001B[0m",
      "\u001B[0;31mNameError\u001B[0m                                 Traceback (most recent call last)",
      "Cell \u001B[0;32mIn[46], line 1\u001B[0m\n\u001B[0;32m----> 1\u001B[0m model\u001B[38;5;241m.\u001B[39mcompile(optimizer\u001B[38;5;241m=\u001B[39m\u001B[43mAdam\u001B[49m(learning_rate\u001B[38;5;241m=\u001B[39m\u001B[38;5;241m0.001\u001B[39m), loss\u001B[38;5;241m=\u001B[39m\u001B[38;5;124m'\u001B[39m\u001B[38;5;124mmean_squared_error\u001B[39m\u001B[38;5;124m'\u001B[39m)\n",
      "\u001B[0;31mNameError\u001B[0m: name 'Adam' is not defined"
     ]
    }
   ],
   "source": [
    "model.compile(optimizer=Adam(learning_rate=0.001), loss='mean_squared_error')"
   ],
   "metadata": {
    "collapsed": false,
    "ExecuteTime": {
     "end_time": "2024-06-02T15:52:29.632637Z",
     "start_time": "2024-06-02T15:52:29.621843Z"
    }
   },
   "execution_count": 46
  },
  {
   "cell_type": "code",
   "outputs": [],
   "source": [
    "history = model.fit(X_train, y_train, epochs=20, batch_size=16, validation_data=(X_test, y_test), verbose=2)"
   ],
   "metadata": {
    "collapsed": false
   }
  }
 ],
 "metadata": {
  "kernelspec": {
   "display_name": "Python 3 (ipykernel)",
   "language": "python",
   "name": "python3"
  },
  "language_info": {
   "codemirror_mode": {
    "name": "ipython",
    "version": 3
   },
   "file_extension": ".py",
   "mimetype": "text/x-python",
   "name": "python",
   "nbconvert_exporter": "python",
   "pygments_lexer": "ipython3",
   "version": "3.11.1"
  }
 },
 "nbformat": 4,
 "nbformat_minor": 2
}
